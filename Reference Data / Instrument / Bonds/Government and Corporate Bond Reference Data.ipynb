{
 "cells": [
  {
   "cell_type": "markdown",
   "id": "a4d1ad17",
   "metadata": {},
   "source": [
    "# Pre-canned Queries for Python\n",
    "## Function to call Government and Corporate Bond Reference Data\n",
    "This query demonstrates how using a list of different identifier types and identifiers, the user can request:\n",
    "  * Instrument level reference data including:\n",
    "  * Instrument Identifiers\n",
    "  * Coupon Schedule\n",
    "  * Amount Outstanding Schedule sorted in descending effective date order\n",
    "  * Identify the Valuation Quote (the quote used to calculate market capitalization of the issue)\n",
    "  * Quote level identifiers for all active quotes of the instrument\n",
    "  * The name, TRBC Scheme level 5, organization type, status, and ultimate parent ID for the issuer of the instrument\n",
    "The query demonstrates how fields that contain enumerated values can be configured to return a human readable value rather than the enumeration Entitlements: To access the data returned by this query, the user account must have licenses that include:\n",
    "  * Government and Corporate Bond Reference Data - PRS / FI_GOV_REFERENCE\n",
    "  * Organization Reference Data - PRS / BASIC_ENTITY\n",
    "The query requests instrument identifiers associated with the instrument - if the instrument being queried  has a SEDOL or CUSIP, the Identifier will be suppressed unless the user has the appropriate licenses (SYMBOLOGY / IDENTIFIER_TYPE_SEDOL and IDENTIFER_TYPE_SEDOL)\n",
    "\n",
    "\n",
    "tags :     `Government`, `Corporate`, `Reference`, `Instrument`, `Organization`, `Identifiers`\n",
    "## Import the library and load credentials\n",
    "Credentials used by this notebook are stored in the config_files/credentials.ipynb. Please edit credentials.ipynb to set your credentials and run the next cell to continue with the scripts "
   ]
  },
  {
   "cell_type": "code",
   "execution_count": null,
   "id": "dc1030a1",
   "metadata": {},
   "outputs": [],
   "source": [
    "from pathlib import Path \n",
    "import os\n",
    "\n",
    "%run ../../../config_files/credentials.ipynb \n",
    "%run ../../../config_files/environment_selection.ipynb"
   ]
  },
  {
   "cell_type": "markdown",
   "id": "0837a0de",
   "metadata": {},
   "source": [
    "To connect to the Refinitiv Data and opening a session,given function is used. To find out more about the library,you can visit [refinitiv-data library](https://pypi.org/project/refinitiv-data/)"
   ]
  },
  {
   "cell_type": "code",
   "execution_count": null,
   "id": "d02306b8",
   "metadata": {},
   "outputs": [],
   "source": [
    "session = rd.session.platform.Definition(\n",
    "    app_key=APP_KEY,\n",
    "    grant=rd.session.platform.GrantPassword(\n",
    "        username=RD_LOGIN, password=RD_PASSWORD\n",
    "    ),\n",
    ").get_session()\n",
    "session.open()\n"
   ]
  },
  {
   "cell_type": "markdown",
   "id": "879cab7f",
   "metadata": {},
   "source": [
    "## Graph call\n",
    "Graph call with given sets of samples below. "
   ]
  },
  {
   "cell_type": "code",
   "execution_count": null,
   "id": "6d919764",
   "metadata": {},
   "outputs": [],
   "source": [
    "%%writefile query_cache\n",
    "query GovernmentCorporateBondReferenceData($InstrumentList: [GovCorpInstrumentIdentifierArgs!]) {\n",
    "  GovCorpInstrument(identifiers: $InstrumentList) {\n",
    "    ObjectId\n",
    "    _metadata {\n",
    "      identifierTypeName\n",
    "      identifier\n",
    "    }\n",
    "    Reference {\n",
    "      SecurityDescription\n",
    "      MaturityDate\n",
    "      CouponTypeCode\n",
    "      CouponTypeCodeDescription: CouponTypeCode(format: Name, language: en_US, style: LongName)\n",
    "      Cic\n",
    "      CfiCode\n",
    "    }\n",
    "    AssetStatus {\n",
    "      AssetStatusCode\n",
    "      AssetStatusCodeDescription: AssetStatusCode(format: Name, language: en_US, style: LongName)\n",
    "      EffectiveFromDate\n",
    "    }\n",
    "    CouponRateSchedule {\n",
    "      CouponRate\n",
    "      EffectiveFromDate\n",
    "      InterestLegNumber\n",
    "      LastChangedDate\n",
    "    }\n",
    "    IssuanceDefinition {\n",
    "      DatedDate\n",
    "      IssueCurrencyIsoCode\n",
    "      IssueAmount\n",
    "    }\n",
    "    InterestDefinition {\n",
    "      DayCountCode_v2\n",
    "      DayCountCodeDescription: DayCountCode_v2(format: Name, language: en_US, style: LongName)\n",
    "    }\n",
    "    AmountOutstandingHistory(sort: {EffectiveFromDate: DESC}) {\n",
    "      CurrencyIsoCode\n",
    "      TotalOutstandingAmount\n",
    "      EffectiveFromDate\n",
    "      NetChangeCode\n",
    "      NetChangeCodeDescription: NetChangeCode(format: Name, language: en_US, style: LongName)\n",
    "    }\n",
    "    Identifiers {\n",
    "      EffectiveFromDate\n",
    "      IdentifierCode\n",
    "      IdentifierCodeDescription: IdentifierCode(format: Name, language: en_US, style: LongName)\n",
    "      IdentifierValue\n",
    "    }\n",
    "    Quotes {\n",
    "      ObjectId\n",
    "      Identifier(filter: {AND: [{IdentifierTypeCode: {IN: [\"ORC\", \"RIC\"]}}, {QuoteIsActiveFlag: {EQ: \"y\"}}]}) {\n",
    "        GlobalRegionCode\n",
    "        IdentifierTypeCode\n",
    "        IdentifierValue\n",
    "        ObjectTypeCode\n",
    "        QuoteContributorCode\n",
    "        QuoteCurrencyIsoCode\n",
    "        QuoteIsActiveFlag\n",
    "        QuotePriceSourceCode\n",
    "        QuotePriceSourceCodeDescription: QuotePriceSourceCode(format: Name, language: en_US, style: LongName)\n",
    "      }\n",
    "    }\n",
    "    Issuer {\n",
    "      ObjectId\n",
    "      Names {\n",
    "        Name {\n",
    "          OrganizationName(filter: {NameTypeCode: {EQ: \"LNG\"}}) {\n",
    "            Name\n",
    "            NameTypeCode\n",
    "            NameTypeCodeDescription: NameTypeCode(format: Name, language: en_US, style: LongName)\n",
    "          }\n",
    "        }\n",
    "      }\n",
    "      ClassificationTrbcPrimaryScheme_v2 {\n",
    "        Industry {\n",
    "          Name\n",
    "        }\n",
    "        Identifier {\n",
    "          Identifiers(filter: {ValueTypeId: {EQ: \"320159\"}}) {\n",
    "            Value\n",
    "            ValueTypeCode\n",
    "            ValueTypeId\n",
    "          }\n",
    "        }\n",
    "      }\n",
    "      Details {\n",
    "        OrganizationDetails {\n",
    "          JurisdictionOfIncorporation\n",
    "          OrganizationTier\n",
    "          OrganizationTypeCode(format: Name, language: en_US, style: LongName)\n",
    "          OrganizationSubTypeCode(format: Name, language: en_US, style: LongName)\n",
    "          OrganizationStatusCode\n",
    "          OrganizationStatusCodeDescription: OrganizationStatusCode(format: Name, language: en_US, style: LongName)\n",
    "        }\n",
    "      }\n",
    "      UltimateParentId\n",
    "    }\n",
    "  }\n",
    "}\n"
   ]
  },
  {
   "cell_type": "markdown",
   "id": "08ad0b5f",
   "metadata": {},
   "source": [
    "## Sample :  Find by a mixture of Identifier Types"
   ]
  },
  {
   "cell_type": "code",
   "execution_count": null,
   "id": "53908942",
   "metadata": {},
   "outputs": [],
   "source": [
    "\n",
    "variables = {'InstrumentList': [{'identifierTypeName': 'Isin', 'identifier': 'US645767AW49'}, {'identifierTypeName': 'Sedol', 'identifier': 'B4333T3'}, {'identifierTypeName': 'Cusip', 'identifier': '36966TDN9'}]}"
   ]
  },
  {
   "cell_type": "code",
   "execution_count": 3,
   "id": "9419a8dc",
   "metadata": {},
   "outputs": [
    {
     "data": {
      "test/plain": [
       "<table>\n    <tbody>\n    </tbody>\n</table>"
      ],
      "text/html": [
       "<table>\n    <tbody>\n    </tbody>\n</table>"
      ]
     },
     "metadata": {},
     "output_type": "display_data"
    }
   ],
   "source": [
    "output_format = 'handlebars'  # available: handlebars\n",
    "handlebars_template = 'Government and Corporate Bond Reference Data.html'\n",
    "%run ../../../config_files/config_request_handler.ipynb"
   ]
  },
  {
   "cell_type": "markdown",
   "id": "c0df5eab",
   "metadata": {},
   "source": [
    "## Close the default session when done"
   ]
  },
  {
   "cell_type": "code",
   "execution_count": null,
   "id": "cd6896f2",
   "metadata": {},
   "outputs": [],
   "source": [
    "session.close()"
   ]
  }
 ],
 "metadata": {},
 "nbformat": 4,
 "nbformat_minor": 5
}
