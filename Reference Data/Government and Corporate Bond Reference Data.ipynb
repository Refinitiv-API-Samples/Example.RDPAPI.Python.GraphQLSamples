{
 "cells": [
  {
   "cell_type": "markdown",
   "id": "f07921c9",
   "metadata": {},
   "source": [
    "# Pre-canned Queries for Python\n",
    "## Function to call Government and Corporate Bond Reference Data\n",
    "This query demonstrates how using a list of different identifier types and identifiers, the user can request:\n",
    "  * Instrument level reference data including:\n",
    "  * Instrument Identifiers\n",
    "  * Coupon Schedule\n",
    "  * Amount Outstanding Schedlue sorted in descending effective date order\n",
    "  * Identify the Valuation Quote (the quote used to calculate market capitalisation of the issue)\n",
    "  * Quote level identifiers for all active quotes of the instrument\n",
    "  * The name, TRBC Scheme level 5, organizsation type, status, and ultimate parent ID for the issuer of the instrument\n",
    "The query demonstrates how fields that contain enumerated values can be configured to return a human readable value rather than the enumeration Entitlements: To access the data returned by this query, the user account must have licences that include:\n",
    "  * Government and Corporate Bond Reference Data - PRS / FI_GOV_REFERENCE\n",
    "  * Organization Refence Data - PRS / BASIC_ENTITY\n",
    "The query requests instrument identifiers associated with the instrument - if the instrument being queried  has a SEDOL or CUSIP, the Identifier will be suppressed unless the user has the appropriate licences (SYMBOLOGY / IDENTIFIER_TYPE_SEDOL and IDENTIFER_TYPE_SEDOL)\n",
    "\n",
    "\n",
    "tags :     `Government`, `Corporate`, `Reference`, `Instrument`, `Organization`, `Identifiers`\n",
    "## Import the library and load credentials\n",
    "Credentials used by this notebook are stored in theconfig_files/credentials.ipynb. Please editcredentials.ipynb to set your credentials and run the next cell to continue with the scripts "
   ]
  },
  {
   "cell_type": "code",
   "execution_count": null,
   "id": "8318f781",
   "metadata": {},
   "outputs": [],
   "source": [
    "from pathlib import Path \n",
    "import os\n",
    "if Path.cwd().name != \"config_files\":\n",
    "    p = Path(\"../config_files/\") \n",
    "    os.chdir(p)\n",
    "\n",
    "%run credentials.ipynb \n",
    "%run environment_selection.ipynb"
   ]
  },
  {
   "cell_type": "markdown",
   "id": "9cc625df",
   "metadata": {},
   "source": [
    "To connect to the Refinitiv Data and opening a session,given function is used. To find out more about the library,you can visit [refinitiv-data library](https://pypi.org/project/refinitiv-data/)"
   ]
  },
  {
   "cell_type": "code",
   "execution_count": null,
   "id": "4ef00adc",
   "metadata": {},
   "outputs": [],
   "source": [
    "session = rdp.session.platform.Definition(\n",
    "    app_key=APP_KEY,\n",
    "    grant=rdp.session.platform.GrantPassword(\n",
    "        username=RDP_LOGIN, password=RDP_PASSWORD\n",
    "    ),\n",
    ").get_session()\n",
    "session.open()\n"
   ]
  },
  {
   "cell_type": "markdown",
   "id": "6e65692a",
   "metadata": {},
   "source": [
    "## Graph call\n",
    "Graph call with given sets of samples below. "
   ]
  },
  {
   "cell_type": "code",
   "execution_count": null,
   "id": "e45b3f4d",
   "metadata": {},
   "outputs": [],
   "source": [
    "%%writefile query_cache\n",
    "query GovernmentCorporateBondReferenceData($identifierTypeName: GovCorpInstrumentIdentifierTypeNameEnumArgs!, $identifier: String!) {\n",
    "  GovCorpInstrument(identifiers: [{identifierTypeName: $identifierTypeName, identifier: $identifier}]) {\n",
    "    ObjectId\n",
    "    _metadata{\n",
    "      identifierTypeName\n",
    "      identifier\n",
    "    }\n",
    "    Reference {\n",
    "      SecurityDescription\n",
    "      MaturityDate\n",
    "      CouponTypeCode\n",
    "      CouponTypeCodeDescription: CouponTypeCode(format: Name, language: en_US, style: LongName)\n",
    "      Cic\n",
    "      CfiCode\n",
    "    }\n",
    "    AssetStatus {\n",
    "      AssetStatusCode\n",
    "      AssetStatusCodeDescription: AssetStatusCode(format: Name, language: en_US, style: LongName)\n",
    "      EffectiveFromDate\n",
    "    }\n",
    "    CouponRateSchedule {\n",
    "      CouponRate\n",
    "      EffectiveFromDate\n",
    "      InterestLegNumber\n",
    "      LastChangedDate\n",
    "    }\n",
    "    IssuanceDefinition {\n",
    "      DatedDate\n",
    "      IssueCurrencyIsoCode\n",
    "      IssueAmount\n",
    "    }\n",
    "    InterestDefinition {\n",
    "      DayCountCode_v2\n",
    "      DayCountCodeDescription: DayCountCode_v2(format: Name, language: en_US, style: LongName)\n",
    "    }\n",
    "    AmountOutstandingHistory(sort: {EffectiveFromDate: DESC}) {\n",
    "      CurrencyIsoCode\n",
    "      TotalOutstandingAmount\n",
    "      EffectiveFromDate\n",
    "      NetChangeCode\n",
    "      NetChangeCodeDescription: NetChangeCode(format: Name, language: en_US, style: LongName)\n",
    "    }\n",
    "    Identifiers {\n",
    "      EffectiveFromDate\n",
    "      IdentifierCode\n",
    "      IdentifierCodeDescription:IdentifierCode(format:Name,language:en_US,style:LongName)\n",
    "      IdentifierValue\n",
    "    }\n",
    "    Quotes {\n",
    "      ObjectId\n",
    "      Identifier(filter: {AND: [{IdentifierTypeCode: {IN: [\"ORC\", \"RIC\"]}}, {QuoteIsActiveFlag: {EQ: \"y\"}}]}) {\n",
    "        GlobalRegionCode\n",
    "        IdentifierTypeCode\n",
    "        IdentifierValue\n",
    "        ObjectTypeCode\n",
    "        QuoteContributorCode\n",
    "        QuoteCurrencyIsoCode\n",
    "        QuoteIsActiveFlag\n",
    "        QuotePriceSourceCode\n",
    "        QuotePriceSourceCodeDescription: QuotePriceSourceCode(format: Name, language: en_US, style: LongName)\n",
    "      }\n",
    "    }\n",
    "    Issuer {\n",
    "      ObjectId\n",
    "      Names {\n",
    "        Name {\n",
    "          OrganizationName(filter: {NameTypeCode: {EQ: \"LNG\"}}) {\n",
    "            Name\n",
    "            NameTypeCode\n",
    "            NameTypeCodeDescription: NameTypeCode(format: Name, language: en_US, style: LongName)\n",
    "        }\n",
    "        }\n",
    "      }\n",
    "      ClassificationTrbcPrimaryScheme_v2 {\n",
    "        Industry {\n",
    "          Name\n",
    "        }\n",
    "        Identifier {\n",
    "          Identifiers(filter: {ValueTypeId: {EQ: \"320159\"}}) {\n",
    "            Value\n",
    "            ValueTypeCode\n",
    "            ValueTypeId\n",
    "          }\n",
    "        }\n",
    "      }\n",
    "      Details {\n",
    "        OrganizationDetails {\n",
    "          JurisdictionOfIncorporation\n",
    "          OrganizationTier\n",
    "          OrganizationTypeCode(format: Name, language: en_US, style: LongName)\n",
    "          OrganizationSubTypeCode(format: Name, language: en_US, style: LongName)\n",
    "          OrganizationStatusCode\n",
    "          OrganizationStatusCodeDescription: OrganizationStatusCode(format: Name, language: en_US, style: LongName)\n",
    "        }\n",
    "      }\n",
    "      UltimateParentId\n",
    "    }\n",
    "  }\n",
    "}\n"
   ]
  },
  {
   "cell_type": "markdown",
   "id": "89dc1a57",
   "metadata": {},
   "source": [
    "## Sample :  Query demonstrates how using a list of ISINs"
   ]
  },
  {
   "cell_type": "code",
   "execution_count": null,
   "id": "65bef7b9",
   "metadata": {},
   "outputs": [],
   "source": [
    "\n",
    "variables = {'identifierTypeName': 'Isin', 'identifier': 'US645767AW49'}"
   ]
  },
  {
   "cell_type": "code",
   "execution_count": null,
   "id": "33a98071",
   "metadata": {},
   "outputs": [],
   "source": [
    "%run config_request_handler.ipynb"
   ]
  },
  {
   "cell_type": "code",
   "execution_count": 3,
   "id": "27f079c3",
   "metadata": {},
   "outputs": [
    {
     "name": "stdout",
     "output_type": "stream",
     "text": [
      " \n",
      "    data: { \n",
      "        GovCorpInstrument: [ \n",
      "            { \n",
      "                ObjectId: 15628303271, \n",
      "                _metadata: { \n",
      "                    identifierTypeName: Isin, \n",
      "                    identifier: US645767AW49 \n",
      "                }, \n",
      "                Reference: { \n",
      "                    SecurityDescription: VZ     7.850 11/15/29 PUT, \n",
      "                    MaturityDate: 2029-11-15, \n",
      "                    CouponTypeCode: FXPV, \n",
      "                    CouponTypeCodeDescription.................... \n",
      "......................................... \n"
     ]
    }
   ],
   "source": [
    "%run code_execution.ipynb"
   ]
  },
  {
   "cell_type": "markdown",
   "id": "90676df7",
   "metadata": {},
   "source": [
    "## Sample :  Query demonstrates how using a list of Sedols"
   ]
  },
  {
   "cell_type": "code",
   "execution_count": null,
   "id": "689f4369",
   "metadata": {},
   "outputs": [],
   "source": [
    "\n",
    "variables = {'identifierTypeName': 'Sedol', 'identifier': 'B4333T3'}"
   ]
  },
  {
   "cell_type": "code",
   "execution_count": null,
   "id": "691fb003",
   "metadata": {},
   "outputs": [],
   "source": [
    "%run config_request_handler.ipynb"
   ]
  },
  {
   "cell_type": "code",
   "execution_count": 3,
   "id": "cb73fe97",
   "metadata": {},
   "outputs": [
    {
     "name": "stdout",
     "output_type": "stream",
     "text": [
      "reserved_to_be_populated"
     ]
    }
   ],
   "source": [
    "%run code_execution.ipynb"
   ]
  },
  {
   "cell_type": "markdown",
   "id": "b12570e3",
   "metadata": {},
   "source": [
    "## Sample :  Query demonstrates how using a list of Cusips"
   ]
  },
  {
   "cell_type": "code",
   "execution_count": null,
   "id": "c63814b8",
   "metadata": {},
   "outputs": [],
   "source": [
    "\n",
    "variables = {'identifierTypeName': 'Cusip', 'identifier': '36966TDN9'}"
   ]
  },
  {
   "cell_type": "code",
   "execution_count": null,
   "id": "d87e81f0",
   "metadata": {},
   "outputs": [],
   "source": [
    "%run config_request_handler.ipynb"
   ]
  },
  {
   "cell_type": "code",
   "execution_count": 3,
   "id": "79058f90",
   "metadata": {},
   "outputs": [
    {
     "name": "stdout",
     "output_type": "stream",
     "text": [
      "reserved_to_be_populated"
     ]
    }
   ],
   "source": [
    "%run code_execution.ipynb"
   ]
  },
  {
   "cell_type": "markdown",
   "id": "2065a3db",
   "metadata": {},
   "source": [
    "## Close the default session when done"
   ]
  },
  {
   "cell_type": "code",
   "execution_count": null,
   "id": "ad1df1e4",
   "metadata": {},
   "outputs": [],
   "source": [
    "session.close()"
   ]
  }
 ],
 "metadata": {},
 "nbformat": 4,
 "nbformat_minor": 5
}
