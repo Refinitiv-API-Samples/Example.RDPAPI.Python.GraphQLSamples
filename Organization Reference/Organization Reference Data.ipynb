{
 "cells": [
  {
   "cell_type": "markdown",
   "id": "31f1dd6f",
   "metadata": {},
   "source": [
    "# Pre-canned Queries for Python\n",
    "## Function to call Organization Reference Data\n",
    "This query demonstrates using a list of Legal Entity Identifiers to return Organization Reference Data:\n",
    "  * Demonstrates how the Domicile of the Organizartion can be represented by the name, and ISO 31661 Alpha 2 code\n",
    "  * The different styles of name and language that are available\n",
    "  * Business description (showing how to filter the result by specifying a language PermID 505062 - English)\n",
    "  * The identifiers associated with the organization (including Tax Ids, Company Registration Ids)\n",
    "  * The addresses and phone / fax numbers accociated with the organization\n",
    "  * Organization Reference Data\n",
    "  * TRBC and NAICS Classification Description and Scheme values\n",
    "  * Organizations related to the organization being queried. In this example, the query links to a child instance of the OrganizationReference model for the Registration Authority (where the user would have acess to all attributes in the data model), where as the Tax Authority, Primary Regulator, and Ultimate Parent of the organizartion are identified by their Organiz`tion PermIDs.` \n",
    "The query demonstrates how fields that contain enumerated values can be configured to return a human readable value rather than the enumerated value. Each field that contains an enumerated value is followed by a request for the human readable value. Depending ono the nature of the content of the field, this human readable value is either a description, or a recognised identifier. The data returned is not exhaustive, but is intended to demonstrate what kind of data is available, how to apply filters to constrain the response where multiple records are returned, and how to expand enumerated values.\n",
    "\n",
    "\n",
    "tags :     `Organiztion`, `Reference`, `Classification`, `Identifiers`\n",
    "## Import the library and load credentials\n",
    "Credentials used by this notebook are stored in theconfig_files/credentials.ipynb. Please editcredentials.ipynb to set your credentials and run the next cell to continue with the scripts "
   ]
  },
  {
   "cell_type": "code",
   "execution_count": null,
   "id": "49d66a10",
   "metadata": {},
   "outputs": [],
   "source": [
    "from pathlib import Path \n",
    "import os\n",
    "if Path.cwd().name != \"config_files\":\n",
    "    p = Path(\"../config_files/\") \n",
    "    os.chdir(p)\n",
    "\n",
    "%run credentials.ipynb \n",
    "%run environment_selection.ipynb"
   ]
  },
  {
   "cell_type": "markdown",
   "id": "3fd96aec",
   "metadata": {},
   "source": [
    "To connect to the Refinitiv Data and opening a session,given function is used. To find out more about the library,you can visit [refinitiv-data library](https://pypi.org/project/refinitiv-data/)"
   ]
  },
  {
   "cell_type": "code",
   "execution_count": null,
   "id": "7d18e0d0",
   "metadata": {},
   "outputs": [],
   "source": [
    "session = rdp.session.platform.Definition(\n",
    "    app_key=APP_KEY,\n",
    "    grant=rdp.session.platform.GrantPassword(\n",
    "        username=RDP_LOGIN, password=RDP_PASSWORD\n",
    "    ),\n",
    ").get_session()\n",
    "session.open()\n"
   ]
  },
  {
   "cell_type": "markdown",
   "id": "8796d0b2",
   "metadata": {},
   "source": [
    "## Graph call\n",
    "Graph call with given sets of samples below. "
   ]
  },
  {
   "cell_type": "code",
   "execution_count": null,
   "id": "9c543843",
   "metadata": {},
   "outputs": [],
   "source": [
    "%%writefile query_cache\n",
    "query OrganizationData($identifierTypeName: OrganizationReferenceIdentifierTypeNameEnumArgs!, $identifier: String!) {\n",
    "  OrganizationReference(identifiers: [{identifierTypeName: $identifierTypeName, identifier: $identifier}]) {\n",
    "    _metadata {\n",
    "      identifier\n",
    "    }\n",
    "    ObjectId\n",
    "    OrganizationDomicile_v2 {\n",
    "      Geography {\n",
    "        LongName\n",
    "      }\n",
    "      Identifier {\n",
    "        Identifiers(filter: {ValueTypeId: {EQ: \"320099\"}}) {\n",
    "          Value\n",
    "          ValueTypeCode\n",
    "          ValueTypeId\n",
    "        }\n",
    "      }\n",
    "    }\n",
    "    Names {\n",
    "      Name {\n",
    "        OrganizationName {\n",
    "          NameTypeCode\n",
    "          NameTypeCodeDescr: NameTypeCode(format: Name, style: LongName, language: en_US)\n",
    "          SequenceNumber\n",
    "          LanguageId_v2\n",
    "          LanguageId_v2Descr: LanguageId_v2(format: Bcp47)\n",
    "          ProviderId\n",
    "          ProviderIdDescr: ProviderId(format: Name, style: LongName, language: en_US)\n",
    "          EffectiveFromDate\n",
    "          LastModifiedDate\n",
    "          Name\n",
    "          NormalizedName\n",
    "          TransliteratedName\n",
    "          PrimaryNameFlag\n",
    "          SourceLink\n",
    "          SourceTypeId\n",
    "          SourceTypeIdDescr: SourceTypeId(format: Name, style: LongName, language: en_US)\n",
    "          SourceUpdateDate\n",
    "        }\n",
    "      }\n",
    "    }\n",
    "    Business {\n",
    "      Description (filter:{LanguageId:{EQ:\"505062\"}}) {\n",
    "        LanguageId\n",
    "        LanguageIdDescr: LanguageId(format: Bcp47)\n",
    "        BusinessDescriptionEffectiveFrom\n",
    "        BusinessDescription\n",
    "        BusinessDescriptionLastModified\n",
    "        Provenance {\n",
    "          SourceTypeCode_v2\n",
    "          SourceTypeCode_v2Descr: SourceTypeCode_v2(format: Name, style: LongName, language: en_US)\n",
    "          SourceFilingDate\n",
    "          LanguageId\n",
    "          LanguageIdDescr: LanguageId(format: Bcp47)\n",
    "          SourceLink\n",
    "          SourceUpdateDate\n",
    "        }\n",
    "      }\n",
    "    }\n",
    "    OrganizationIdentifiers {\n",
    "      IdentifierTypeId_v2\n",
    "      IdentifierTypeId_v2Descr: IdentifierTypeId_v2(format: Name, style: LongName, language: en_US)\n",
    "      IdentifierData {\n",
    "        Identifier\n",
    "        IdentifierCreatedDate\n",
    "        IdentifierEffectiveFrom\n",
    "        LastModifiedDate\n",
    "        Source\n",
    "        SourceLastUpdateDate\n",
    "        SourceTypeCode_v2\n",
    "        SourceUpdateDate\n",
    "      }\n",
    "    }\n",
    "    Addresses {\n",
    "      AddressTypeCode\n",
    "      AddressTypeCodeDescr: AddressTypeCode(format: Name, style: LongName, language: en_US)\n",
    "      LanguageId_v2\n",
    "      LanguageId_v2Descr: LanguageId_v2(format: Bcp47)\n",
    "      EffectiveFrom\n",
    "      AddressLastModifiedDate\n",
    "      AddressSourceLink\n",
    "      Line1\n",
    "      Line2\n",
    "      Line3\n",
    "      City\n",
    "      StateProvinceOfficialCode\n",
    "      StateProvinceId_v2\n",
    "      StateProvinceId_v2Descr:StateProvinceId_v2(format:Name,style:LongName,language:en_US)\n",
    "      CountryId_v2\n",
    "      CountryId_v2Descr: CountryId_v2(format: Name, style: LongName, language: en_US)\n",
    "      CountryId_v2Iso: CountryId_v2(format: Iso_31661_2)\n",
    "      PostalCode\n",
    "      Line1Transliterated\n",
    "      Line2Transliterated\n",
    "      Line3Transliterated\n",
    "      SourceTypeCode_v2\n",
    "      SourceTypeCode_v2Descr: SourceTypeCode_v2(format: Name, style: LongName, language: en_US)\n",
    "      SourceUpdateDate\n",
    "    }\n",
    "    OrganizationPhone {\n",
    "      OrganizationPhoneFaxType\n",
    "      OrganizationPhoneFaxTypeDescr: OrganizationPhoneFaxType(format: Name, style: LongName, language: en_US)\n",
    "      OrganizationPhoneFaxEffectiveFrom\n",
    "      OrganizationPhoneFaxLastModified\n",
    "      OrganizationPhoneFaxNumber\n",
    "      OrganizationPhoneFaxSourceLink\n",
    "      SourceTypeCode_v2\n",
    "      SourceTypeCode_v2Descr: SourceTypeCode_v2(format: Name, style: LongName, language: en_US)\n",
    "      SourceUpdateDate\n",
    "    }\n",
    "    Details {\n",
    "      OrganizationDetails {\n",
    "        JurisdictionOfIncorporation\n",
    "        OrganizationTier\n",
    "        OrganizationStatusCode\n",
    "        OrganizationStatusCodeDescr: OrganizationStatusCode(format: Name, style: LongName, language: en_US)\n",
    "        OrganizationTypeCode\n",
    "        OrganizationTypeCodeDescr: OrganizationTypeCode(format: Name, style: LongName, language: en_US)\n",
    "        OrganizationSubTypeCode\n",
    "        OrganizationSubTypeCodeDescr: OrganizationSubTypeCode(format: Name, style: LongName, language: en_US)\n",
    "        FoundedDay\n",
    "        FoundedMonth\n",
    "        FoundedYear\n",
    "        PublicFlag\n",
    "        IpoDate\n",
    "        OrganizationWebsite\n",
    "      }\n",
    "    }\n",
    "    ClassificationTrbcPrimaryScheme_v2 {\n",
    "      Industry {\n",
    "        LongName\n",
    "        Names(filter: {AND: [{LanguageId: {EQ: \"505074\"}}, {NameTypeId: {EQ: \"404502\"}}]}) {\n",
    "          LanguageId\n",
    "          Name\n",
    "          NameOrder\n",
    "          NameTypeId\n",
    "        }\n",
    "      }\n",
    "      Identifier {\n",
    "        Identifiers (filter:{ValueTypeId:{EQ:\"320159\"}}) {\n",
    "          Value\n",
    "          ValueTypeCode\n",
    "          ValueTypeId\n",
    "        }\n",
    "      }\n",
    "    }\n",
    "    ClassificationNaicsPrimaryScheme_v2 {\n",
    "      Industry {\n",
    "        LongName\n",
    "        Names(filter: {AND: [{LanguageId: {EQ: \"505074\"}}, {NameTypeId: {EQ: \"404502\"}}]}) {\n",
    "          LanguageId\n",
    "          Name\n",
    "          NameOrder\n",
    "          NameTypeId\n",
    "        }\n",
    "      }\n",
    "      Identifier {\n",
    "        Identifiers {\n",
    "          Value\n",
    "          ValueTypeCode\n",
    "          ValueTypeId\n",
    "        }\n",
    "      }\n",
    "    }\n",
    "    RegistrationAuthority{\n",
    "      ObjectId\n",
    "      Names{\n",
    "        Name{\n",
    "          OrganizationName(filter:{NameTypeCode:{EQ:\"LNG\"}}) {\n",
    "            Name\n",
    "          }\n",
    "        }\n",
    "      }\n",
    "    }\n",
    "    TaxAuthorityId\n",
    "    PrimaryRegulatorId\n",
    "    UltimateParentId\n",
    "  }\n",
    "}\n"
   ]
  },
  {
   "cell_type": "markdown",
   "id": "82cab3b5",
   "metadata": {},
   "source": [
    "## Sample :  Query demonstrates using a list of Legal Entity Identifiers to return Organization Reference Data"
   ]
  },
  {
   "cell_type": "code",
   "execution_count": null,
   "id": "dc7af518",
   "metadata": {},
   "outputs": [],
   "source": [
    "\n",
    "variables = {'identifierTypeName': 'LEI', 'identifier': '213800QAUUUP6I445N30'}"
   ]
  },
  {
   "cell_type": "code",
   "execution_count": null,
   "id": "139689e5",
   "metadata": {},
   "outputs": [],
   "source": [
    "%run config_request_handler.ipynb"
   ]
  },
  {
   "cell_type": "code",
   "execution_count": 3,
   "id": "bd4632c5",
   "metadata": {},
   "outputs": [
    {
     "name": "stdout",
     "output_type": "stream",
     "text": [
      " \n",
      "    data: { \n",
      "        OrganizationReference: [ \n",
      "            { \n",
      "                _metadata: { \n",
      "                    identifier: 213800QAUUUP6I445N30 \n",
      "                }, \n",
      "                ObjectId: 4298007752, \n",
      "                OrganizationDomicile_v2: { \n",
      "                    Geography: { \n",
      "                        LongName: United Kingdom \n",
      "                    }, \n",
      "                    Identifier: { \n",
      "                        Identifiers: [ \n",
      "                            { \n",
      "                       .................... \n",
      "......................................... \n"
     ]
    }
   ],
   "source": [
    "%run code_execution.ipynb"
   ]
  },
  {
   "cell_type": "markdown",
   "id": "0e391d33",
   "metadata": {},
   "source": [
    "## Sample :  Query demonstrates using a list of Legal Entity Identifiers to return Organization Reference Data"
   ]
  },
  {
   "cell_type": "code",
   "execution_count": null,
   "id": "b0514822",
   "metadata": {},
   "outputs": [],
   "source": [
    "\n",
    "variables = {'identifierTypeName': 'LEI', 'identifier': '54930035YLO0PKMDT602'}"
   ]
  },
  {
   "cell_type": "code",
   "execution_count": null,
   "id": "746de828",
   "metadata": {},
   "outputs": [],
   "source": [
    "%run config_request_handler.ipynb"
   ]
  },
  {
   "cell_type": "code",
   "execution_count": 3,
   "id": "332d545c",
   "metadata": {},
   "outputs": [
    {
     "name": "stdout",
     "output_type": "stream",
     "text": [
      "reserved_to_be_populated"
     ]
    }
   ],
   "source": [
    "%run code_execution.ipynb"
   ]
  },
  {
   "cell_type": "markdown",
   "id": "94138a42",
   "metadata": {},
   "source": [
    "## Close the default session when done"
   ]
  },
  {
   "cell_type": "code",
   "execution_count": null,
   "id": "d784cacc",
   "metadata": {},
   "outputs": [],
   "source": [
    "session.close()"
   ]
  }
 ],
 "metadata": {},
 "nbformat": 4,
 "nbformat_minor": 5
}
