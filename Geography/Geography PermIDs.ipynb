{
 "cells": [
  {
   "cell_type": "markdown",
   "id": "539ab789",
   "metadata": {},
   "source": [
    "# Pre-canned Queries for Python\n",
    "## Function to call Geography PermIDs\n",
    "This query calls the Geography data model using the list of Geography PermIDs listed in Query Variables. The query returns all content items in the model:\n",
    " * AdminStatus\n",
    " * Identifier\n",
    " * Geography\n",
    "\n",
    " Additionally, three relationships are called:\n",
    "\n",
    " *CountryCapital* - which creates a new instance of the Geography\n",
    "                     data model, and requests the name of the resulting\n",
    "                     geograpghy PermID\n",
    "\n",
    " *CountryCurrency* - which creates a new instance of the Currency data\n",
    "                     model, and uses a filter to return the Iso4217 currency code.\n",
    "\n",
    " *GeospatialChildren* - which creates a new instance of the Geography data model\n",
    "                        and requests the names of the resulting children. This\n",
    "                        relationship is also used demonstrate how to return an\n",
    "                        array of the Geography PermIDs of the resulting children\n",
    "                        without linking to a new instance of the Geography data model.\n",
    "\n",
    "\n",
    "tags :     `AdminStatus`, `Identifier`, `Geography`, `Country`\n",
    "## Import the library and load credentials\n",
    "Credentials used by this notebook are stored in the config_files/credentials.ipynb. Please edit credentials.ipynb to set your credentials and run the next cell to continue with the scripts "
   ]
  },
  {
   "cell_type": "code",
   "execution_count": null,
   "id": "179962f3",
   "metadata": {},
   "outputs": [],
   "source": [
    "from pathlib import Path \n",
    "import os\n",
    "\n",
    "%run ../config_files/credentials.ipynb \n",
    "%run ../config_files/environment_selection.ipynb"
   ]
  },
  {
   "cell_type": "markdown",
   "id": "a76e2a08",
   "metadata": {},
   "source": [
    "To connect to the Refinitiv Data and opening a session,given function is used. To find out more about the library,you can visit [refinitiv-data library](https://pypi.org/project/refinitiv-data/)"
   ]
  },
  {
   "cell_type": "code",
   "execution_count": null,
   "id": "e97a54c6",
   "metadata": {},
   "outputs": [],
   "source": [
    "session = rd.session.platform.Definition(\n",
    "    app_key=APP_KEY,\n",
    "    grant=rd.session.platform.GrantPassword(\n",
    "        username=RD_LOGIN, password=RD_PASSWORD\n",
    "    ),\n",
    ").get_session()\n",
    "session.open()\n"
   ]
  },
  {
   "cell_type": "markdown",
   "id": "b07d5d85",
   "metadata": {},
   "source": [
    "## Graph call\n",
    "Graph call with given sets of samples below. "
   ]
  },
  {
   "cell_type": "code",
   "execution_count": null,
   "id": "4e855e75",
   "metadata": {},
   "outputs": [],
   "source": [
    "%%writefile query_cache\n",
    "query Geography($GeographyList: [String!]) {\n",
    "    Geography(objectIds: $GeographyList) {\n",
    "      AdminStatus {\n",
    "        AdminStatus\n",
    "        AdminStatusReason\n",
    "        EffectiveFromDate\n",
    "        EffectiveToDate\n",
    "        EntityCreatedDate\n",
    "        EntityModifiedDate\n",
    "        GeographyId\n",
    "        NotDeduplicatedFlag\n",
    "        UnconfirmedFlag\n",
    "      }\n",
    "      Identifier {\n",
    "        GeographyId\n",
    "        # The filter applied here limits the identifier types to:\n",
    "        #   320128 - Iso31661Numeric\n",
    "        #   320099 - Iso31661Alpha2\n",
    "        #   320135 - Iso31661Alpha3\n",
    "        Identifiers(filter: {ValueTypeId: {IN: [\"320128\", \"320099\", \"320135\"]}}) {\n",
    "          EffectiveFromDate\n",
    "          EffectiveToDate\n",
    "          PrimaryFlag\n",
    "          ProviderId\n",
    "          ProviderType\n",
    "          SourceLinkUrl\n",
    "          SourceType\n",
    "          SourceUpdateDate\n",
    "          TypeId\n",
    "          Value\n",
    "          ValueOrder\n",
    "          ValueTypeCode\n",
    "          ValueTypeId\n",
    "        }\n",
    "      }\n",
    "      Geography {\n",
    "        ActiveFromDate\n",
    "        ActiveToDate\n",
    "        ElevationNumber\n",
    "        GeographyId\n",
    "        LatitudeNumber\n",
    "        LongName\n",
    "        LongitudeNumber\n",
    "        Name\n",
    "        GeographyTypes {\n",
    "          EffectiveFromDate\n",
    "          EffectiveToDate\n",
    "          TypeId\n",
    "        }\n",
    "\n",
    "        # The filter applied here limits the Names records returned to those where:\n",
    "        #   The language of the name is 505074 - US English\n",
    "        #   The type of name returned is 404500 - LongDescription\n",
    "        Names(filter: {AND: [{LanguageId: {EQ: \"505074\"}}, {NameTypeId: {EQ: \"404500\"}}]}) {\n",
    "          EffectiveFromDate\n",
    "          EffectiveToDate\n",
    "          LanguageId\n",
    "          Name\n",
    "          NameOrder\n",
    "          NameTypeId\n",
    "        }\n",
    "      }\n",
    "\n",
    "      # The CountryCapital relationship returns the Geography PermID of the capital city\n",
    "      # of a country when the user provides a Geography PermID of a country. The relationship\n",
    "      # creates a child inststance of the Geography data model, where the user can access all\n",
    "      # attributes of the model.\n",
    "      CountryCapital {\n",
    "        Geography {\n",
    "          LatitudeNumber\n",
    "          LongitudeNumber\n",
    "          Names(filter: {AND: [{LanguageId: {EQ: \"505074\"}}, {NameTypeId: {EQ: \"404500\"}}]}) {\n",
    "            EffectiveFromDate\n",
    "            EffectiveToDate\n",
    "            LanguageId\n",
    "            Name\n",
    "            NameOrder\n",
    "            NameTypeId\n",
    "          }\n",
    "        }\n",
    "      }\n",
    "        # The CountryCurrency relationship returns the Currency PermID of the currency of the\n",
    "        # country represented by the Geography PermID being queried. The relationship links to the\n",
    "        # Currency data model, where the user can access all attributes of the model. All fields\n",
    "        # within CountryCurrency {..} are from the Currency data model.\n",
    "      CountryCurrency {\n",
    "        ObjectId\n",
    "        Currency {\n",
    "          DecimalPlaces\n",
    "          Name\n",
    "        }\n",
    "        Identifier {\n",
    "          # The filter applied here limits the type of identifier returned to 320001 - Iso4217\n",
    "\n",
    "          Identifiers(filter: {ValueTypeId: {EQ: \"320001\"}}) {\n",
    "            EffectiveFromDate\n",
    "            EffectiveToDate\n",
    "            PrimaryFlag\n",
    "            ProviderId\n",
    "            ProviderType\n",
    "            SourceLinkUrl\n",
    "            SourceType\n",
    "            SourceUpdateDate\n",
    "            TypeId\n",
    "            Value\n",
    "            ValueOrder\n",
    "            ValueTypeCode\n",
    "            ValueTypeId\n",
    "          }\n",
    "        }\n",
    "      }\n",
    "\n",
    "      # This relationship returns the Geography PermIDs of the objects that\n",
    "      # are classed as children of the Geography PermID bewing queried. Where\n",
    "      # a country Geography PermID is used, the children will be the states, counties\n",
    "      # or prefectures (for example) of the country. The relationship creates a child\n",
    "      # instance of the Geography model, where the user can access all attributes of\n",
    "      # the model.\n",
    "      # In this example the query simply returns the name of the child GeographyIDs\n",
    "      GeospatialChildren {\n",
    "        ObjectId\n",
    "        Geography {\n",
    "          Name\n",
    "        }\n",
    "      }\n",
    "      # As an alternative to using GeospatialChildren, which creates a child instance of the\n",
    "      # Geography model, users can simply request an array of the PermIDs that this relatiopnship\n",
    "      # returns\n",
    "      GeospatialChildrenId\n",
    "    }\n",
    "  }\n"
   ]
  },
  {
   "cell_type": "markdown",
   "id": "029fbba8",
   "metadata": {},
   "source": [
    "## Sample :  Query calls the Geography data model using the list of Geography PermIDs"
   ]
  },
  {
   "cell_type": "code",
   "execution_count": null,
   "id": "9a2b9261",
   "metadata": {},
   "outputs": [],
   "source": [
    "\n",
    "variables = {'GeographyList': ['100148', '100025']}"
   ]
  },
  {
   "cell_type": "code",
   "execution_count": 3,
   "id": "a6fba604",
   "metadata": {},
   "outputs": [
    {
     "data": {
      "text/plain": [
       "{\n    \u001b[94m\"data\"\u001b[39;49;00m: {\n        \u001b[94m\"Geography\"\u001b[39;49;00m: [\n            {\n                \u001b[94m\"AdminStatus\"\u001b[39;49;00m: {\n                    \u001b[94m\"AdminStatus\"\u001b[39;49;00m: \u001b[33m\"Published\"\u001b[39;49;00m,\n                    \u001b[94m\"AdminStatusReason\"\u001b[39;49;00m: \u001b[34mnull\u001b[39;49;00m,\n                    \u001b[94m\"EffectiveFromDate\"\u001b[39;49;00m: \u001b[33m\"2010-03-26T12:06:25.000Z\"\u001b[39;49;00m,\n                    \u001b[94m\"EffectiveToDate\"\u001b[39;49;00m: \u001b[34mnull\u001b[39;49;00m,\n                    \u001b[94m\"EntityCreatedDate\"\u001b[39;49;00m: \u001b[33m\"2010-03-26T12:06:25.000Z\"\u001b[39;49;00m,\n                    \u001b[94m\"EntityModifiedDate\"\u001b[39;49;00m: \u001b[33m\"2010-03-26T12:06:25.000Z\"\u001b[39;49;00m,\n                    \u001b[94m\"GeographyId\"\u001b[39;49;00m: \u001b[33m\"100025\"\u001b[39;49;00m,\n                    \u001b[94m\"NotDeduplicatedFlag\"\u001b[39;49;00m: \u001b[34mnull\u001b[39;49;00m,\n                    \u001b[94m\"UnconfirmedFlag\"\u001b[39;49;00m: \u001b[34mnull\u001b[39;49;00m\n                },\n                \u001b[94m\"Identifier\"\u001b[39;49;00m: {\n                    \u001b[94m\"GeographyId\"\u001b[39;49;00m: \u001b[33m\"100025\"\u001b[39;49;00m,\n                    \u001b[94m\"Identifiers\"\u001b[39;49;00m: [\n                        {\n                            \u001b[94m\"EffectiveFromDate\"\u001b[39;49;00m: \u001b[33m\"1753-01-01T00:00:00.000Z\"\u001b[39;49;00m,\n                            \u001b[94m\"EffectiveToDate\"\u001b[39;49;00m: \u001b[34mnull\u001b[39;49;00m,\n                            \u001b[94m\"PrimaryFlag\"\u001b[39;49;00m: \u001b[34mfalse\u001b[39;49;00m,\n                            \u001b[94m\"ProviderId\"\u001b[39;49;00m: \u001b[34mnull\u001b[39;49;00m,\n                            \u001b[94m\"ProviderType\"\u001b[39;49;00m: \u001b[34mnull\u001b[39;49;00m,\n                            \u001b[94m\"SourceLinkUrl\"\u001b[39;49;00m: \u001b[34mnull\u001b[39;49;00m,\n                            \u001b[94m\"SourceType\"\u001b[39;49;00m: \u001b[34mnull\u001b[39;49;00m,\n                            \u001b[94m\"SourceUpdateDate\"\u001b[39;49;00m: \u001b[34mnull\u001b[39;49;00m,\n                            \u001b[94m\"TypeId\"\u001b[39;49;00m: \u001b[33m\"404007\"\u001b[39;49;00m,\n                            \u001b[94m\"Value\"\u001b[39;49;00m: \u001b[33m\"AU\"\u001b[39;49;00m,\n                            \u001b[94m\"ValueOrder\"\u001b[39;49;00m: \u001b[33m\"1\"\u001b[39;49;00m,\n                            \u001b[94m\"ValueTypeCode\"\u001b[39;49;00m: \u001b[33m\"Iso31661Alpha2\"\u001b[39;49;00m,\n                            \u001b[94m\"ValueTypeId\"\u001b[39;49;00m: \u001b[33m\"320099\"\u001b[39;49;00m\n                        },\n                        \u001b[33m\"...\"\u001b[39;49;00m\n                    ]\n                },\n                \u001b[94m\"Geography\"\u001b[39;49;00m: {\n                    \u001b[94m\"ActiveFromDate\"\u001b[39;49;00m: \u001b[33m\"1753-01-01T00:00:00.000Z\"\u001b[39;49;00m,\n                    \u001b[94m\"ActiveToDate\"\u001b[39;49;00m: \u001b[34mnull\u001b[39;49;00m,\n                    \u001b[94m\"ElevationNumber\"\u001b[39;49;00m: \u001b[34mnull\u001b[39;49;00m,\n                    \u001b[94m\"GeographyId\"\u001b[39;49;00m: \u001b[33m\"100025\"\u001b[39;49;00m,\n                    \u001b[94m\"LatitudeNumber\"\u001b[39;49;00m: \u001b[34mnull\u001b[39;49;00m,\n                    \u001b[94m\"LongName\"\u001b[39;49;00m: \u001b[33m\"Australia\"\u001b[39;49;00m,\n                    \u001b[94m\"LongitudeNumber\"\u001b[39;49;00m: \u001b[34mnull\u001b[39;49;00m,\n                    \u001b[94m\"Name\"\u001b[39;49;00m: \u001b[33m\"Australia (Country)\"\u001b[39;49;00m,\n                    \u001b[94m\"GeographyTypes\"\u001b[39;49;00m: [\n                        {\n                            \u001b[94m\"EffectiveFromDate\"\u001b[39;49;00m: \u001b[33m\"1753-01-01T00:00:00.000Z\"\u001b[39;49;00m,\n                            \u001b[94m\"EffectiveToDate\"\u001b[39;49;00m: \u001b[34mnull\u001b[39;49;00m,\n                            \u001b[94m\"TypeId\"\u001b[39;49;00m: \u001b[33m\"308005\"\u001b[39;49;00m\n                        },\n                        \u001b[33m\"...\"\u001b[39;49;00m\n                    ],\n                    \u001b[94m\"Names\"\u001b[39;49;00m: [\n                        {\n                            \u001b[94m\"EffectiveFromDate\"\u001b[39;49;00m: \u001b[33m\"1753-01-01T00:00:00.000Z\"\u001b[39;49;00m,\n                            \u001b[94m\"EffectiveToDate\"\u001b[39;49;00m: \u001b[34mnull\u001b[39;49;00m,\n                            \u001b[94m\"LanguageId\"\u001b[39;49;00m: \u001b[33m\"505074\"\u001b[39;49;00m,\n                            \u001b[94m\"Name\"\u001b[39;49;00m: \u001b[33m\"Australia\"\u001b[39;49;00m,\n                            \u001b[94m\"NameOrder\"\u001b[39;49;00m: \u001b[34m1\u001b[39;49;00m,\n                            \u001b[94m\"NameTypeId\"\u001b[39;49;00m: \u001b[33m\"404500\"\u001b[39;49;00m\n                        },\n                        \u001b[33m\"...\"\u001b[39;49;00m\n                    ]\n                },\n                \u001b[94m\"CountryCapital\"\u001b[39;49;00m: [\n                    {\n                        \u001b[94m\"Geography\"\u001b[39;49;00m: {\n                            \u001b[94m\"LatitudeNumber\"\u001b[39;49;00m: \u001b[33m\"-35.28346\"\u001b[39;49;00m,\n                            \u001b[94m\"LongitudeNumber\"\u001b[39;49;00m: \u001b[33m\"149.12807\"\u001b[39;49;00m,\n                            \u001b[94m\"Names\"\u001b[39;49;00m: [\n                                {\n                                    \u001b[94m\"EffectiveFromDate\"\u001b[39;49;00m: \u001b[33m\"1753-01-01T00:00:00.000Z\"\u001b[39;49;00m,\n                                    \u001b[94m\"EffectiveToDate\"\u001b[39;49;00m: \u001b[34mnull\u001b[39;49;00m,\n                                    \u001b[94m\"LanguageId\"\u001b[39;49;00m: \u001b[33m\"505074\"\u001b[39;49;00m,\n                                    \u001b[94m\"Name\"\u001b[39;49;00m: \u001b[33m\"Canberra\"\u001b[39;49;00m,\n                                    \u001b[94m\"NameOrder\"\u001b[39;49;00m: \u001b[34m1\u001b[39;49;00m,\n                                    \u001b[94m\"NameTypeId\"\u001b[39;49;00m: \u001b[33m\"404500\"\u001b[39;49;00m\n                                },\n                                \u001b[33m\"...\"\u001b[39;49;00m\n                            ]\n                        }\n                    },\n                    \u001b[33m\"...\"\u001b[39;49;00m\n                ],\n                \u001b[94m\"CountryCurrency\"\u001b[39;49;00m: [\n                    {\n                        \u001b[94m\"ObjectId\"\u001b[39;49;00m: \u001b[33m\"500117\"\u001b[39;49;00m,\n                        \u001b[94m\"Currency\"\u001b[39;49;00m: {\n                            \u001b[94m\"DecimalPlaces\"\u001b[39;49;00m: \u001b[33m\"2\"\u001b[39;49;00m,\n                            \u001b[94m\"Name\"\u001b[39;49;00m: \u001b[33m\"Australian Dollar\"\u001b[39;49;00m\n                        },\n                        \u001b[94m\"Identifier\"\u001b[39;49;00m: {\n                            \u001b[94m\"Identifiers\"\u001b[39;49;00m: [\n                                {\n                                    \u001b[94m\"EffectiveFromDate\"\u001b[39;49;00m: \u001b[33m\"1753-01-01T00:00:00.000Z\"\u001b[39;49;00m,\n                                    \u001b[94m\"EffectiveToDate\"\u001b[39;49;00m: \u001b[34mnull\u001b[39;49;00m,\n                                    \u001b[94m\"PrimaryFlag\"\u001b[39;49;00m: \u001b[34mfalse\u001b[39;49;00m,\n                                    \u001b[94m\"ProviderId\"\u001b[39;49;00m: \u001b[34mnull\u001b[39;49;00m,\n                                    \u001b[94m\"ProviderType\"\u001b[39;49;00m: \u001b[34mnull\u001b[39;49;00m,\n                                    \u001b[94m\"SourceLinkUrl\"\u001b[39;49;00m: \u001b[34mnull\u001b[39;49;00m,\n                                    \u001b[94m\"SourceType\"\u001b[39;49;00m: \u001b[34mnull\u001b[39;49;00m,\n                                    \u001b[94m\"SourceUpdateDate\"\u001b[39;49;00m: \u001b[34mnull\u001b[39;49;00m,\n                                    \u001b[94m\"TypeId\"\u001b[39;49;00m: \u001b[33m\"404014\"\u001b[39;49;00m,\n                                    \u001b[94m\"Value\"\u001b[39;49;00m: \u001b[33m\"AUD\"\u001b[39;49;00m,\n                                    \u001b[94m\"ValueOrder\"\u001b[39;49;00m: \u001b[33m\"1\"\u001b[39;49;00m,\n                                    \u001b[94m\"ValueTypeCode\"\u001b[39;49;00m: \u001b[33m\"Iso4217\"\u001b[39;49;00m,\n                                    \u001b[94m\"ValueTypeId\"\u001b[39;49;00m: \u001b[33m\"320001\"\u001b[39;49;00m\n                                },\n                                \u001b[33m\"...\"\u001b[39;49;00m\n                            ]\n                        }\n                    },\n                    \u001b[33m\"...\"\u001b[39;49;00m\n                ],\n                \u001b[94m\"GeospatialChildren\"\u001b[39;49;00m: [\n                    {\n                        \u001b[94m\"ObjectId\"\u001b[39;49;00m: \u001b[33m\"110100\"\u001b[39;49;00m,\n                        \u001b[94m\"Geography\"\u001b[39;49;00m: {\n                            \u001b[94m\"Name\"\u001b[39;49;00m: \u001b[33m\"Melbourne Metropolitan Area\"\u001b[39;49;00m\n                        }\n                    },\n                    \u001b[33m\"...\"\u001b[39;49;00m\n                ],\n                \u001b[94m\"GeospatialChildrenId\"\u001b[39;49;00m: [\n                    \u001b[33m\"[110117, 103340, 1001374907, 103342, 103341, 103344, 103343, 110100, 1002235398, 103346, 110141, 103345, 110032, 103339]\"\u001b[39;49;00m,\n                    \u001b[33m\"...\"\u001b[39;49;00m\n                ]\n            },\n            \u001b[33m\"...\"\u001b[39;49;00m\n        ]\n    }\n}\n"
      ]
     },
     "metadata": {},
     "output_type": "display_data"
    }
   ],
   "source": [
    "output_format = 'json'  # available: json\n",
    "%run ../config_files/config_request_handler.ipynb"
   ]
  },
  {
   "cell_type": "markdown",
   "id": "95afa613",
   "metadata": {},
   "source": [
    "## Close the default session when done"
   ]
  },
  {
   "cell_type": "code",
   "execution_count": null,
   "id": "c22af35e",
   "metadata": {},
   "outputs": [],
   "source": [
    "session.close()"
   ]
  }
 ],
 "metadata": {},
 "nbformat": 4,
 "nbformat_minor": 5
}
