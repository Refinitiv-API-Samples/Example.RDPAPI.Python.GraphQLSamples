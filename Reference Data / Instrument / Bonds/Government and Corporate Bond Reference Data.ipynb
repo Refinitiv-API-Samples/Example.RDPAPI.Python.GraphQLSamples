{
 "cells": [
  {
   "cell_type": "markdown",
   "id": "bd6de440",
   "metadata": {},
   "source": [
    "# Pre-canned Queries for Python\n",
    "## Function to call Government and Corporate Bond Reference Data\n",
    "This query demonstrates how using a list of different identifier types and identifiers, the user can request:\n",
    "  * Instrument level reference data including:\n",
    "  * Instrument Identifiers\n",
    "  * Coupon Schedule\n",
    "  * Amount Outstanding Schedule sorted in descending effective date order\n",
    "  * Identify the Valuation Quote (the quote used to calculate market capitalization of the issue)\n",
    "  * Quote level identifiers for all active quotes of the instrument\n",
    "  * The name, TRBC Scheme level 5, organization type, status, and ultimate parent ID for the issuer of the instrument\n",
    "The query demonstrates how fields that contain enumerated values can be configured to return a human readable value rather than the enumeration Entitlements: To access the data returned by this query, the user account must have licenses that include:\n",
    "  * Government and Corporate Bond Reference Data - PRS / FI_GOV_REFERENCE\n",
    "  * Organization Reference Data - PRS / BASIC_ENTITY\n",
    "The query requests instrument identifiers associated with the instrument - if the instrument being queried  has a SEDOL or CUSIP, the Identifier will be suppressed unless the user has the appropriate licenses (SYMBOLOGY / IDENTIFIER_TYPE_SEDOL and IDENTIFER_TYPE_SEDOL)\n",
    "\n",
    "\n",
    "tags :     `Government`, `Corporate`, `Reference`, `Instrument`, `Organization`, `Identifiers`\n",
    "## Import the library and load credentials\n",
    "Credentials used by this notebook are stored in the config_files/credentials.ipynb. Please edit credentials.ipynb to set your credentials and run the next cell to continue with the scripts "
   ]
  },
  {
   "cell_type": "code",
   "execution_count": null,
   "id": "0c2a9e26",
   "metadata": {},
   "outputs": [],
   "source": [
    "%run ../../../config_files/credentials.ipynb \n",
    "%run ../../../config_files/environment_selection.ipynb"
   ]
  },
  {
   "cell_type": "markdown",
   "id": "ecc50f3b",
   "metadata": {},
   "source": [
    "To connect to the Refinitiv Data and opening a session,given function is used. To find out more about the library,you can visit [refinitiv-data library](https://pypi.org/project/refinitiv-data/)"
   ]
  },
  {
   "cell_type": "code",
   "execution_count": null,
   "id": "23034300",
   "metadata": {},
   "outputs": [],
   "source": [
    "session = rd.session.platform.Definition(\n",
    "    app_key=APP_KEY,\n",
    "    grant=rd.session.platform.GrantPassword(\n",
    "        username=RD_LOGIN, password=RD_PASSWORD\n",
    "    ),\n",
    ").get_session()\n",
    "session.open()\n"
   ]
  },
  {
   "cell_type": "markdown",
   "id": "a70eb544",
   "metadata": {},
   "source": [
    "## Graph call\n",
    "Graph call with given sets of samples below. "
   ]
  },
  {
   "cell_type": "code",
   "execution_count": null,
   "id": "7fe7be8d",
   "metadata": {},
   "outputs": [],
   "source": [
    "%%writefile query_cache\n",
    "query GovernmentCorporateBondReferenceData($InstrumentList: [GovCorpInstrumentIdentifierArgs!]) {\n",
    "  GovCorpInstrument(identifiers: $InstrumentList) {\n",
    "    ObjectId\n",
    "    _metadata {\n",
    "      identifierTypeName\n",
    "      identifier\n",
    "    }\n",
    "    Reference {\n",
    "      SecurityDescription\n",
    "      MaturityDate\n",
    "      CouponTypeCode\n",
    "      CouponTypeCodeDescription: CouponTypeCode(format: Name, language: en_US, style: LongName)\n",
    "      Cic\n",
    "      CfiCode\n",
    "    }\n",
    "    AssetStatus {\n",
    "      AssetStatusCode\n",
    "      AssetStatusCodeDescription: AssetStatusCode(format: Name, language: en_US, style: LongName)\n",
    "      EffectiveFromDate\n",
    "    }\n",
    "    CouponRateSchedule {\n",
    "      CouponRate\n",
    "      EffectiveFromDate\n",
    "      InterestLegNumber\n",
    "      LastChangedDate\n",
    "    }\n",
    "    IssuanceDefinition {\n",
    "      DatedDate\n",
    "      IssueCurrencyIsoCode\n",
    "      IssueAmount\n",
    "    }\n",
    "    InterestDefinition {\n",
    "      DayCountCode_v2\n",
    "      DayCountCodeDescription: DayCountCode_v2(format: Name, language: en_US, style: LongName)\n",
    "    }\n",
    "    AmountOutstandingHistory(sort: {EffectiveFromDate: DESC}) {\n",
    "      CurrencyIsoCode\n",
    "      TotalOutstandingAmount\n",
    "      EffectiveFromDate\n",
    "      NetChangeCode\n",
    "      NetChangeCodeDescription: NetChangeCode(format: Name, language: en_US, style: LongName)\n",
    "    }\n",
    "    Identifiers {\n",
    "      EffectiveFromDate\n",
    "      IdentifierCode\n",
    "      IdentifierCodeDescription: IdentifierCode(format: Name, language: en_US, style: LongName)\n",
    "      IdentifierValue\n",
    "    }\n",
    "    Quotes {\n",
    "      ObjectId\n",
    "      Identifier(filter: {AND: [{IdentifierTypeCode: {IN: [\"ORC\", \"RIC\"]}}, {QuoteIsActiveFlag: {EQ: \"y\"}}]}) {\n",
    "        GlobalRegionCode\n",
    "        IdentifierTypeCode\n",
    "        IdentifierValue\n",
    "        ObjectTypeCode\n",
    "        QuoteContributorCode\n",
    "        QuoteCurrencyIsoCode\n",
    "        QuoteIsActiveFlag\n",
    "        QuotePriceSourceCode\n",
    "        QuotePriceSourceCodeDescription: QuotePriceSourceCode(format: Name, language: en_US, style: LongName)\n",
    "      }\n",
    "    }\n",
    "    Issuer {\n",
    "      ObjectId\n",
    "      Names {\n",
    "        Name {\n",
    "          OrganizationName(filter: {NameTypeCode: {EQ: \"LNG\"}}) {\n",
    "            Name\n",
    "            NameTypeCode\n",
    "            NameTypeCodeDescription: NameTypeCode(format: Name, language: en_US, style: LongName)\n",
    "          }\n",
    "        }\n",
    "      }\n",
    "      ClassificationTrbcPrimaryScheme_v2 {\n",
    "        Industry {\n",
    "          Name\n",
    "        }\n",
    "        Identifier {\n",
    "          Identifiers(filter: {ValueTypeId: {EQ: \"320159\"}}) {\n",
    "            Value\n",
    "            ValueTypeCode\n",
    "            ValueTypeId\n",
    "          }\n",
    "        }\n",
    "      }\n",
    "      Details {\n",
    "        OrganizationDetails {\n",
    "          JurisdictionOfIncorporation\n",
    "          OrganizationTier\n",
    "          OrganizationTypeCode(format: Name, language: en_US, style: LongName)\n",
    "          OrganizationSubTypeCode(format: Name, language: en_US, style: LongName)\n",
    "          OrganizationStatusCode\n",
    "          OrganizationStatusCodeDescription: OrganizationStatusCode(format: Name, language: en_US, style: LongName)\n",
    "        }\n",
    "      }\n",
    "      UltimateParentId\n",
    "    }\n",
    "  }\n",
    "}\n"
   ]
  },
  {
   "cell_type": "markdown",
   "id": "f879df9d",
   "metadata": {},
   "source": [
    "## Sample :  Find by a mixture of Identifier Types"
   ]
  },
  {
   "cell_type": "code",
   "execution_count": null,
   "id": "8add1614",
   "metadata": {},
   "outputs": [],
   "source": [
    "\n",
    "variables = {'InstrumentList': [{'identifierTypeName': 'Isin', 'identifier': 'US645767AW49'}, {'identifierTypeName': 'Sedol', 'identifier': 'B4333T3'}, {'identifierTypeName': 'Cusip', 'identifier': '36966TDN9'}]}"
   ]
  },
  {
   "cell_type": "code",
   "execution_count": 3,
   "id": "af101a5f",
   "metadata": {},
   "outputs": [
    {
     "data": {
      "text/html": [
       "    <table>\n        <tbody>\n        <tr><td colspan=\"2\"><b>Identifier Type</b></td></tr>\n        <tr>\n            <td>Identifier Type Name</td>\n            <td>Cusip</td>\n        </tr>\n        <tr>\n            <td>Identifier</td>\n            <td>36966TDN9</td>\n        </tr>\n        <tr><td colspan=\"2\"><b>Reference</b></td></tr>\n        <tr>\n            <td>Security Description</td>\n            <td>GE     4.300 11/15/25 MTN</td>\n        </tr>\n        <tr>\n            <td>Maturity Date</td>\n            <td>2025-11-15</td>\n        </tr>\n        <tr>\n            <td>Coupon Type Code</td>\n            <td>FXPV</td>\n        </tr>\n        <tr>\n            <td>Coupon Type Code Description</td>\n            <td>Fixed:Plain Vanilla Fixed Coupon</td>\n        </tr>\n        <tr>\n            <td>Cic</td>\n            <td>US21</td>\n        </tr>\n        <tr>\n            <td>Cfi Code</td>\n            <td>DTFUFR</td>\n        </tr>\n        <tr><td colspan=\"2\"><b>Asset Status</b></td></tr>\n        <tr>\n            <td>Asset Status Code</td>\n            <td>ISS</td>\n        </tr>\n        <tr>\n            <td>Asset Status Code Description</td>\n            <td>Issued</td>\n        </tr>\n        <tr>\n            <td>Asset Effective From Date</td>\n            <td>2011-11-03</td>\n        </tr>\n        <tr><td colspan=\"2\"><b>Coupon Rate Schedule</b></td></tr>\n        <tr>\n            <td>Coupon Rate</td>\n            <td>4.3</td>\n        </tr>\n        <tr>\n            <td>Coupon Effective From Date</td>\n            <td>2011-11-03</td>\n        </tr>\n        <tr>\n            <td>Coupon Interest Leg Number</td>\n            <td>1</td>\n        </tr>\n        <tr>\n            <td>Coupon Last Changed Date</td>\n            <td>2020-04-19T23:44:34.063Z</td>\n        </tr>\n        <tr><td colspan=\"2\"><b>Issuance Definition</b></td></tr>\n        <tr>\n            <td>Dated Date</td>\n            <td>2011-11-03</td>\n        </tr>\n        <tr>\n            <td>Issue Currency Iso Code</td>\n            <td>USD</td>\n        </tr>\n        <tr>\n            <td>Issue Amount</td>\n            <td>16024</td>\n        </tr>\n        <tr><td colspan=\"2\"><b>Interest Definition</b></td></tr>\n        <tr>\n            <td>Day Count Code</td>\n            <td>1</td>\n        </tr>\n        <tr>\n            <td>Day Count Code Description</td>\n            <td>30/360 US, 30U/360, 30US/360</td>\n        </tr>\n        <tr><td colspan=\"2\"><b>Amount Outstanding History</b></td></tr>\n        <tr>\n            <td>Currency Iso Code</td>\n            <td>USD</td>\n        </tr>\n        <tr>\n            <td>Total Outstanding Amount</td>\n            <td>16024</td>\n        </tr>\n        <tr>\n            <td>Effective From Date</td>\n            <td>2011-11-03</td>\n        </tr>\n        <tr>\n            <td>Net Change Code</td>\n            <td>ISS</td>\n        </tr>\n        <tr>\n            <td>Net Change Code Description</td>\n            <td>Initial Issuance</td>\n        </tr>\n        <tr>\n            <td colspan=\"2\"><b>Identifiers</b></td>\n        </tr>\n        <tr>\n            <td style=\"width: 50%;\">\n                <ul>\n                    <li>Effective from date</li>\n                    <li>Identifier Code</li>\n                    <li>Identifier Code Description</li>\n                    <li>Identifier Value</li>\n                </ul>\n            </td>\n            <td style=\"width: 50%;\">\n                <ul>\n                    <li>2014-07-15</li>\n                    <li>NST</li>\n                    <li>NASD Bond Symbol</li>\n                    <li>GE.ATI</li>\n                </ul>\n            </td>\n        </tr>\n        <tr>\n            <td colspan=\"2\"><b>Quotes</b></td>\n        </tr>\n        <tr>\n            <td style=\"width: 50%;\">\n                <ul>\n                    <li>Global Region Code</li>\n                    <li>Identifier Type Code</li>\n                    <li>Identifier Value</li>\n                    <li>Object Type Code</li>\n                    <li>Quote Contributor Code</li>\n                    <li>Quote Currency Iso Code</li>\n                    <li>Is Quote Active?</li>\n                    <li>Quote Price Source Code</li>\n                    <li>Quote Price Source Code Description</li>\n                </ul>\n            </td>\n            <td style=\"width: 50%;\">\n                <ul>\n                    <li>N</li>\n                    <li>RIC</li>\n                    <li>36966TDN9=TWBL</li>\n                    <li>GCQU</li>\n                    <li>TWBL</li>\n                    <li>USD</li>\n                    <li>y</li>\n                    <li>RJA</li>\n                    <li>TRADEWEB DIRECT</li>\n                </ul>\n            </td>\n        </tr>\n        <tr>\n            <td colspan=\"2\"><b>Issuer</b></td>\n        </tr>\n        <tr>\n            <td>Organization Name</td>\n            <td>GENERAL ELECTRIC COMPANY</td>\n        </tr>\n        <tr>\n            <td>Name Type Code</td>\n            <td>LNG</td>\n        </tr>\n        <tr>\n            <td>Name Type Code Description</td>\n            <td>Official Name</td>\n        </tr>\n        <tr>\n            <td>Industry Name</td>\n            <td>Consumer Goods Conglomerates (Industry) (Trbc) (1251)</td>\n        </tr>\n        <tr>\n            <td>Identifier Value</td>\n            <td>5440101010</td>\n        </tr>\n        <tr>\n            <td>Identifier Value Type Code</td>\n            <td>\n                Trbc\n            </td>\n        </tr>\n        <tr>\n            <td>Identifier Value Type Id</td>\n            <td>\n                320159\n            </td>\n        </tr>\n        <tr>\n            <td>Jurisdiction of Incorporation</td>\n            <td>NEW YORK</td>\n        </tr>\n        <tr>\n            <td>Organization Tier</td>\n            <td>1</td>\n        </tr>\n        <tr>\n            <td>Organization Type Code</td>\n            <td>Company</td>\n        </tr>\n        <tr>\n            <td>Organization Subtype Code</td>\n            <td>Operating Company</td>\n        </tr>\n        <tr>\n            <td>Organization Status Code</td>\n            <td>Act</td>\n        </tr>\n        <tr>\n            <td>Organization Status Code Description</td>\n            <td>Active</td>\n        </tr>\n        </tbody>\n    </table>\n"
      ],
      "text/plain": [
       "    <table>\n        <tbody>\n        <tr><td colspan=\"2\"><b>Identifier Type</b></td></tr>\n        <tr>\n            <td>Identifier Type Name</td>\n            <td>Cusip</td>\n        </tr>\n        <tr>\n            <td>Identifier</td>\n            <td>36966TDN9</td>\n        </tr>\n        <tr><td colspan=\"2\"><b>Reference</b></td></tr>\n        <tr>\n            <td>Security Description</td>\n            <td>GE     4.300 11/15/25 MTN</td>\n        </tr>\n        <tr>\n            <td>Maturity Date</td>\n            <td>2025-11-15</td>\n        </tr>\n        <tr>\n            <td>Coupon Type Code</td>\n            <td>FXPV</td>\n        </tr>\n        <tr>\n            <td>Coupon Type Code Description</td>\n            <td>Fixed:Plain Vanilla Fixed Coupon</td>\n        </tr>\n        <tr>\n            <td>Cic</td>\n            <td>US21</td>\n        </tr>\n        <tr>\n            <td>Cfi Code</td>\n            <td>DTFUFR</td>\n        </tr>\n        <tr><td colspan=\"2\"><b>Asset Status</b></td></tr>\n        <tr>\n            <td>Asset Status Code</td>\n            <td>ISS</td>\n        </tr>\n        <tr>\n            <td>Asset Status Code Description</td>\n            <td>Issued</td>\n        </tr>\n        <tr>\n            <td>Asset Effective From Date</td>\n            <td>2011-11-03</td>\n        </tr>\n        <tr><td colspan=\"2\"><b>Coupon Rate Schedule</b></td></tr>\n        <tr>\n            <td>Coupon Rate</td>\n            <td>4.3</td>\n        </tr>\n        <tr>\n            <td>Coupon Effective From Date</td>\n            <td>2011-11-03</td>\n        </tr>\n        <tr>\n            <td>Coupon Interest Leg Number</td>\n            <td>1</td>\n        </tr>\n        <tr>\n            <td>Coupon Last Changed Date</td>\n            <td>2020-04-19T23:44:34.063Z</td>\n        </tr>\n        <tr><td colspan=\"2\"><b>Issuance Definition</b></td></tr>\n        <tr>\n            <td>Dated Date</td>\n            <td>2011-11-03</td>\n        </tr>\n        <tr>\n            <td>Issue Currency Iso Code</td>\n            <td>USD</td>\n        </tr>\n        <tr>\n            <td>Issue Amount</td>\n            <td>16024</td>\n        </tr>\n        <tr><td colspan=\"2\"><b>Interest Definition</b></td></tr>\n        <tr>\n            <td>Day Count Code</td>\n            <td>1</td>\n        </tr>\n        <tr>\n            <td>Day Count Code Description</td>\n            <td>30/360 US, 30U/360, 30US/360</td>\n        </tr>\n        <tr><td colspan=\"2\"><b>Amount Outstanding History</b></td></tr>\n        <tr>\n            <td>Currency Iso Code</td>\n            <td>USD</td>\n        </tr>\n        <tr>\n            <td>Total Outstanding Amount</td>\n            <td>16024</td>\n        </tr>\n        <tr>\n            <td>Effective From Date</td>\n            <td>2011-11-03</td>\n        </tr>\n        <tr>\n            <td>Net Change Code</td>\n            <td>ISS</td>\n        </tr>\n        <tr>\n            <td>Net Change Code Description</td>\n            <td>Initial Issuance</td>\n        </tr>\n        <tr>\n            <td colspan=\"2\"><b>Identifiers</b></td>\n        </tr>\n        <tr>\n            <td style=\"width: 50%;\">\n                <ul>\n                    <li>Effective from date</li>\n                    <li>Identifier Code</li>\n                    <li>Identifier Code Description</li>\n                    <li>Identifier Value</li>\n                </ul>\n            </td>\n            <td style=\"width: 50%;\">\n                <ul>\n                    <li>2014-07-15</li>\n                    <li>NST</li>\n                    <li>NASD Bond Symbol</li>\n                    <li>GE.ATI</li>\n                </ul>\n            </td>\n        </tr>\n        <tr>\n            <td colspan=\"2\"><b>Quotes</b></td>\n        </tr>\n        <tr>\n            <td style=\"width: 50%;\">\n                <ul>\n                    <li>Global Region Code</li>\n                    <li>Identifier Type Code</li>\n                    <li>Identifier Value</li>\n                    <li>Object Type Code</li>\n                    <li>Quote Contributor Code</li>\n                    <li>Quote Currency Iso Code</li>\n                    <li>Is Quote Active?</li>\n                    <li>Quote Price Source Code</li>\n                    <li>Quote Price Source Code Description</li>\n                </ul>\n            </td>\n            <td style=\"width: 50%;\">\n                <ul>\n                    <li>N</li>\n                    <li>RIC</li>\n                    <li>36966TDN9=TWBL</li>\n                    <li>GCQU</li>\n                    <li>TWBL</li>\n                    <li>USD</li>\n                    <li>y</li>\n                    <li>RJA</li>\n                    <li>TRADEWEB DIRECT</li>\n                </ul>\n            </td>\n        </tr>\n        <tr>\n            <td colspan=\"2\"><b>Issuer</b></td>\n        </tr>\n        <tr>\n            <td>Organization Name</td>\n            <td>GENERAL ELECTRIC COMPANY</td>\n        </tr>\n        <tr>\n            <td>Name Type Code</td>\n            <td>LNG</td>\n        </tr>\n        <tr>\n            <td>Name Type Code Description</td>\n            <td>Official Name</td>\n        </tr>\n        <tr>\n            <td>Industry Name</td>\n            <td>Consumer Goods Conglomerates (Industry) (Trbc) (1251)</td>\n        </tr>\n        <tr>\n            <td>Identifier Value</td>\n            <td>5440101010</td>\n        </tr>\n        <tr>\n            <td>Identifier Value Type Code</td>\n            <td>\n                Trbc\n            </td>\n        </tr>\n        <tr>\n            <td>Identifier Value Type Id</td>\n            <td>\n                320159\n            </td>\n        </tr>\n        <tr>\n            <td>Jurisdiction of Incorporation</td>\n            <td>NEW YORK</td>\n        </tr>\n        <tr>\n            <td>Organization Tier</td>\n            <td>1</td>\n        </tr>\n        <tr>\n            <td>Organization Type Code</td>\n            <td>Company</td>\n        </tr>\n        <tr>\n            <td>Organization Subtype Code</td>\n            <td>Operating Company</td>\n        </tr>\n        <tr>\n            <td>Organization Status Code</td>\n            <td>Act</td>\n        </tr>\n        <tr>\n            <td>Organization Status Code Description</td>\n            <td>Active</td>\n        </tr>\n        </tbody>\n    </table>\n"
      ]
     },
     "metadata": {},
     "output_type": "display_data"
    }
   ],
   "source": [
    "output_format = 'handlebars'  # available: handlebars\n",
    "handlebars_template = 'Government and Corporate Bond Reference Data.html'\n",
    "%run ../../../config_files/config_request_handler.ipynb"
   ]
  },
  {
   "cell_type": "markdown",
   "id": "3b1e40fa",
   "metadata": {},
   "source": [
    "## Close the default session when done"
   ]
  },
  {
   "cell_type": "code",
   "execution_count": null,
   "id": "4f1809fe",
   "metadata": {},
   "outputs": [],
   "source": [
    "session.close()"
   ]
  }
 ],
 "metadata": {},
 "nbformat": 4,
 "nbformat_minor": 5
}
