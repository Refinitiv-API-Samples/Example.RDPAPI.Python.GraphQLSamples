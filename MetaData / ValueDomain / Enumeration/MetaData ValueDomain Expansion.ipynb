{
 "cells": [
  {
   "cell_type": "markdown",
   "id": "d1b37a49",
   "metadata": {},
   "source": [
    "# Pre-canned Queries for Python\n",
    "## Function to call MetaData ValueDomain Expansion\n",
    "Query for MetaData ValueDomain Expansion.\n",
    "\n",
    "\n",
    "tags :     `Metadata`, `ValueDomain`, `Enumeration`\n",
    "## Import the library and load credentials\n",
    "Credentials used by this notebook are stored in the config_files/credentials.ipynb. Please edit credentials.ipynb to set your credentials and run the next cell to continue with the scripts "
   ]
  },
  {
   "cell_type": "code",
   "execution_count": null,
   "id": "ad07ce3e",
   "metadata": {},
   "outputs": [],
   "source": [
    "%run ../../../config_files/credentials.ipynb \n",
    "%run ../../../config_files/environment_selection.ipynb"
   ]
  },
  {
   "cell_type": "markdown",
   "id": "8b1bd5dd",
   "metadata": {},
   "source": [
    "To connect to the Refinitiv Data and opening a session,given function is used. To find out more about the library,you can visit [refinitiv-data library](https://pypi.org/project/refinitiv-data/)"
   ]
  },
  {
   "cell_type": "code",
   "execution_count": null,
   "id": "1b43edf6",
   "metadata": {},
   "outputs": [],
   "source": [
    "session = rd.session.platform.Definition(\n",
    "    app_key=APP_KEY,\n",
    "    grant=rd.session.platform.GrantPassword(\n",
    "        username=RD_LOGIN, password=RD_PASSWORD\n",
    "    ),\n",
    ").get_session()\n",
    "session.open()\n"
   ]
  },
  {
   "cell_type": "markdown",
   "id": "11420dba",
   "metadata": {},
   "source": [
    "## Graph call\n",
    "Graph call with given sets of samples below. "
   ]
  },
  {
   "cell_type": "code",
   "execution_count": null,
   "id": "5f382ba8",
   "metadata": {},
   "outputs": [],
   "source": [
    "%%writefile query_cache\n",
    "query MetaData($ids: [String!]) {\n",
    "  MetaData(objectIds: $ids) {\n",
    "    ValueDomain {\n",
    "      ValueDomainId\n",
    "      UniqueName\n",
    "      Name {\n",
    "        ValueDomainName\n",
    "        ValueDomainNameTypeID\n",
    "        ValueDomainNameLanguageID\n",
    "        ValueDomainNameOrder\n",
    "      }\n",
    "      Enumeration {\n",
    "        EnumerationValue\n",
    "        Definition(filter: {EnumerationTypeID: {EQ: 404502}}) {\n",
    "          EnumerationDefinition\n",
    "          EnumerationTypeID\n",
    "          languageId\n",
    "        }\n",
    "      }\n",
    "    }\n",
    "  }\n",
    "}\n"
   ]
  },
  {
   "cell_type": "markdown",
   "id": "9528500d",
   "metadata": {},
   "source": [
    "## Sample :  Find by Object IDs"
   ]
  },
  {
   "cell_type": "code",
   "execution_count": null,
   "id": "c1d7a4bd",
   "metadata": {},
   "outputs": [],
   "source": [
    "\n",
    "variables = {'ids': ['17001330']}"
   ]
  },
  {
   "cell_type": "code",
   "execution_count": 3,
   "id": "f0ba50c8",
   "metadata": {},
   "outputs": [
    {
     "data": {
      "text/plain": [
       "{\n    \u001b[94m\"data\"\u001b[39;49;00m: {\n        \u001b[94m\"MetaData\"\u001b[39;49;00m: [\n            {\n                \u001b[94m\"ValueDomain\"\u001b[39;49;00m: {\n                    \u001b[94m\"ValueDomainId\"\u001b[39;49;00m: \u001b[33m\"17001330\"\u001b[39;49;00m,\n                    \u001b[94m\"UniqueName\"\u001b[39;49;00m: \u001b[33m\"TradingRestrictionCode\"\u001b[39;49;00m,\n                    \u001b[94m\"Name\"\u001b[39;49;00m: [\n                        {\n                            \u001b[94m\"ValueDomainName\"\u001b[39;49;00m: \u001b[33m\"Trading Restriction Code\"\u001b[39;49;00m,\n                            \u001b[94m\"ValueDomainNameTypeID\"\u001b[39;49;00m: \u001b[34m404500\u001b[39;49;00m,\n                            \u001b[94m\"ValueDomainNameLanguageID\"\u001b[39;49;00m: \u001b[34m505074\u001b[39;49;00m,\n                            \u001b[94m\"ValueDomainNameOrder\"\u001b[39;49;00m: \u001b[34m1\u001b[39;49;00m\n                        }\n                    ],\n                    \u001b[94m\"Enumeration\"\u001b[39;49;00m: [\n                        {\n                            \u001b[94m\"EnumerationValue\"\u001b[39;49;00m: \u001b[33m\"ITPP\"\u001b[39;49;00m,\n                            \u001b[94m\"Definition\"\u001b[39;49;00m: [\n                                {\n                                    \u001b[94m\"EnumerationDefinition\"\u001b[39;49;00m: \u001b[33m\"This offering has not been registered pursuant to Italian securities legislation and, accordingly, no securities may be offered, sold or delivered, nor may copies of the prospectus or of any other document relating to the Instruments be distributed in the\"\u001b[39;49;00m,\n                                    \u001b[94m\"EnumerationTypeID\"\u001b[39;49;00m: \u001b[34m404502\u001b[39;49;00m,\n                                    \u001b[94m\"languageId\"\u001b[39;49;00m: \u001b[34m505074\u001b[39;49;00m\n                                }\n                            ]\n                        }\n                    ]\n                }\n            }\n        ]\n    }\n}\n"
      ]
     },
     "metadata": {},
     "output_type": "display_data"
    }
   ],
   "source": [
    "output_format = 'json'  # available: json\n",
    "%run ../../../config_files/config_request_handler.ipynb"
   ]
  },
  {
   "cell_type": "markdown",
   "id": "cb899e98",
   "metadata": {},
   "source": [
    "## Close the default session when done"
   ]
  },
  {
   "cell_type": "code",
   "execution_count": null,
   "id": "b957e119",
   "metadata": {},
   "outputs": [],
   "source": [
    "session.close()"
   ]
  }
 ],
 "metadata": {},
 "nbformat": 4,
 "nbformat_minor": 5
}
