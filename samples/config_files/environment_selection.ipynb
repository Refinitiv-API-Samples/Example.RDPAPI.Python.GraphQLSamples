{
 "cells": [
  {
   "cell_type": "code",
   "execution_count": null,
   "id": "f70fbc30",
   "metadata": {},
   "outputs": [],
   "source": [
    "import refinitiv.data as rdp\n"
   ]
  }
 ],
 "metadata": {},
 "nbformat": 4,
 "nbformat_minor": 5
}
