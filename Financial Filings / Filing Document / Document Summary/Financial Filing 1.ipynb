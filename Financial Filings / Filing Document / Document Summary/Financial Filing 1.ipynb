{
 "cells": [
  {
   "cell_type": "markdown",
   "id": "340ae567",
   "metadata": {},
   "source": [
    "# Pre-canned Queries for Python\n",
    "## Function to call Financial Filing 1\n",
    "Query the latest 10 documents available for EDGAR 10-Q Filings in 2020.\n",
    "\n",
    "\n",
    "tags :     `Filings`, `Documents`, `Summary`\n",
    "## Import the library and load credentials\n",
    "Credentials used by this notebook are stored in the config_files/credentials.ipynb. Please edit credentials.ipynb to set your credentials and run the next cell to continue with the scripts "
   ]
  },
  {
   "cell_type": "code",
   "execution_count": null,
   "id": "cb74ab16",
   "metadata": {},
   "outputs": [],
   "source": [
    "%run ../../../config_files/credentials.ipynb \n",
    "%run ../../../config_files/environment_selection.ipynb"
   ]
  },
  {
   "cell_type": "markdown",
   "id": "98b04304",
   "metadata": {},
   "source": [
    "To connect to the Refinitiv Data and opening a session,given function is used. To find out more about the library,you can visit [refinitiv-data library](https://pypi.org/project/refinitiv-data/)"
   ]
  },
  {
   "cell_type": "code",
   "execution_count": null,
   "id": "c163bfea",
   "metadata": {},
   "outputs": [],
   "source": [
    "session = rd.session.platform.Definition(\n",
    "    app_key=APP_KEY,\n",
    "    grant=rd.session.platform.GrantPassword(\n",
    "        username=RD_LOGIN, password=RD_PASSWORD\n",
    "    ),\n",
    ").get_session()\n",
    "session.open()\n"
   ]
  },
  {
   "cell_type": "markdown",
   "id": "c2a2fdd7",
   "metadata": {},
   "source": [
    "## Graph call\n",
    "Graph call with given sets of samples below. "
   ]
  },
  {
   "cell_type": "code",
   "execution_count": null,
   "id": "8e8c882c",
   "metadata": {},
   "outputs": [],
   "source": [
    "%%writefile query_cache\n",
    "query FinancialFiling($FeedName: String!, $FormType: String!, $FilingDateFrom: DateTime!, $FilingDateTo: DateTime!) {\n",
    "  FinancialFiling(filter: {AND: [{FilingDocument: {DocumentSummary: {FeedName: {EQ: $FeedName}}}}, {FilingDocument: {DocumentSummary: {FormType: {EQ: $FormType}}}}, {FilingDocument: {DocumentSummary: {FilingDate: {BETWN: {FROM: $FilingDateFrom, TO: $FilingDateTo}}}}}]}, sort: {FilingDocument: {DocumentSummary: {FilingDate: DESC}}}, limit: 10) {\n",
    "    _metadata {\n",
    "      totalCount\n",
    "    }\n",
    "    FilingDocument {\n",
    "      Identifiers {\n",
    "        Dcn\n",
    "      }\n",
    "      DocId\n",
    "      FinancialFilingId\n",
    "      DocumentSummary {\n",
    "        DocumentTitle\n",
    "        FeedName\n",
    "        FormType\n",
    "        HighLevelCategory\n",
    "        MidLevelCategory\n",
    "        FilingDate\n",
    "        SecAccessionNumber\n",
    "        SizeInBytes\n",
    "      }\n",
    "      FilesMetaData {\n",
    "        FileName\n",
    "        MimeType\n",
    "      }\n",
    "    }\n",
    "  }\n",
    "}\n"
   ]
  },
  {
   "cell_type": "markdown",
   "id": "449b49a5",
   "metadata": {},
   "source": [
    "## Sample :  Find by a mixture of Identifier Types"
   ]
  },
  {
   "cell_type": "code",
   "execution_count": null,
   "id": "64b8093e",
   "metadata": {},
   "outputs": [],
   "source": [
    "\n",
    "variables = {'FeedName': 'Edgar', 'FormType': '10-Q', 'FilingDateFrom': '2020-01-01T00:00:00Z', 'FilingDateTo': '2020-12-31T00:00:00Z'}"
   ]
  },
  {
   "cell_type": "code",
   "execution_count": 3,
   "id": "c6d3eee7",
   "metadata": {},
   "outputs": [
    {
     "data": {
      "text/html": [
       "<table>\n    <tbody>\n    </tbody>\n</table>"
      ],
      "text/plain": [
       "<table>\n    <tbody>\n    </tbody>\n</table>"
      ]
     },
     "metadata": {},
     "output_type": "display_data"
    }
   ],
   "source": [
    "output_format = 'handlebars'  # available: handlebars\n",
    "handlebars_template = 'Financial Filing 1.html'\n",
    "%run ../../../config_files/config_request_handler.ipynb"
   ]
  },
  {
   "cell_type": "markdown",
   "id": "90fdb67d",
   "metadata": {},
   "source": [
    "## Close the default session when done"
   ]
  },
  {
   "cell_type": "code",
   "execution_count": null,
   "id": "fa842720",
   "metadata": {},
   "outputs": [],
   "source": [
    "session.close()"
   ]
  }
 ],
 "metadata": {},
 "nbformat": 4,
 "nbformat_minor": 5
}
