{
 "cells": [
  {
   "cell_type": "markdown",
   "id": "f88a3bbc",
   "metadata": {},
   "source": [
    "# Pre-canned Queries for Python\n",
    "## Function to call Organization Open Fields\n",
    "This query demonstrates how the sample a list of different attributes and identifiers can be retrieved by a user for a an example Organization/Company.\n",
    "\n",
    "\n",
    "tags :     `Sample`, `Open`, `sampledata`, `GettingStarted`\n",
    "## Import the library and load credentials\n",
    "Credentials used by this notebook are stored in theconfig_files/credentials.ipynb. Please editcredentials.ipynb to set your credentials and run the next cell to continue with the scripts "
   ]
  },
  {
   "cell_type": "code",
   "execution_count": null,
   "id": "a08c43c3",
   "metadata": {},
   "outputs": [],
   "source": [
    "from pathlib import Path \n",
    "import os\n",
    "if Path.cwd().name != \"config_files\":\n",
    "    p = Path(\"../config_files/\") \n",
    "    os.chdir(p)\n",
    "\n",
    "%run credentials.ipynb \n",
    "%run environment_selection.ipynb"
   ]
  },
  {
   "cell_type": "markdown",
   "id": "42a34086",
   "metadata": {},
   "source": [
    "To connect to the Refinitiv Data and opening a session,given function is used. To find out more about the library,you can visit [refinitiv-data library](https://pypi.org/project/refinitiv-data/)"
   ]
  },
  {
   "cell_type": "code",
   "execution_count": null,
   "id": "346098e4",
   "metadata": {},
   "outputs": [],
   "source": [
    "session = rdp.session.platform.Definition(\n",
    "    app_key=APP_KEY,\n",
    "    grant=rdp.session.platform.GrantPassword(\n",
    "        username=RDP_LOGIN, password=RDP_PASSWORD\n",
    "    ),\n",
    ").get_session()\n",
    "session.open()\n"
   ]
  },
  {
   "cell_type": "markdown",
   "id": "6238de0c",
   "metadata": {},
   "source": [
    "## Graph call\n",
    "Graph call with given sets of samples below. "
   ]
  },
  {
   "cell_type": "code",
   "execution_count": null,
   "id": "b1e3ad6c",
   "metadata": {},
   "outputs": [],
   "source": [
    "%%writefile query_cache\n",
    "query OrganizationQuery($OrganizationIds: [String!]) {\n",
    "  OrganizationReference(objectIds: $OrganizationIds) {\n",
    "    ObjectId\n",
    "    Names {\n",
    "      Name {\n",
    "        OrganizationName(filter: {AND: [{NameTypeCode: {EQ: \"LNG\"}}, {LanguageId: {EQ: \"505062\"}}]}) {\n",
    "          Name\n",
    "        }\n",
    "      }\n",
    "    }\n",
    "    OrganizationIncorporation_v2 {\n",
    "      Identifier {\n",
    "        Identifiers(filter: {ValueTypeId: {EQ: \"320135\"}}) {\n",
    "          Value\n",
    "        }\n",
    "      }\n",
    "    }\n",
    "    OrganizationDomicile_v2 {\n",
    "      Identifier {\n",
    "        Identifiers(filter: {ValueTypeId: {EQ: \"320135\"}}) {\n",
    "          Value\n",
    "        }\n",
    "      }\n",
    "    }\n",
    "    OrganizationIdentifiers(filter: {IdentifierTypeId_v2: {EQ: \"320634\"}}) {\n",
    "      IdentifierData {\n",
    "        Identifier\n",
    "      }\n",
    "    }\n",
    "    ClassificationTrbcPrimaryScheme_v2 {\n",
    "      TrbcSchemeParent {\n",
    "        TrbcSchemeParent {\n",
    "          TrbcSchemeParent {\n",
    "            TrbcSchemeParent {\n",
    "              ObjectId\n",
    "              Identifier {\n",
    "                Identifiers(filter: {ValueTypeId: {EQ: \"320159\"}}) {\n",
    "                  Value\n",
    "                }\n",
    "              }\n",
    "              Industry {\n",
    "                Names(filter: {AND: [{NameTypeId: {EQ: \"404500\"}}, {LanguageId: {EQ: \"505074\"}}]}) {\n",
    "                  Name\n",
    "                }\n",
    "              }\n",
    "            }\n",
    "          }\n",
    "        }\n",
    "      }\n",
    "    }\n",
    "  }\n",
    "}\n"
   ]
  },
  {
   "cell_type": "markdown",
   "id": "29fdb79d",
   "metadata": {},
   "source": [
    "## Sample :  This query shows sample data for organization open fields. Find by Organization Ids"
   ]
  },
  {
   "cell_type": "code",
   "execution_count": null,
   "id": "d30bc5dc",
   "metadata": {},
   "outputs": [],
   "source": [
    "\n",
    "variables = {'OrganizationIds': ['4298007752']}"
   ]
  },
  {
   "cell_type": "code",
   "execution_count": null,
   "id": "593d226d",
   "metadata": {},
   "outputs": [],
   "source": [
    "%run config_request_handler.ipynb"
   ]
  },
  {
   "cell_type": "code",
   "execution_count": 3,
   "id": "5d3a7f0c",
   "metadata": {},
   "outputs": [
    {
     "name": "stdout",
     "output_type": "stream",
     "text": [
      " \n",
      "    data: { \n",
      "        OrganizationReference: [ \n",
      "            { \n",
      "                ObjectId: 4298007752, \n",
      "                Names: { \n",
      "                    Name: { \n",
      "                        OrganizationName: [ \n",
      "                            { \n",
      "                                Name: LONDON STOCK EXCHANGE GROUP PLC \n",
      "                            } \n",
      "                        ] \n",
      "                    } \n",
      "                }, \n",
      "                OrganizationIncorporation_v2: { \n",
      "                    Identifier: { \n",
      "   .................... \n",
      "......................................... \n"
     ]
    }
   ],
   "source": [
    "%run code_execution.ipynb"
   ]
  },
  {
   "cell_type": "markdown",
   "id": "2367db92",
   "metadata": {},
   "source": [
    "## Close the default session when done"
   ]
  },
  {
   "cell_type": "code",
   "execution_count": null,
   "id": "d9fb93ca",
   "metadata": {},
   "outputs": [],
   "source": [
    "session.close()"
   ]
  }
 ],
 "metadata": {},
 "nbformat": 4,
 "nbformat_minor": 5
}
