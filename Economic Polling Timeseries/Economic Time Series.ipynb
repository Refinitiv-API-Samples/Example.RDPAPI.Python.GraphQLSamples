{
 "cells": [
  {
   "cell_type": "markdown",
   "id": "cc2dff74",
   "metadata": {},
   "source": [
    "# Pre-canned Queries for Python\n",
    "## Function to call Economic Time Series\n",
    "Query allowing to pull single observations - Monthly Periodicity \n",
    "\n",
    "\n",
    "tags :     `Economic`, `Timeseries`\n",
    "## Import the library and load credentials\n",
    "Credentials used by this notebook are stored in the config_files/credentials.ipynb. Please edit credentials.ipynb to set your credentials and run the next cell to continue with the scripts "
   ]
  },
  {
   "cell_type": "code",
   "execution_count": null,
   "id": "e09653b2",
   "metadata": {},
   "outputs": [],
   "source": [
    "from pathlib import Path \n",
    "import os\n",
    "\n",
    "%run ../config_files/credentials.ipynb \n",
    "%run ../config_files/environment_selection.ipynb"
   ]
  },
  {
   "cell_type": "markdown",
   "id": "b1aa8f10",
   "metadata": {},
   "source": [
    "To connect to the Refinitiv Data and opening a session,given function is used. To find out more about the library,you can visit [refinitiv-data library](https://pypi.org/project/refinitiv-data/)"
   ]
  },
  {
   "cell_type": "code",
   "execution_count": null,
   "id": "5a917c12",
   "metadata": {},
   "outputs": [],
   "source": [
    "session = rd.session.platform.Definition(\n",
    "    app_key=APP_KEY,\n",
    "    grant=rd.session.platform.GrantPassword(\n",
    "        username=RD_LOGIN, password=RD_PASSWORD\n",
    "    ),\n",
    ").get_session()\n",
    "session.open()\n"
   ]
  },
  {
   "cell_type": "markdown",
   "id": "9caa5075",
   "metadata": {},
   "source": [
    "## Graph call\n",
    "Graph call with given sets of samples below. "
   ]
  },
  {
   "cell_type": "code",
   "execution_count": null,
   "id": "f6a21d44",
   "metadata": {},
   "outputs": [],
   "source": [
    "%%writefile query_cache\n",
    "query EconomicTimeSeries($ObjectList: [String!], $From: Date!, $To: Date!, $DictionaryAttributes: [String!], $FreeTextAttributes: [String!]) {\n",
    "  EconomicPollingTimeseries(objectIds: $ObjectList) {\n",
    "    ObjectId\n",
    "    SingleObservations {\n",
    "      ObjectID\n",
    "      TimeSeries(filter: {ObservationPeriod: {BETWN: {FROM: $From, TO: $To}}}, sort: {ObservationPeriod: DESC}) {\n",
    "        ObservationPeriod\n",
    "        EndOfPeriodDateTime\n",
    "        ObservationDateTime\n",
    "        Value\n",
    "      }\n",
    "    }\n",
    "    Attributes {\n",
    "      Entitlements{\n",
    "        Entitlements\n",
    "      }\n",
    "      Dictionaries (filter: {Name: {IN: $DictionaryAttributes}}, sort: {Name: ASC}) {\n",
    "        Name\n",
    "        RevisionValues {\n",
    "          Language\n",
    "          Value\n",
    "        }\n",
    "      }\n",
    "      FreeTexts (filter: {Name: {IN: $FreeTextAttributes}}, sort: {Name: ASC}) {\n",
    "        Name\n",
    "        RevisionValues {\n",
    "          Language\n",
    "          Value\n",
    "        }\n",
    "      }\n",
    "    }\n",
    "  }\n",
    "}\n"
   ]
  },
  {
   "cell_type": "markdown",
   "id": "6e3e4fb3",
   "metadata": {},
   "source": [
    "## Sample :  Query allowing to pull single observations - Monthly Periodicity"
   ]
  },
  {
   "cell_type": "code",
   "execution_count": null,
   "id": "aeb495ec",
   "metadata": {},
   "outputs": [],
   "source": [
    "\n",
    "variables = {'ObjectList': ['65890470371', '64927933107', '67766637014', '64426118310'], 'From': '2020-01-01', 'To': '2023-12-31', 'DictionaryAttributes': ['IndicatorRIC', 'EwCountry', 'EwSrc', 'EconomicIndicatorID', 'Entitlement'], 'FreeTextAttributes': ['IDNDescription', 'LongTitle', 'NewsLink', 'SysDec']}"
   ]
  },
  {
   "cell_type": "code",
   "execution_count": 3,
   "id": "5d024ff5",
   "metadata": {},
   "outputs": [
    {
     "data": {
      "text/plain": [
       "{\n    \u001b[94m\"data\"\u001b[39;49;00m: {\n        \u001b[94m\"EconomicPollingTimeseries\"\u001b[39;49;00m: [\n            {\n                \u001b[94m\"ObjectId\"\u001b[39;49;00m: \u001b[33m\"64426118310\"\u001b[39;49;00m,\n                \u001b[94m\"SingleObservations\"\u001b[39;49;00m: {\n                    \u001b[94m\"ObjectID\"\u001b[39;49;00m: \u001b[33m\"64426118310\"\u001b[39;49;00m,\n                    \u001b[94m\"TimeSeries\"\u001b[39;49;00m: [\n                        {\n                            \u001b[94m\"ObservationPeriod\"\u001b[39;49;00m: \u001b[33m\"2021-05-01\"\u001b[39;49;00m,\n                            \u001b[94m\"EndOfPeriodDateTime\"\u001b[39;49;00m: \u001b[33m\"2021-05-31T00:00:00.000Z\"\u001b[39;49;00m,\n                            \u001b[94m\"ObservationDateTime\"\u001b[39;49;00m: \u001b[33m\"2021-05-01T00:00:00.000Z\"\u001b[39;49;00m,\n                            \u001b[94m\"Value\"\u001b[39;49;00m: \u001b[33m\"3.3762\"\u001b[39;49;00m\n                        }\n                    ]\n                },\n                \u001b[94m\"Attributes\"\u001b[39;49;00m: {\n                    \u001b[94m\"Entitlements\"\u001b[39;49;00m: [\n                        {\n                            \u001b[94m\"Entitlements\"\u001b[39;49;00m: \u001b[34m92\u001b[39;49;00m\n                        }\n                    ],\n                    \u001b[94m\"Dictionaries\"\u001b[39;49;00m: [\n                        {\n                            \u001b[94m\"Name\"\u001b[39;49;00m: \u001b[33m\"EconomicIndicatorID\"\u001b[39;49;00m,\n                            \u001b[94m\"RevisionValues\"\u001b[39;49;00m: [\n                                {\n                                    \u001b[94m\"Language\"\u001b[39;49;00m: \u001b[34mnull\u001b[39;49;00m,\n                                    \u001b[94m\"Value\"\u001b[39;49;00m: \u001b[33m\"64426118310\"\u001b[39;49;00m\n                                }\n                            ]\n                        }\n                    ],\n                    \u001b[94m\"FreeTexts\"\u001b[39;49;00m: [\n                        {\n                            \u001b[94m\"Name\"\u001b[39;49;00m: \u001b[33m\"LongTitle\"\u001b[39;49;00m,\n                            \u001b[94m\"RevisionValues\"\u001b[39;49;00m: [\n                                {\n                                    \u001b[94m\"Language\"\u001b[39;49;00m: \u001b[33m\"en\"\u001b[39;49;00m,\n                                    \u001b[94m\"Value\"\u001b[39;49;00m: \u001b[33m\"India, Reserve Bank of India, Yield of SGL, Treasury bill 15-91\"\u001b[39;49;00m\n                                }\n                            ]\n                        }\n                    ]\n                }\n            }\n        ]\n    }\n}\n"
      ]
     },
     "metadata": {},
     "output_type": "display_data"
    }
   ],
   "source": [
    "output_format = 'json'  # available: json, chart\n",
    "%run ../config_files/config_request_handler.ipynb"
   ]
  },
  {
   "cell_type": "markdown",
   "id": "db6211f5",
   "metadata": {},
   "source": [
    "## Close the default session when done"
   ]
  },
  {
   "cell_type": "code",
   "execution_count": null,
   "id": "bb73ab73",
   "metadata": {},
   "outputs": [],
   "source": [
    "session.close()"
   ]
  }
 ],
 "metadata": {},
 "nbformat": 4,
 "nbformat_minor": 5
}
