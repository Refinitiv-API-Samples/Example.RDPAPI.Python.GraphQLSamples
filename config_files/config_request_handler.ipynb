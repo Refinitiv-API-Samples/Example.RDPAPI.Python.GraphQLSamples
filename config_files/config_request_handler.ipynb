{
 "cells": [
  {
   "cell_type": "code",
   "execution_count": null,
   "id": "aedb7c55",
   "metadata": {},
   "outputs": [],
   "source": [
    "from pathlib import Path\n",
    "import refinitiv.data as rd\n",
    "from dataplatform import display_output, FormatterSelector\n",
    "\n",
    "try:\n",
    "    hb_template = Path(handlebars_template).read_text('utf-8')\n",
    "except Exception:\n",
    "    hb_template = ''\n",
    "formatter = FormatterSelector(hb_template).get_formatter(output_format)\n",
    "\n",
    "query = Path('query_cache').read_text('utf-8')\n",
    "response = rd.delivery.endpoint_request.Definition(\n",
    "    url='https://api.refinitiv.com/data-store/v1/graphql',\n",
    "    method=rd.delivery.endpoint_request.RequestMethod.POST,\n",
    "    header_parameters={'skip-entitlements': 'true'},\n",
    "    body_parameters={'query': query, 'variables': variables},\n",
    ").get_data(session).http_response\n",
    "\n",
    "if response.status_code==200:\n",
    "    query_output = response.text\n",
    "    display_output(query_output, formatter)\n",
    "else:\n",
    "    print('Status code is:' ,response.status_code ,     'Results couldn\\'t be resolved correctly!' , '\\n')\n"
   ]
  }
 ],
 "metadata": {},
 "nbformat": 4,
 "nbformat_minor": 5
}
