{
 "cells": [
  {
   "cell_type": "markdown",
   "id": "48880ff5",
   "metadata": {},
   "source": [
    "# Pre-canned Queries for Python\n",
    "## Function to call Financial Filing 2\n",
    "Query for Filing Document and Organization Reference Data for Thomson Reuters.\n",
    "\n",
    "\n",
    "tags :     `Filings`, `Documents`, `Summary`\n",
    "## Import the library and load credentials\n",
    "Credentials used by this notebook are stored in the config_files/credentials.ipynb. Please edit credentials.ipynb to set your credentials and run the next cell to continue with the scripts "
   ]
  },
  {
   "cell_type": "code",
   "execution_count": null,
   "id": "42e58dfb",
   "metadata": {},
   "outputs": [],
   "source": [
    "%run ../../../config_files/credentials.ipynb \n",
    "%run ../../../config_files/environment_selection.ipynb"
   ]
  },
  {
   "cell_type": "markdown",
   "id": "d0ef0461",
   "metadata": {},
   "source": [
    "To connect to the Refinitiv Data and opening a session,given function is used. To find out more about the library,you can visit [refinitiv-data library](https://pypi.org/project/refinitiv-data/)"
   ]
  },
  {
   "cell_type": "code",
   "execution_count": null,
   "id": "8280316c",
   "metadata": {},
   "outputs": [],
   "source": [
    "session = rd.session.platform.Definition(\n",
    "    app_key=APP_KEY,\n",
    "    grant=rd.session.platform.GrantPassword(\n",
    "        username=RD_LOGIN, password=RD_PASSWORD\n",
    "    ),\n",
    ").get_session()\n",
    "session.open()\n"
   ]
  },
  {
   "cell_type": "markdown",
   "id": "c90e0dde",
   "metadata": {},
   "source": [
    "## Graph call\n",
    "Graph call with given sets of samples below. "
   ]
  },
  {
   "cell_type": "code",
   "execution_count": null,
   "id": "45be131c",
   "metadata": {},
   "outputs": [],
   "source": [
    "%%writefile query_cache\n",
    "query FinancialFiling($OrganizationId: Long, $FilingDateFrom: DateTime!, $FilingDateTo: DateTime!, $LanguageId: Long) {\n",
    "  FinancialFiling(filter: {AND: [{FilingDocument: {Identifiers: {OrganizationId: {EQ: $OrganizationId}}}}, {FilingDocument: {DocumentSummary: {FilingDate: {BETWN: {FROM: $FilingDateFrom, TO: $FilingDateTo}}}}}]}, sort: {FilingDocument: {DocumentSummary: {FilingDate: DESC}}}, limit: 10) {\n",
    "    FilingOrganization {\n",
    "      Names {\n",
    "        Name {\n",
    "          OrganizationName(filter: {AND: [{LanguageId: {EQ: $LanguageId}}, {NameTypeCode: {EQ: \"LNG\"}}]}) {\n",
    "            Name\n",
    "          }\n",
    "        }\n",
    "      }\n",
    "      Details {\n",
    "        OrganizationDetails {\n",
    "          JurisdictionOfIncorporation\n",
    "        }\n",
    "      }\n",
    "    }\n",
    "    FilingDocument {\n",
    "      _metadata {\n",
    "        totalCount\n",
    "      }\n",
    "      Identifiers {\n",
    "        Dcn\n",
    "      }\n",
    "      DocId\n",
    "      FinancialFilingId\n",
    "      DocumentSummary {\n",
    "        DocumentTitle\n",
    "        FilingDate\n",
    "        DocumentType\n",
    "        SubmissionTypeDescription {\n",
    "          Value\n",
    "        }\n",
    "        HighLevelCategory\n",
    "        MidLevelCategory\n",
    "        FeedName\n",
    "      }\n",
    "      FilesMetaData {\n",
    "        FileName\n",
    "        MimeType\n",
    "      }\n",
    "    }\n",
    "  }\n",
    "}\n"
   ]
  },
  {
   "cell_type": "markdown",
   "id": "4e4aca59",
   "metadata": {},
   "source": [
    "## Sample :  Find by Organization ID, dates, and language"
   ]
  },
  {
   "cell_type": "code",
   "execution_count": null,
   "id": "2996c392",
   "metadata": {},
   "outputs": [],
   "source": [
    "\n",
    "variables = {'OrganizationId': '4295861160', 'LanguageId': '505062', 'FilingDateFrom': '2020-01-01T00:00:00Z', 'FilingDateTo': '2020-12-31T00:00:00Z'}"
   ]
  },
  {
   "cell_type": "code",
   "execution_count": 3,
   "id": "9cc7f732",
   "metadata": {},
   "outputs": [
    {
     "data": {
      "text/plain": [
       "{\n    \u001b[94m\"data\"\u001b[39;49;00m: {\n        \u001b[94m\"FinancialFiling\"\u001b[39;49;00m: [\n            {\n                \u001b[94m\"FilingOrganization\"\u001b[39;49;00m: {\n                    \u001b[94m\"Names\"\u001b[39;49;00m: {\n                        \u001b[94m\"Name\"\u001b[39;49;00m: {\n                            \u001b[94m\"OrganizationName\"\u001b[39;49;00m: [\n                                {\n                                    \u001b[94m\"Name\"\u001b[39;49;00m: \u001b[33m\"THOMSON REUTERS CORPORATION\"\u001b[39;49;00m\n                                }\n                            ]\n                        }\n                    },\n                    \u001b[94m\"Details\"\u001b[39;49;00m: {\n                        \u001b[94m\"OrganizationDetails\"\u001b[39;49;00m: {\n                            \u001b[94m\"JurisdictionOfIncorporation\"\u001b[39;49;00m: \u001b[33m\"ONTARIO\"\u001b[39;49;00m\n                        }\n                    }\n                },\n                \u001b[94m\"FilingDocument\"\u001b[39;49;00m: {\n                    \u001b[94m\"_metadata\"\u001b[39;49;00m: {\n                        \u001b[94m\"totalCount\"\u001b[39;49;00m: \u001b[34mnull\u001b[39;49;00m\n                    },\n                    \u001b[94m\"Identifiers\"\u001b[39;49;00m: [\n                        {\n                            \u001b[94m\"Dcn\"\u001b[39;49;00m: \u001b[33m\"sd05451593\"\u001b[39;49;00m\n                        }\n                    ],\n                    \u001b[94m\"DocId\"\u001b[39;49;00m: \u001b[33m\"56357098\"\u001b[39;49;00m,\n                    \u001b[94m\"FinancialFilingId\"\u001b[39;49;00m: \u001b[34m97661035721\u001b[39;49;00m,\n                    \u001b[94m\"DocumentSummary\"\u001b[39;49;00m: {\n                        \u001b[94m\"DocumentTitle\"\u001b[39;49;00m: \u001b[33m\"Material document (amended) - English\"\u001b[39;49;00m,\n                        \u001b[94m\"FilingDate\"\u001b[39;49;00m: \u001b[33m\"2020-12-31T00:00:00.000Z\"\u001b[39;49;00m,\n                        \u001b[94m\"DocumentType\"\u001b[39;49;00m: \u001b[33m\"CIRC\"\u001b[39;49;00m,\n                        \u001b[94m\"SubmissionTypeDescription\"\u001b[39;49;00m: {\n                            \u001b[94m\"Value\"\u001b[39;49;00m: \u001b[33m\"Material document (amended) - English\"\u001b[39;49;00m\n                        },\n                        \u001b[94m\"HighLevelCategory\"\u001b[39;49;00m: \u001b[33m\"Company Significant Event/Press Releases\"\u001b[39;49;00m,\n                        \u001b[94m\"MidLevelCategory\"\u001b[39;49;00m: \u001b[33m\"Contractual Agreements,  Cancellations&Changes\"\u001b[39;49;00m,\n                        \u001b[94m\"FeedName\"\u001b[39;49;00m: \u001b[33m\"SEDAR\"\u001b[39;49;00m\n                    },\n                    \u001b[94m\"FilesMetaData\"\u001b[39;49;00m: [\n                        {\n                            \u001b[94m\"FileName\"\u001b[39;49;00m: \u001b[33m\"ecpfilings_97661035721_pdf\"\u001b[39;49;00m,\n                            \u001b[94m\"MimeType\"\u001b[39;49;00m: \u001b[33m\"application/pdf\"\u001b[39;49;00m\n                        }\n                    ]\n                }\n            }\n        ]\n    },\n    \u001b[94m\"extensions\"\u001b[39;49;00m: {\n        \u001b[94m\"warnings\"\u001b[39;49;00m: [\n            {\n                \u001b[94m\"field\"\u001b[39;49;00m: \u001b[33m\"FinancialFiling\"\u001b[39;49;00m,\n                \u001b[94m\"message\"\u001b[39;49;00m: \u001b[33m\"Results may have been truncated. Specify a limit and cursor to fetch more.\"\u001b[39;49;00m,\n                \u001b[94m\"type\"\u001b[39;49;00m: \u001b[33m\"RESULT_TRUNCATED\"\u001b[39;49;00m,\n                \u001b[94m\"warningCode\"\u001b[39;49;00m: \u001b[33m\"DW005\"\u001b[39;49;00m\n            }\n        ]\n    }\n}\n"
      ]
     },
     "metadata": {},
     "output_type": "display_data"
    }
   ],
   "source": [
    "output_format = 'json'  # available: json\n",
    "%run ../../../config_files/config_request_handler.ipynb"
   ]
  },
  {
   "cell_type": "markdown",
   "id": "d6e1ba63",
   "metadata": {},
   "source": [
    "## Close the default session when done"
   ]
  },
  {
   "cell_type": "code",
   "execution_count": null,
   "id": "a27e7f1d",
   "metadata": {},
   "outputs": [],
   "source": [
    "session.close()"
   ]
  }
 ],
 "metadata": {},
 "nbformat": 4,
 "nbformat_minor": 5
}
