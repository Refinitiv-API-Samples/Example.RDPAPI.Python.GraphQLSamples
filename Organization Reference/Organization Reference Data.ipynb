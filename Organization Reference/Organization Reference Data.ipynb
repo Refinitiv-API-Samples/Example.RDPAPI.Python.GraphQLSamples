{
 "cells": [
  {
   "cell_type": "markdown",
   "id": "32b5a41f",
   "metadata": {},
   "source": [
    "# Pre-canned Queries for Python\n",
    "## Function to call Organization Reference Data\n",
    "This query demonstrates using a list of Legal Entity Identifiers to return Organization Reference Data:\n",
    "  * Demonstrates how the Domicile of the Organizartion can be represented by the name, and ISO 31661 Alpha 2 code\n",
    "  * The different styles of name and language that are available\n",
    "  * Business description (showing how to filter the result by specifying a language PermID 505062 - English)\n",
    "  * The identifiers associated with the organization (including Tax Ids, Company Registration Ids)\n",
    "  * The addresses and phone / fax numbers accociated with the organization\n",
    "  * Organization Reference Data\n",
    "  * TRBC and NAICS Classification Description and Scheme values\n",
    "  * Organizations related to the organization being queried. In this example, the query links to a child instance of the OrganizationReference model for the Registration Authority (where the user would have acess to all attributes in the data model), where as the Tax Authority, Primary Regulator, and Ultimate Parent of the organizartion are identified by their Organiz`tion PermIDs.` \n",
    "The query demonstrates how fields that contain enumerated values can be configured to return a human readable value rather than the enumerated value. Each field that contains an enumerated value is followed by a request for the human readable value. Depending ono the nature of the content of the field, this human readable value is either a description, or a recognised identifier. The data returned is not exhaustive, but is intended to demonstrate what kind of data is available, how to apply filters to constrain the response where multiple records are returned, and how to expand enumerated values.\n",
    "\n",
    "\n",
    "tags :     `Organiztion`, `Reference`, `Classification`, `Identifiers`\n",
    "## Import the library and load credentials\n",
    "Credentials used by this notebook are stored in the config_files/credentials.ipynb. Please edit credentials.ipynb to set your credentials and run the next cell to continue with the scripts "
   ]
  },
  {
   "cell_type": "code",
   "execution_count": null,
   "id": "b2f88c48",
   "metadata": {},
   "outputs": [],
   "source": [
    "from pathlib import Path \n",
    "import os\n",
    "\n",
    "%run ../config_files/credentials.ipynb \n",
    "%run ../config_files/environment_selection.ipynb"
   ]
  },
  {
   "cell_type": "markdown",
   "id": "30545316",
   "metadata": {},
   "source": [
    "To connect to the Refinitiv Data and opening a session,given function is used. To find out more about the library,you can visit [refinitiv-data library](https://pypi.org/project/refinitiv-data/)"
   ]
  },
  {
   "cell_type": "code",
   "execution_count": null,
   "id": "35c1b5ef",
   "metadata": {},
   "outputs": [],
   "source": [
    "session = rd.session.platform.Definition(\n",
    "    app_key=APP_KEY,\n",
    "    grant=rd.session.platform.GrantPassword(\n",
    "        username=RD_LOGIN, password=RD_PASSWORD\n",
    "    ),\n",
    ").get_session()\n",
    "session.open()\n"
   ]
  },
  {
   "cell_type": "markdown",
   "id": "ecd46874",
   "metadata": {},
   "source": [
    "## Graph call\n",
    "Graph call with given sets of samples below. "
   ]
  },
  {
   "cell_type": "code",
   "execution_count": null,
   "id": "5e6a8980",
   "metadata": {},
   "outputs": [],
   "source": [
    "%%writefile query_cache\n",
    "query OrganizationData($identifierTypeName: OrganizationReferenceIdentifierTypeNameEnumArgs!, $identifier: String!) {\n",
    "  OrganizationReference(identifiers: [{identifierTypeName: $identifierTypeName, identifier: $identifier}]) {\n",
    "    _metadata {\n",
    "      identifier\n",
    "    }\n",
    "    ObjectId\n",
    "    OrganizationDomicile_v2 {\n",
    "      Geography {\n",
    "        LongName\n",
    "      }\n",
    "      Identifier {\n",
    "        Identifiers(filter: {ValueTypeId: {EQ: \"320099\"}}) {\n",
    "          Value\n",
    "          ValueTypeCode\n",
    "          ValueTypeId\n",
    "        }\n",
    "      }\n",
    "    }\n",
    "    Names {\n",
    "      Name {\n",
    "        OrganizationName {\n",
    "          NameTypeCode\n",
    "          NameTypeCodeDescr: NameTypeCode(format: Name, style: LongName, language: en_US)\n",
    "          SequenceNumber\n",
    "          LanguageId_v2\n",
    "          LanguageId_v2Descr: LanguageId_v2(format: Bcp47)\n",
    "          ProviderId\n",
    "          ProviderIdDescr: ProviderId(format: Name, style: LongName, language: en_US)\n",
    "          EffectiveFromDate\n",
    "          LastModifiedDate\n",
    "          Name\n",
    "          NormalizedName\n",
    "          TransliteratedName\n",
    "          PrimaryNameFlag\n",
    "          SourceLink\n",
    "          SourceTypeId\n",
    "          SourceTypeIdDescr: SourceTypeId(format: Name, style: LongName, language: en_US)\n",
    "          SourceUpdateDate\n",
    "        }\n",
    "      }\n",
    "    }\n",
    "    Business {\n",
    "      Description (filter:{LanguageId:{EQ:\"505062\"}}) {\n",
    "        LanguageId\n",
    "        LanguageIdDescr: LanguageId(format: Bcp47)\n",
    "        BusinessDescriptionEffectiveFrom\n",
    "        BusinessDescription\n",
    "        BusinessDescriptionLastModified\n",
    "        Provenance {\n",
    "          SourceTypeCode_v2\n",
    "          SourceTypeCode_v2Descr: SourceTypeCode_v2(format: Name, style: LongName, language: en_US)\n",
    "          SourceFilingDate\n",
    "          LanguageId\n",
    "          LanguageIdDescr: LanguageId(format: Bcp47)\n",
    "          SourceLink\n",
    "          SourceUpdateDate\n",
    "        }\n",
    "      }\n",
    "    }\n",
    "    OrganizationIdentifiers {\n",
    "      IdentifierTypeId_v2\n",
    "      IdentifierTypeId_v2Descr: IdentifierTypeId_v2(format: Name, style: LongName, language: en_US)\n",
    "      IdentifierData {\n",
    "        Identifier\n",
    "        IdentifierCreatedDate\n",
    "        IdentifierEffectiveFrom\n",
    "        LastModifiedDate\n",
    "        Source\n",
    "        SourceLastUpdateDate\n",
    "        SourceTypeCode_v2\n",
    "        SourceUpdateDate\n",
    "      }\n",
    "    }\n",
    "    Addresses {\n",
    "      AddressTypeCode\n",
    "      AddressTypeCodeDescr: AddressTypeCode(format: Name, style: LongName, language: en_US)\n",
    "      LanguageId_v2\n",
    "      LanguageId_v2Descr: LanguageId_v2(format: Bcp47)\n",
    "      EffectiveFrom\n",
    "      AddressLastModifiedDate\n",
    "      AddressSourceLink\n",
    "      Line1\n",
    "      Line2\n",
    "      Line3\n",
    "      City\n",
    "      StateProvinceOfficialCode\n",
    "      StateProvinceId_v2\n",
    "      StateProvinceId_v2Descr:StateProvinceId_v2(format:Name,style:LongName,language:en_US)\n",
    "      CountryId_v2\n",
    "      CountryId_v2Descr: CountryId_v2(format: Name, style: LongName, language: en_US)\n",
    "      CountryId_v2Iso: CountryId_v2(format: Iso_31661_2)\n",
    "      PostalCode\n",
    "      Line1Transliterated\n",
    "      Line2Transliterated\n",
    "      Line3Transliterated\n",
    "      SourceTypeCode_v2\n",
    "      SourceTypeCode_v2Descr: SourceTypeCode_v2(format: Name, style: LongName, language: en_US)\n",
    "      SourceUpdateDate\n",
    "    }\n",
    "    OrganizationPhone {\n",
    "      OrganizationPhoneFaxType\n",
    "      OrganizationPhoneFaxTypeDescr: OrganizationPhoneFaxType(format: Name, style: LongName, language: en_US)\n",
    "      OrganizationPhoneFaxEffectiveFrom\n",
    "      OrganizationPhoneFaxLastModified\n",
    "      OrganizationPhoneFaxNumber\n",
    "      OrganizationPhoneFaxSourceLink\n",
    "      SourceTypeCode_v2\n",
    "      SourceTypeCode_v2Descr: SourceTypeCode_v2(format: Name, style: LongName, language: en_US)\n",
    "      SourceUpdateDate\n",
    "    }\n",
    "    Details {\n",
    "      OrganizationDetails {\n",
    "        JurisdictionOfIncorporation\n",
    "        OrganizationTier\n",
    "        OrganizationStatusCode\n",
    "        OrganizationStatusCodeDescr: OrganizationStatusCode(format: Name, style: LongName, language: en_US)\n",
    "        OrganizationTypeCode\n",
    "        OrganizationTypeCodeDescr: OrganizationTypeCode(format: Name, style: LongName, language: en_US)\n",
    "        OrganizationSubTypeCode\n",
    "        OrganizationSubTypeCodeDescr: OrganizationSubTypeCode(format: Name, style: LongName, language: en_US)\n",
    "        FoundedDay\n",
    "        FoundedMonth\n",
    "        FoundedYear\n",
    "        PublicFlag\n",
    "        IpoDate\n",
    "        OrganizationWebsite\n",
    "      }\n",
    "    }\n",
    "    ClassificationTrbcPrimaryScheme_v2 {\n",
    "      Industry {\n",
    "        LongName\n",
    "        Names(filter: {AND: [{LanguageId: {EQ: \"505074\"}}, {NameTypeId: {EQ: \"404502\"}}]}) {\n",
    "          LanguageId\n",
    "          Name\n",
    "          NameOrder\n",
    "          NameTypeId\n",
    "        }\n",
    "      }\n",
    "      Identifier {\n",
    "        Identifiers (filter:{ValueTypeId:{EQ:\"320159\"}}) {\n",
    "          Value\n",
    "          ValueTypeCode\n",
    "          ValueTypeId\n",
    "        }\n",
    "      }\n",
    "    }\n",
    "    ClassificationNaicsPrimaryScheme_v2 {\n",
    "      Industry {\n",
    "        LongName\n",
    "        Names(filter: {AND: [{LanguageId: {EQ: \"505074\"}}, {NameTypeId: {EQ: \"404502\"}}]}) {\n",
    "          LanguageId\n",
    "          Name\n",
    "          NameOrder\n",
    "          NameTypeId\n",
    "        }\n",
    "      }\n",
    "      Identifier {\n",
    "        Identifiers {\n",
    "          Value\n",
    "          ValueTypeCode\n",
    "          ValueTypeId\n",
    "        }\n",
    "      }\n",
    "    }\n",
    "    RegistrationAuthority{\n",
    "      ObjectId\n",
    "      Names{\n",
    "        Name{\n",
    "          OrganizationName(filter:{NameTypeCode:{EQ:\"LNG\"}}) {\n",
    "            Name\n",
    "          }\n",
    "        }\n",
    "      }\n",
    "    }\n",
    "    TaxAuthorityId\n",
    "    PrimaryRegulatorId\n",
    "    UltimateParentId\n",
    "  }\n",
    "}\n"
   ]
  },
  {
   "cell_type": "markdown",
   "id": "82c831fb",
   "metadata": {},
   "source": [
    "## Sample :  Query demonstrates using a list of Legal Entity Identifiers to return Organization Reference Data"
   ]
  },
  {
   "cell_type": "code",
   "execution_count": null,
   "id": "aebe8cb6",
   "metadata": {},
   "outputs": [],
   "source": [
    "\n",
    "variables = {'identifierTypeName': 'LEI', 'identifier': '213800QAUUUP6I445N30'}"
   ]
  },
  {
   "cell_type": "code",
   "execution_count": 3,
   "id": "fad73d25",
   "metadata": {},
   "outputs": [
    {
     "data": {
      "text/plain": [
       "{\n    \u001b[94m\"data\"\u001b[39;49;00m: {\n        \u001b[94m\"OrganizationReference\"\u001b[39;49;00m: [\n            {\n                \u001b[94m\"_metadata\"\u001b[39;49;00m: {\n                    \u001b[94m\"identifier\"\u001b[39;49;00m: \u001b[33m\"213800QAUUUP6I445N30\"\u001b[39;49;00m\n                },\n                \u001b[94m\"ObjectId\"\u001b[39;49;00m: \u001b[33m\"4298007752\"\u001b[39;49;00m,\n                \u001b[94m\"OrganizationDomicile_v2\"\u001b[39;49;00m: {\n                    \u001b[94m\"Geography\"\u001b[39;49;00m: {\n                        \u001b[94m\"LongName\"\u001b[39;49;00m: \u001b[33m\"United Kingdom\"\u001b[39;49;00m\n                    },\n                    \u001b[94m\"Identifier\"\u001b[39;49;00m: {\n                        \u001b[94m\"Identifiers\"\u001b[39;49;00m: [\n                            {\n                                \u001b[94m\"Value\"\u001b[39;49;00m: \u001b[33m\"GB\"\u001b[39;49;00m,\n                                \u001b[94m\"ValueTypeCode\"\u001b[39;49;00m: \u001b[33m\"Iso31661Alpha2\"\u001b[39;49;00m,\n                                \u001b[94m\"ValueTypeId\"\u001b[39;49;00m: \u001b[33m\"320099\"\u001b[39;49;00m\n                            },\n                            \u001b[33m\"...\"\u001b[39;49;00m\n                        ]\n                    }\n                },\n                \u001b[94m\"Names\"\u001b[39;49;00m: {\n                    \u001b[94m\"Name\"\u001b[39;49;00m: {\n                        \u001b[94m\"OrganizationName\"\u001b[39;49;00m: [\n                            {\n                                \u001b[94m\"NameTypeCode\"\u001b[39;49;00m: \u001b[33m\"LNG\"\u001b[39;49;00m,\n                                \u001b[94m\"NameTypeCodeDescr\"\u001b[39;49;00m: \u001b[33m\"Official Name\"\u001b[39;49;00m,\n                                \u001b[94m\"SequenceNumber\"\u001b[39;49;00m: \u001b[34m1\u001b[39;49;00m,\n                                \u001b[94m\"LanguageId_v2\"\u001b[39;49;00m: \u001b[33m\"505062\"\u001b[39;49;00m,\n                                \u001b[94m\"LanguageId_v2Descr\"\u001b[39;49;00m: \u001b[33m\"en\"\u001b[39;49;00m,\n                                \u001b[94m\"ProviderId\"\u001b[39;49;00m: \u001b[33m\"1\"\u001b[39;49;00m,\n                                \u001b[94m\"ProviderIdDescr\"\u001b[39;49;00m: \u001b[33m\"Refinitiv\"\u001b[39;49;00m,\n                                \u001b[94m\"EffectiveFromDate\"\u001b[39;49;00m: \u001b[33m\"2005-12-07T05:00:00.000Z\"\u001b[39;49;00m,\n                                \u001b[94m\"LastModifiedDate\"\u001b[39;49;00m: \u001b[33m\"2012-07-04T13:07:32.000Z\"\u001b[39;49;00m,\n                                \u001b[94m\"Name\"\u001b[39;49;00m: \u001b[33m\"LONDON STOCK EXCHANGE GROUP PLC\"\u001b[39;49;00m,\n                                \u001b[94m\"NormalizedName\"\u001b[39;49;00m: \u001b[33m\"London Stock Exchange Group PLC\"\u001b[39;49;00m,\n                                \u001b[94m\"TransliteratedName\"\u001b[39;49;00m: \u001b[34mnull\u001b[39;49;00m,\n                                \u001b[94m\"PrimaryNameFlag\"\u001b[39;49;00m: \u001b[34mnull\u001b[39;49;00m,\n                                \u001b[94m\"SourceLink\"\u001b[39;49;00m: \u001b[33m\"http://wck2.companieshouse.gov.uk/\"\u001b[39;49;00m,\n                                \u001b[94m\"SourceTypeId\"\u001b[39;49;00m: \u001b[33m\"4\"\u001b[39;49;00m,\n                                \u001b[94m\"SourceTypeIdDescr\"\u001b[39;49;00m: \u001b[33m\"Registration Authority\"\u001b[39;49;00m,\n                                \u001b[94m\"SourceUpdateDate\"\u001b[39;49;00m: \u001b[33m\"2020-06-24T17:40:36.000Z\"\u001b[39;49;00m\n                            },\n                            \u001b[33m\"...\"\u001b[39;49;00m\n                        ]\n                    }\n                },\n                \u001b[94m\"Business\"\u001b[39;49;00m: {\n                    \u001b[94m\"Description\"\u001b[39;49;00m: [\n                        {\n                            \u001b[94m\"LanguageId\"\u001b[39;49;00m: \u001b[33m\"505062\"\u001b[39;49;00m,\n                            \u001b[94m\"LanguageIdDescr\"\u001b[39;49;00m: \u001b[33m\"en\"\u001b[39;49;00m,\n                            \u001b[94m\"BusinessDescriptionEffectiveFrom\"\u001b[39;49;00m: \u001b[33m\"2020-12-09T05:00:00.000Z\"\u001b[39;49;00m,\n                            \u001b[94m\"BusinessDescription\"\u001b[39;49;00m: \u001b[33m\"London Stock Exchange Group PLC (LSEG) is a global financial markets infrastructure provider. LSEG operates across three divisions. Data & Analytics division provides customers with information and data products, and includes real-time and non-real-time data, pricing and reference services and indices, delivered via various distribution channels, including data feeds and desktop solutions. Data & Analytics consists of Trading & Banking Solutions, Investment Solutions, Wealth Solutions, Customer and 3rd Party Risk Solutions, and Enterprise Data Solutions. FTSE Russell is a global multi-asset class provider of indices, analytics and data solutions. Capital Markets division provides access to capital for domestic and international businesses and electronic platforms for secondary market trading of equities, fixed income and FX. Post Trade division provides clearing, settlement and regulatory reporting services to support clients\\u2019 risk and balance sheet management and regulatory reporting.\"\u001b[39;49;00m,\n                            \u001b[94m\"BusinessDescriptionLastModified\"\u001b[39;49;00m: \u001b[33m\"2021-02-08T15:47:29.000Z\"\u001b[39;49;00m,\n                            \u001b[94m\"Provenance\"\u001b[39;49;00m: [\n                                {\n                                    \u001b[94m\"SourceTypeCode_v2\"\u001b[39;49;00m: \u001b[33m\"23\"\u001b[39;49;00m,\n                                    \u001b[94m\"SourceTypeCode_v2Descr\"\u001b[39;49;00m: \u001b[33m\"Refinitiv EJV\"\u001b[39;49;00m,\n                                    \u001b[94m\"SourceFilingDate\"\u001b[39;49;00m: \u001b[33m\"2021-02-08T05:00:00.000Z\"\u001b[39;49;00m,\n                                    \u001b[94m\"LanguageId\"\u001b[39;49;00m: \u001b[33m\"505062\"\u001b[39;49;00m,\n                                    \u001b[94m\"LanguageIdDescr\"\u001b[39;49;00m: \u001b[33m\"en\"\u001b[39;49;00m,\n                                    \u001b[94m\"SourceLink\"\u001b[39;49;00m: \u001b[34mnull\u001b[39;49;00m,\n                                    \u001b[94m\"SourceUpdateDate\"\u001b[39;49;00m: \u001b[34mnull\u001b[39;49;00m\n                                },\n                                \u001b[33m\"...\"\u001b[39;49;00m\n                            ]\n                        },\n                        \u001b[33m\"...\"\u001b[39;49;00m\n                    ]\n                },\n                \u001b[94m\"OrganizationIdentifiers\"\u001b[39;49;00m: [\n                    {\n                        \u001b[94m\"IdentifierTypeId_v2\"\u001b[39;49;00m: \u001b[33m\"320141\"\u001b[39;49;00m,\n                        \u001b[94m\"IdentifierTypeId_v2Descr\"\u001b[39;49;00m: \u001b[33m\"Edcoid\"\u001b[39;49;00m,\n                        \u001b[94m\"IdentifierData\"\u001b[39;49;00m: [\n                            {\n                                \u001b[94m\"Identifier\"\u001b[39;49;00m: \u001b[33m\"LSEG.L\"\u001b[39;49;00m,\n                                \u001b[94m\"IdentifierCreatedDate\"\u001b[39;49;00m: \u001b[33m\"2021-01-28T21:21:33.000Z\"\u001b[39;49;00m,\n                                \u001b[94m\"IdentifierEffectiveFrom\"\u001b[39;49;00m: \u001b[33m\"2021-01-28T21:21:33.000Z\"\u001b[39;49;00m,\n                                \u001b[94m\"LastModifiedDate\"\u001b[39;49;00m: \u001b[33m\"2021-01-28T21:21:33.000Z\"\u001b[39;49;00m,\n                                \u001b[94m\"Source\"\u001b[39;49;00m: \u001b[34mnull\u001b[39;49;00m,\n                                \u001b[94m\"SourceLastUpdateDate\"\u001b[39;49;00m: \u001b[34mnull\u001b[39;49;00m,\n                                \u001b[94m\"SourceTypeCode_v2\"\u001b[39;49;00m: \u001b[34mnull\u001b[39;49;00m,\n                                \u001b[94m\"SourceUpdateDate\"\u001b[39;49;00m: \u001b[34mnull\u001b[39;49;00m\n                            },\n                            \u001b[33m\"...\"\u001b[39;49;00m\n                        ]\n                    },\n                    \u001b[33m\"...\"\u001b[39;49;00m\n                ],\n                \u001b[94m\"Addresses\"\u001b[39;49;00m: [\n                    {\n                        \u001b[94m\"AddressTypeCode\"\u001b[39;49;00m: \u001b[33m\"LREG\"\u001b[39;49;00m,\n                        \u001b[94m\"AddressTypeCodeDescr\"\u001b[39;49;00m: \u001b[33m\"Legal Registration\"\u001b[39;49;00m,\n                        \u001b[94m\"LanguageId_v2\"\u001b[39;49;00m: \u001b[33m\"505062\"\u001b[39;49;00m,\n                        \u001b[94m\"LanguageId_v2Descr\"\u001b[39;49;00m: \u001b[33m\"en\"\u001b[39;49;00m,\n                        \u001b[94m\"EffectiveFrom\"\u001b[39;49;00m: \u001b[33m\"2009-07-21T04:00:00.000Z\"\u001b[39;49;00m,\n                        \u001b[94m\"AddressLastModifiedDate\"\u001b[39;49;00m: \u001b[33m\"2020-06-24T17:40:36.000Z\"\u001b[39;49;00m,\n                        \u001b[94m\"AddressSourceLink\"\u001b[39;49;00m: \u001b[33m\"http://wck2.companieshouse.gov.uk/\"\u001b[39;49;00m,\n                        \u001b[94m\"Line1\"\u001b[39;49;00m: \u001b[33m\"10 Paternoster Square\"\u001b[39;49;00m,\n                        \u001b[94m\"Line2\"\u001b[39;49;00m: \u001b[34mnull\u001b[39;49;00m,\n                        \u001b[94m\"Line3\"\u001b[39;49;00m: \u001b[34mnull\u001b[39;49;00m,\n                        \u001b[94m\"City\"\u001b[39;49;00m: \u001b[33m\"London\"\u001b[39;49;00m,\n                        \u001b[94m\"StateProvinceOfficialCode\"\u001b[39;49;00m: \u001b[34mnull\u001b[39;49;00m,\n                        \u001b[94m\"StateProvinceId_v2\"\u001b[39;49;00m: \u001b[34mnull\u001b[39;49;00m,\n                        \u001b[94m\"StateProvinceId_v2Descr\"\u001b[39;49;00m: \u001b[34mnull\u001b[39;49;00m,\n                        \u001b[94m\"CountryId_v2\"\u001b[39;49;00m: \u001b[33m\"100317\"\u001b[39;49;00m,\n                        \u001b[94m\"CountryId_v2Descr\"\u001b[39;49;00m: \u001b[33m\"United Kingdom\"\u001b[39;49;00m,\n                        \u001b[94m\"CountryId_v2Iso\"\u001b[39;49;00m: \u001b[33m\"GB\"\u001b[39;49;00m,\n                        \u001b[94m\"PostalCode\"\u001b[39;49;00m: \u001b[33m\"EC4M 7LS\"\u001b[39;49;00m,\n                        \u001b[94m\"Line1Transliterated\"\u001b[39;49;00m: \u001b[34mnull\u001b[39;49;00m,\n                        \u001b[94m\"Line2Transliterated\"\u001b[39;49;00m: \u001b[34mnull\u001b[39;49;00m,\n                        \u001b[94m\"Line3Transliterated\"\u001b[39;49;00m: \u001b[34mnull\u001b[39;49;00m,\n                        \u001b[94m\"SourceTypeCode_v2\"\u001b[39;49;00m: \u001b[33m\"4\"\u001b[39;49;00m,\n                        \u001b[94m\"SourceTypeCode_v2Descr\"\u001b[39;49;00m: \u001b[33m\"Registration Authority\"\u001b[39;49;00m,\n                        \u001b[94m\"SourceUpdateDate\"\u001b[39;49;00m: \u001b[33m\"2014-07-22T04:00:00.000Z\"\u001b[39;49;00m\n                    },\n                    \u001b[33m\"...\"\u001b[39;49;00m\n                ],\n                \u001b[94m\"OrganizationPhone\"\u001b[39;49;00m: [\n                    {\n                        \u001b[94m\"OrganizationPhoneFaxType\"\u001b[39;49;00m: \u001b[33m\"ORG_REG_ADD_PHONE\"\u001b[39;49;00m,\n                        \u001b[94m\"OrganizationPhoneFaxTypeDescr\"\u001b[39;49;00m: \u001b[33m\"Organization Registered Address Phone\"\u001b[39;49;00m,\n                        \u001b[94m\"OrganizationPhoneFaxEffectiveFrom\"\u001b[39;49;00m: \u001b[33m\"2009-07-21T04:00:00.000Z\"\u001b[39;49;00m,\n                        \u001b[94m\"OrganizationPhoneFaxLastModified\"\u001b[39;49;00m: \u001b[33m\"2017-05-31T10:20:49.000Z\"\u001b[39;49;00m,\n                        \u001b[94m\"OrganizationPhoneFaxNumber\"\u001b[39;49;00m: \u001b[34mnull\u001b[39;49;00m,\n                        \u001b[94m\"OrganizationPhoneFaxSourceLink\"\u001b[39;49;00m: \u001b[34mnull\u001b[39;49;00m,\n                        \u001b[94m\"SourceTypeCode_v2\"\u001b[39;49;00m: \u001b[34mnull\u001b[39;49;00m,\n                        \u001b[94m\"SourceTypeCode_v2Descr\"\u001b[39;49;00m: \u001b[34mnull\u001b[39;49;00m,\n                        \u001b[94m\"SourceUpdateDate\"\u001b[39;49;00m: \u001b[34mnull\u001b[39;49;00m\n                    },\n                    \u001b[33m\"...\"\u001b[39;49;00m\n                ],\n                \u001b[94m\"Details\"\u001b[39;49;00m: {\n                    \u001b[94m\"OrganizationDetails\"\u001b[39;49;00m: {\n                        \u001b[94m\"JurisdictionOfIncorporation\"\u001b[39;49;00m: \u001b[33m\"ENGLAND AND WALES\"\u001b[39;49;00m,\n                        \u001b[94m\"OrganizationTier\"\u001b[39;49;00m: \u001b[34m1\u001b[39;49;00m,\n                        \u001b[94m\"OrganizationStatusCode\"\u001b[39;49;00m: \u001b[33m\"Act\"\u001b[39;49;00m,\n                        \u001b[94m\"OrganizationStatusCodeDescr\"\u001b[39;49;00m: \u001b[33m\"Active\"\u001b[39;49;00m,\n                        \u001b[94m\"OrganizationTypeCode\"\u001b[39;49;00m: \u001b[33m\"COM\"\u001b[39;49;00m,\n                        \u001b[94m\"OrganizationTypeCodeDescr\"\u001b[39;49;00m: \u001b[33m\"Company\"\u001b[39;49;00m,\n                        \u001b[94m\"OrganizationSubTypeCode\"\u001b[39;49;00m: \u001b[33m\"COR\"\u001b[39;49;00m,\n                        \u001b[94m\"OrganizationSubTypeCodeDescr\"\u001b[39;49;00m: \u001b[33m\"Operating Company\"\u001b[39;49;00m,\n                        \u001b[94m\"FoundedDay\"\u001b[39;49;00m: \u001b[33m\"18\"\u001b[39;49;00m,\n                        \u001b[94m\"FoundedMonth\"\u001b[39;49;00m: \u001b[33m\"02\"\u001b[39;49;00m,\n                        \u001b[94m\"FoundedYear\"\u001b[39;49;00m: \u001b[33m\"2005\"\u001b[39;49;00m,\n                        \u001b[94m\"PublicFlag\"\u001b[39;49;00m: \u001b[34mtrue\u001b[39;49;00m,\n                        \u001b[94m\"IpoDate\"\u001b[39;49;00m: \u001b[33m\"2006-05-15T04:00:00.000Z\"\u001b[39;49;00m,\n                        \u001b[94m\"OrganizationWebsite\"\u001b[39;49;00m: \u001b[33m\"https://www.lseg.com/\"\u001b[39;49;00m\n                    }\n                },\n                \u001b[94m\"ClassificationTrbcPrimaryScheme_v2\"\u001b[39;49;00m: {\n                    \u001b[94m\"Industry\"\u001b[39;49;00m: {\n                        \u001b[94m\"LongName\"\u001b[39;49;00m: \u001b[33m\"Financial & Commodity Market Operators & Service Providers (NEC)\"\u001b[39;49;00m,\n                        \u001b[94m\"Names\"\u001b[39;49;00m: [\n                            {\n                                \u001b[94m\"LanguageId\"\u001b[39;49;00m: \u001b[33m\"505074\"\u001b[39;49;00m,\n                                \u001b[94m\"Name\"\u001b[39;49;00m: \u001b[33m\"Companies involved in at least two activities under the Securities & Commodity Exchanges industry, none being dominant: Securities & Commodity Exchanges; Clearing, Settlement & Custodial Service; Financial Technology & Infrastructure. Includes also entities not elsewhere classified under the Financial & Commodity Market Operators industry.\"\u001b[39;49;00m,\n                                \u001b[94m\"NameOrder\"\u001b[39;49;00m: \u001b[34m1\u001b[39;49;00m,\n                                \u001b[94m\"NameTypeId\"\u001b[39;49;00m: \u001b[33m\"404502\"\u001b[39;49;00m\n                            },\n                            \u001b[33m\"...\"\u001b[39;49;00m\n                        ]\n                    },\n                    \u001b[94m\"Identifier\"\u001b[39;49;00m: {\n                        \u001b[94m\"Identifiers\"\u001b[39;49;00m: [\n                            {\n                                \u001b[94m\"Value\"\u001b[39;49;00m: \u001b[33m\"5510205010\"\u001b[39;49;00m,\n                                \u001b[94m\"ValueTypeCode\"\u001b[39;49;00m: \u001b[33m\"Trbc\"\u001b[39;49;00m,\n                                \u001b[94m\"ValueTypeId\"\u001b[39;49;00m: \u001b[33m\"320159\"\u001b[39;49;00m\n                            },\n                            \u001b[33m\"...\"\u001b[39;49;00m\n                        ]\n                    }\n                },\n                \u001b[94m\"ClassificationNaicsPrimaryScheme_v2\"\u001b[39;49;00m: {\n                    \u001b[94m\"Industry\"\u001b[39;49;00m: {\n                        \u001b[94m\"LongName\"\u001b[39;49;00m: \u001b[33m\"Securities and Commodity Exchanges\"\u001b[39;49;00m,\n                        \u001b[94m\"Names\"\u001b[39;49;00m: [\n                            {\n                                \u001b[94m\"LanguageId\"\u001b[39;49;00m: \u001b[33m\"505074\"\u001b[39;49;00m,\n                                \u001b[94m\"Name\"\u001b[39;49;00m: \u001b[33m\"This industry comprises establishments primarily engaged in furnishing physical or electronic marketplaces for the purpose of facilitating the buying and selling of stocks, stock options, bonds, or commodity contracts.\"\u001b[39;49;00m,\n                                \u001b[94m\"NameOrder\"\u001b[39;49;00m: \u001b[34m1\u001b[39;49;00m,\n                                \u001b[94m\"NameTypeId\"\u001b[39;49;00m: \u001b[33m\"404502\"\u001b[39;49;00m\n                            },\n                            \u001b[33m\"...\"\u001b[39;49;00m\n                        ]\n                    },\n                    \u001b[94m\"Identifier\"\u001b[39;49;00m: {\n                        \u001b[94m\"Identifiers\"\u001b[39;49;00m: [\n                            {\n                                \u001b[94m\"Value\"\u001b[39;49;00m: \u001b[33m\"523210\"\u001b[39;49;00m,\n                                \u001b[94m\"ValueTypeCode\"\u001b[39;49;00m: \u001b[33m\"Naics\"\u001b[39;49;00m,\n                                \u001b[94m\"ValueTypeId\"\u001b[39;49;00m: \u001b[33m\"320114\"\u001b[39;49;00m\n                            },\n                            \u001b[33m\"...\"\u001b[39;49;00m\n                        ]\n                    }\n                },\n                \u001b[94m\"RegistrationAuthority\"\u001b[39;49;00m: {\n                    \u001b[94m\"ObjectId\"\u001b[39;49;00m: \u001b[33m\"5000010301\"\u001b[39;49;00m,\n                    \u001b[94m\"Names\"\u001b[39;49;00m: {\n                        \u001b[94m\"Name\"\u001b[39;49;00m: {\n                            \u001b[94m\"OrganizationName\"\u001b[39;49;00m: [\n                                {\n                                    \u001b[94m\"Name\"\u001b[39;49;00m: \u001b[33m\"Companies House\"\u001b[39;49;00m\n                                },\n                                \u001b[33m\"...\"\u001b[39;49;00m\n                            ]\n                        }\n                    }\n                },\n                \u001b[94m\"TaxAuthorityId\"\u001b[39;49;00m: \u001b[33m\"5000046583\"\u001b[39;49;00m,\n                \u001b[94m\"PrimaryRegulatorId\"\u001b[39;49;00m: \u001b[33m\"-1\"\u001b[39;49;00m,\n                \u001b[94m\"UltimateParentId\"\u001b[39;49;00m: \u001b[33m\"4298007752\"\u001b[39;49;00m\n            },\n            \u001b[33m\"...\"\u001b[39;49;00m\n        ]\n    }\n}\n"
      ]
     },
     "metadata": {},
     "output_type": "display_data"
    }
   ],
   "source": [
    "output_format = 'json'  # available: json\n",
    "%run ../config_files/config_request_handler.ipynb"
   ]
  },
  {
   "cell_type": "markdown",
   "id": "6579d3e3",
   "metadata": {},
   "source": [
    "## Sample :  Query demonstrates using a list of Legal Entity Identifiers to return Organization Reference Data"
   ]
  },
  {
   "cell_type": "code",
   "execution_count": null,
   "id": "f6daa88d",
   "metadata": {},
   "outputs": [],
   "source": [
    "\n",
    "variables = {'identifierTypeName': 'LEI', 'identifier': '54930035YLO0PKMDT602'}"
   ]
  },
  {
   "cell_type": "code",
   "execution_count": 3,
   "id": "61f6e4eb",
   "metadata": {},
   "outputs": [
    {
     "data": {
      "text/plain": [
       "{\n    \u001b[94m\"data\"\u001b[39;49;00m: {\n        \u001b[94m\"OrganizationReference\"\u001b[39;49;00m: [\n            {\n                \u001b[94m\"_metadata\"\u001b[39;49;00m: {\n                    \u001b[94m\"identifier\"\u001b[39;49;00m: \u001b[33m\"213800QAUUUP6I445N30\"\u001b[39;49;00m\n                },\n                \u001b[94m\"ObjectId\"\u001b[39;49;00m: \u001b[33m\"4298007752\"\u001b[39;49;00m,\n                \u001b[94m\"OrganizationDomicile_v2\"\u001b[39;49;00m: {\n                    \u001b[94m\"Geography\"\u001b[39;49;00m: {\n                        \u001b[94m\"LongName\"\u001b[39;49;00m: \u001b[33m\"United Kingdom\"\u001b[39;49;00m\n                    },\n                    \u001b[94m\"Identifier\"\u001b[39;49;00m: {\n                        \u001b[94m\"Identifiers\"\u001b[39;49;00m: [\n                            {\n                                \u001b[94m\"Value\"\u001b[39;49;00m: \u001b[33m\"GB\"\u001b[39;49;00m,\n                                \u001b[94m\"ValueTypeCode\"\u001b[39;49;00m: \u001b[33m\"Iso31661Alpha2\"\u001b[39;49;00m,\n                                \u001b[94m\"ValueTypeId\"\u001b[39;49;00m: \u001b[33m\"320099\"\u001b[39;49;00m\n                            },\n                            \u001b[33m\"...\"\u001b[39;49;00m\n                        ]\n                    }\n                },\n                \u001b[94m\"Names\"\u001b[39;49;00m: {\n                    \u001b[94m\"Name\"\u001b[39;49;00m: {\n                        \u001b[94m\"OrganizationName\"\u001b[39;49;00m: [\n                            {\n                                \u001b[94m\"NameTypeCode\"\u001b[39;49;00m: \u001b[33m\"LNG\"\u001b[39;49;00m,\n                                \u001b[94m\"NameTypeCodeDescr\"\u001b[39;49;00m: \u001b[33m\"Official Name\"\u001b[39;49;00m,\n                                \u001b[94m\"SequenceNumber\"\u001b[39;49;00m: \u001b[34m1\u001b[39;49;00m,\n                                \u001b[94m\"LanguageId_v2\"\u001b[39;49;00m: \u001b[33m\"505062\"\u001b[39;49;00m,\n                                \u001b[94m\"LanguageId_v2Descr\"\u001b[39;49;00m: \u001b[33m\"en\"\u001b[39;49;00m,\n                                \u001b[94m\"ProviderId\"\u001b[39;49;00m: \u001b[33m\"1\"\u001b[39;49;00m,\n                                \u001b[94m\"ProviderIdDescr\"\u001b[39;49;00m: \u001b[33m\"Refinitiv\"\u001b[39;49;00m,\n                                \u001b[94m\"EffectiveFromDate\"\u001b[39;49;00m: \u001b[33m\"2005-12-07T05:00:00.000Z\"\u001b[39;49;00m,\n                                \u001b[94m\"LastModifiedDate\"\u001b[39;49;00m: \u001b[33m\"2012-07-04T13:07:32.000Z\"\u001b[39;49;00m,\n                                \u001b[94m\"Name\"\u001b[39;49;00m: \u001b[33m\"LONDON STOCK EXCHANGE GROUP PLC\"\u001b[39;49;00m,\n                                \u001b[94m\"NormalizedName\"\u001b[39;49;00m: \u001b[33m\"London Stock Exchange Group PLC\"\u001b[39;49;00m,\n                                \u001b[94m\"TransliteratedName\"\u001b[39;49;00m: \u001b[34mnull\u001b[39;49;00m,\n                                \u001b[94m\"PrimaryNameFlag\"\u001b[39;49;00m: \u001b[34mnull\u001b[39;49;00m,\n                                \u001b[94m\"SourceLink\"\u001b[39;49;00m: \u001b[33m\"http://wck2.companieshouse.gov.uk/\"\u001b[39;49;00m,\n                                \u001b[94m\"SourceTypeId\"\u001b[39;49;00m: \u001b[33m\"4\"\u001b[39;49;00m,\n                                \u001b[94m\"SourceTypeIdDescr\"\u001b[39;49;00m: \u001b[33m\"Registration Authority\"\u001b[39;49;00m,\n                                \u001b[94m\"SourceUpdateDate\"\u001b[39;49;00m: \u001b[33m\"2020-06-24T17:40:36.000Z\"\u001b[39;49;00m\n                            },\n                            \u001b[33m\"...\"\u001b[39;49;00m\n                        ]\n                    }\n                },\n                \u001b[94m\"Business\"\u001b[39;49;00m: {\n                    \u001b[94m\"Description\"\u001b[39;49;00m: [\n                        {\n                            \u001b[94m\"LanguageId\"\u001b[39;49;00m: \u001b[33m\"505062\"\u001b[39;49;00m,\n                            \u001b[94m\"LanguageIdDescr\"\u001b[39;49;00m: \u001b[33m\"en\"\u001b[39;49;00m,\n                            \u001b[94m\"BusinessDescriptionEffectiveFrom\"\u001b[39;49;00m: \u001b[33m\"2020-12-09T05:00:00.000Z\"\u001b[39;49;00m,\n                            \u001b[94m\"BusinessDescription\"\u001b[39;49;00m: \u001b[33m\"London Stock Exchange Group PLC (LSEG) is a global financial markets infrastructure provider. LSEG operates across three divisions. Data & Analytics division provides customers with information and data products, and includes real-time and non-real-time data, pricing and reference services and indices, delivered via various distribution channels, including data feeds and desktop solutions. Data & Analytics consists of Trading & Banking Solutions, Investment Solutions, Wealth Solutions, Customer and 3rd Party Risk Solutions, and Enterprise Data Solutions. FTSE Russell is a global multi-asset class provider of indices, analytics and data solutions. Capital Markets division provides access to capital for domestic and international businesses and electronic platforms for secondary market trading of equities, fixed income and FX. Post Trade division provides clearing, settlement and regulatory reporting services to support clients\\u2019 risk and balance sheet management and regulatory reporting.\"\u001b[39;49;00m,\n                            \u001b[94m\"BusinessDescriptionLastModified\"\u001b[39;49;00m: \u001b[33m\"2021-02-08T15:47:29.000Z\"\u001b[39;49;00m,\n                            \u001b[94m\"Provenance\"\u001b[39;49;00m: [\n                                {\n                                    \u001b[94m\"SourceTypeCode_v2\"\u001b[39;49;00m: \u001b[33m\"23\"\u001b[39;49;00m,\n                                    \u001b[94m\"SourceTypeCode_v2Descr\"\u001b[39;49;00m: \u001b[33m\"Refinitiv EJV\"\u001b[39;49;00m,\n                                    \u001b[94m\"SourceFilingDate\"\u001b[39;49;00m: \u001b[33m\"2021-02-08T05:00:00.000Z\"\u001b[39;49;00m,\n                                    \u001b[94m\"LanguageId\"\u001b[39;49;00m: \u001b[33m\"505062\"\u001b[39;49;00m,\n                                    \u001b[94m\"LanguageIdDescr\"\u001b[39;49;00m: \u001b[33m\"en\"\u001b[39;49;00m,\n                                    \u001b[94m\"SourceLink\"\u001b[39;49;00m: \u001b[34mnull\u001b[39;49;00m,\n                                    \u001b[94m\"SourceUpdateDate\"\u001b[39;49;00m: \u001b[34mnull\u001b[39;49;00m\n                                },\n                                \u001b[33m\"...\"\u001b[39;49;00m\n                            ]\n                        },\n                        \u001b[33m\"...\"\u001b[39;49;00m\n                    ]\n                },\n                \u001b[94m\"OrganizationIdentifiers\"\u001b[39;49;00m: [\n                    {\n                        \u001b[94m\"IdentifierTypeId_v2\"\u001b[39;49;00m: \u001b[33m\"320141\"\u001b[39;49;00m,\n                        \u001b[94m\"IdentifierTypeId_v2Descr\"\u001b[39;49;00m: \u001b[33m\"Edcoid\"\u001b[39;49;00m,\n                        \u001b[94m\"IdentifierData\"\u001b[39;49;00m: [\n                            {\n                                \u001b[94m\"Identifier\"\u001b[39;49;00m: \u001b[33m\"LSEG.L\"\u001b[39;49;00m,\n                                \u001b[94m\"IdentifierCreatedDate\"\u001b[39;49;00m: \u001b[33m\"2021-01-28T21:21:33.000Z\"\u001b[39;49;00m,\n                                \u001b[94m\"IdentifierEffectiveFrom\"\u001b[39;49;00m: \u001b[33m\"2021-01-28T21:21:33.000Z\"\u001b[39;49;00m,\n                                \u001b[94m\"LastModifiedDate\"\u001b[39;49;00m: \u001b[33m\"2021-01-28T21:21:33.000Z\"\u001b[39;49;00m,\n                                \u001b[94m\"Source\"\u001b[39;49;00m: \u001b[34mnull\u001b[39;49;00m,\n                                \u001b[94m\"SourceLastUpdateDate\"\u001b[39;49;00m: \u001b[34mnull\u001b[39;49;00m,\n                                \u001b[94m\"SourceTypeCode_v2\"\u001b[39;49;00m: \u001b[34mnull\u001b[39;49;00m,\n                                \u001b[94m\"SourceUpdateDate\"\u001b[39;49;00m: \u001b[34mnull\u001b[39;49;00m\n                            },\n                            \u001b[33m\"...\"\u001b[39;49;00m\n                        ]\n                    },\n                    \u001b[33m\"...\"\u001b[39;49;00m\n                ],\n                \u001b[94m\"Addresses\"\u001b[39;49;00m: [\n                    {\n                        \u001b[94m\"AddressTypeCode\"\u001b[39;49;00m: \u001b[33m\"LREG\"\u001b[39;49;00m,\n                        \u001b[94m\"AddressTypeCodeDescr\"\u001b[39;49;00m: \u001b[33m\"Legal Registration\"\u001b[39;49;00m,\n                        \u001b[94m\"LanguageId_v2\"\u001b[39;49;00m: \u001b[33m\"505062\"\u001b[39;49;00m,\n                        \u001b[94m\"LanguageId_v2Descr\"\u001b[39;49;00m: \u001b[33m\"en\"\u001b[39;49;00m,\n                        \u001b[94m\"EffectiveFrom\"\u001b[39;49;00m: \u001b[33m\"2009-07-21T04:00:00.000Z\"\u001b[39;49;00m,\n                        \u001b[94m\"AddressLastModifiedDate\"\u001b[39;49;00m: \u001b[33m\"2020-06-24T17:40:36.000Z\"\u001b[39;49;00m,\n                        \u001b[94m\"AddressSourceLink\"\u001b[39;49;00m: \u001b[33m\"http://wck2.companieshouse.gov.uk/\"\u001b[39;49;00m,\n                        \u001b[94m\"Line1\"\u001b[39;49;00m: \u001b[33m\"10 Paternoster Square\"\u001b[39;49;00m,\n                        \u001b[94m\"Line2\"\u001b[39;49;00m: \u001b[34mnull\u001b[39;49;00m,\n                        \u001b[94m\"Line3\"\u001b[39;49;00m: \u001b[34mnull\u001b[39;49;00m,\n                        \u001b[94m\"City\"\u001b[39;49;00m: \u001b[33m\"London\"\u001b[39;49;00m,\n                        \u001b[94m\"StateProvinceOfficialCode\"\u001b[39;49;00m: \u001b[34mnull\u001b[39;49;00m,\n                        \u001b[94m\"StateProvinceId_v2\"\u001b[39;49;00m: \u001b[34mnull\u001b[39;49;00m,\n                        \u001b[94m\"StateProvinceId_v2Descr\"\u001b[39;49;00m: \u001b[34mnull\u001b[39;49;00m,\n                        \u001b[94m\"CountryId_v2\"\u001b[39;49;00m: \u001b[33m\"100317\"\u001b[39;49;00m,\n                        \u001b[94m\"CountryId_v2Descr\"\u001b[39;49;00m: \u001b[33m\"United Kingdom\"\u001b[39;49;00m,\n                        \u001b[94m\"CountryId_v2Iso\"\u001b[39;49;00m: \u001b[33m\"GB\"\u001b[39;49;00m,\n                        \u001b[94m\"PostalCode\"\u001b[39;49;00m: \u001b[33m\"EC4M 7LS\"\u001b[39;49;00m,\n                        \u001b[94m\"Line1Transliterated\"\u001b[39;49;00m: \u001b[34mnull\u001b[39;49;00m,\n                        \u001b[94m\"Line2Transliterated\"\u001b[39;49;00m: \u001b[34mnull\u001b[39;49;00m,\n                        \u001b[94m\"Line3Transliterated\"\u001b[39;49;00m: \u001b[34mnull\u001b[39;49;00m,\n                        \u001b[94m\"SourceTypeCode_v2\"\u001b[39;49;00m: \u001b[33m\"4\"\u001b[39;49;00m,\n                        \u001b[94m\"SourceTypeCode_v2Descr\"\u001b[39;49;00m: \u001b[33m\"Registration Authority\"\u001b[39;49;00m,\n                        \u001b[94m\"SourceUpdateDate\"\u001b[39;49;00m: \u001b[33m\"2014-07-22T04:00:00.000Z\"\u001b[39;49;00m\n                    },\n                    \u001b[33m\"...\"\u001b[39;49;00m\n                ],\n                \u001b[94m\"OrganizationPhone\"\u001b[39;49;00m: [\n                    {\n                        \u001b[94m\"OrganizationPhoneFaxType\"\u001b[39;49;00m: \u001b[33m\"ORG_REG_ADD_PHONE\"\u001b[39;49;00m,\n                        \u001b[94m\"OrganizationPhoneFaxTypeDescr\"\u001b[39;49;00m: \u001b[33m\"Organization Registered Address Phone\"\u001b[39;49;00m,\n                        \u001b[94m\"OrganizationPhoneFaxEffectiveFrom\"\u001b[39;49;00m: \u001b[33m\"2009-07-21T04:00:00.000Z\"\u001b[39;49;00m,\n                        \u001b[94m\"OrganizationPhoneFaxLastModified\"\u001b[39;49;00m: \u001b[33m\"2017-05-31T10:20:49.000Z\"\u001b[39;49;00m,\n                        \u001b[94m\"OrganizationPhoneFaxNumber\"\u001b[39;49;00m: \u001b[34mnull\u001b[39;49;00m,\n                        \u001b[94m\"OrganizationPhoneFaxSourceLink\"\u001b[39;49;00m: \u001b[34mnull\u001b[39;49;00m,\n                        \u001b[94m\"SourceTypeCode_v2\"\u001b[39;49;00m: \u001b[34mnull\u001b[39;49;00m,\n                        \u001b[94m\"SourceTypeCode_v2Descr\"\u001b[39;49;00m: \u001b[34mnull\u001b[39;49;00m,\n                        \u001b[94m\"SourceUpdateDate\"\u001b[39;49;00m: \u001b[34mnull\u001b[39;49;00m\n                    },\n                    \u001b[33m\"...\"\u001b[39;49;00m\n                ],\n                \u001b[94m\"Details\"\u001b[39;49;00m: {\n                    \u001b[94m\"OrganizationDetails\"\u001b[39;49;00m: {\n                        \u001b[94m\"JurisdictionOfIncorporation\"\u001b[39;49;00m: \u001b[33m\"ENGLAND AND WALES\"\u001b[39;49;00m,\n                        \u001b[94m\"OrganizationTier\"\u001b[39;49;00m: \u001b[34m1\u001b[39;49;00m,\n                        \u001b[94m\"OrganizationStatusCode\"\u001b[39;49;00m: \u001b[33m\"Act\"\u001b[39;49;00m,\n                        \u001b[94m\"OrganizationStatusCodeDescr\"\u001b[39;49;00m: \u001b[33m\"Active\"\u001b[39;49;00m,\n                        \u001b[94m\"OrganizationTypeCode\"\u001b[39;49;00m: \u001b[33m\"COM\"\u001b[39;49;00m,\n                        \u001b[94m\"OrganizationTypeCodeDescr\"\u001b[39;49;00m: \u001b[33m\"Company\"\u001b[39;49;00m,\n                        \u001b[94m\"OrganizationSubTypeCode\"\u001b[39;49;00m: \u001b[33m\"COR\"\u001b[39;49;00m,\n                        \u001b[94m\"OrganizationSubTypeCodeDescr\"\u001b[39;49;00m: \u001b[33m\"Operating Company\"\u001b[39;49;00m,\n                        \u001b[94m\"FoundedDay\"\u001b[39;49;00m: \u001b[33m\"18\"\u001b[39;49;00m,\n                        \u001b[94m\"FoundedMonth\"\u001b[39;49;00m: \u001b[33m\"02\"\u001b[39;49;00m,\n                        \u001b[94m\"FoundedYear\"\u001b[39;49;00m: \u001b[33m\"2005\"\u001b[39;49;00m,\n                        \u001b[94m\"PublicFlag\"\u001b[39;49;00m: \u001b[34mtrue\u001b[39;49;00m,\n                        \u001b[94m\"IpoDate\"\u001b[39;49;00m: \u001b[33m\"2006-05-15T04:00:00.000Z\"\u001b[39;49;00m,\n                        \u001b[94m\"OrganizationWebsite\"\u001b[39;49;00m: \u001b[33m\"https://www.lseg.com/\"\u001b[39;49;00m\n                    }\n                },\n                \u001b[94m\"ClassificationTrbcPrimaryScheme_v2\"\u001b[39;49;00m: {\n                    \u001b[94m\"Industry\"\u001b[39;49;00m: {\n                        \u001b[94m\"LongName\"\u001b[39;49;00m: \u001b[33m\"Financial & Commodity Market Operators & Service Providers (NEC)\"\u001b[39;49;00m,\n                        \u001b[94m\"Names\"\u001b[39;49;00m: [\n                            {\n                                \u001b[94m\"LanguageId\"\u001b[39;49;00m: \u001b[33m\"505074\"\u001b[39;49;00m,\n                                \u001b[94m\"Name\"\u001b[39;49;00m: \u001b[33m\"Companies involved in at least two activities under the Securities & Commodity Exchanges industry, none being dominant: Securities & Commodity Exchanges; Clearing, Settlement & Custodial Service; Financial Technology & Infrastructure. Includes also entities not elsewhere classified under the Financial & Commodity Market Operators industry.\"\u001b[39;49;00m,\n                                \u001b[94m\"NameOrder\"\u001b[39;49;00m: \u001b[34m1\u001b[39;49;00m,\n                                \u001b[94m\"NameTypeId\"\u001b[39;49;00m: \u001b[33m\"404502\"\u001b[39;49;00m\n                            },\n                            \u001b[33m\"...\"\u001b[39;49;00m\n                        ]\n                    },\n                    \u001b[94m\"Identifier\"\u001b[39;49;00m: {\n                        \u001b[94m\"Identifiers\"\u001b[39;49;00m: [\n                            {\n                                \u001b[94m\"Value\"\u001b[39;49;00m: \u001b[33m\"5510205010\"\u001b[39;49;00m,\n                                \u001b[94m\"ValueTypeCode\"\u001b[39;49;00m: \u001b[33m\"Trbc\"\u001b[39;49;00m,\n                                \u001b[94m\"ValueTypeId\"\u001b[39;49;00m: \u001b[33m\"320159\"\u001b[39;49;00m\n                            },\n                            \u001b[33m\"...\"\u001b[39;49;00m\n                        ]\n                    }\n                },\n                \u001b[94m\"ClassificationNaicsPrimaryScheme_v2\"\u001b[39;49;00m: {\n                    \u001b[94m\"Industry\"\u001b[39;49;00m: {\n                        \u001b[94m\"LongName\"\u001b[39;49;00m: \u001b[33m\"Securities and Commodity Exchanges\"\u001b[39;49;00m,\n                        \u001b[94m\"Names\"\u001b[39;49;00m: [\n                            {\n                                \u001b[94m\"LanguageId\"\u001b[39;49;00m: \u001b[33m\"505074\"\u001b[39;49;00m,\n                                \u001b[94m\"Name\"\u001b[39;49;00m: \u001b[33m\"This industry comprises establishments primarily engaged in furnishing physical or electronic marketplaces for the purpose of facilitating the buying and selling of stocks, stock options, bonds, or commodity contracts.\"\u001b[39;49;00m,\n                                \u001b[94m\"NameOrder\"\u001b[39;49;00m: \u001b[34m1\u001b[39;49;00m,\n                                \u001b[94m\"NameTypeId\"\u001b[39;49;00m: \u001b[33m\"404502\"\u001b[39;49;00m\n                            },\n                            \u001b[33m\"...\"\u001b[39;49;00m\n                        ]\n                    },\n                    \u001b[94m\"Identifier\"\u001b[39;49;00m: {\n                        \u001b[94m\"Identifiers\"\u001b[39;49;00m: [\n                            {\n                                \u001b[94m\"Value\"\u001b[39;49;00m: \u001b[33m\"523210\"\u001b[39;49;00m,\n                                \u001b[94m\"ValueTypeCode\"\u001b[39;49;00m: \u001b[33m\"Naics\"\u001b[39;49;00m,\n                                \u001b[94m\"ValueTypeId\"\u001b[39;49;00m: \u001b[33m\"320114\"\u001b[39;49;00m\n                            },\n                            \u001b[33m\"...\"\u001b[39;49;00m\n                        ]\n                    }\n                },\n                \u001b[94m\"RegistrationAuthority\"\u001b[39;49;00m: {\n                    \u001b[94m\"ObjectId\"\u001b[39;49;00m: \u001b[33m\"5000010301\"\u001b[39;49;00m,\n                    \u001b[94m\"Names\"\u001b[39;49;00m: {\n                        \u001b[94m\"Name\"\u001b[39;49;00m: {\n                            \u001b[94m\"OrganizationName\"\u001b[39;49;00m: [\n                                {\n                                    \u001b[94m\"Name\"\u001b[39;49;00m: \u001b[33m\"Companies House\"\u001b[39;49;00m\n                                },\n                                \u001b[33m\"...\"\u001b[39;49;00m\n                            ]\n                        }\n                    }\n                },\n                \u001b[94m\"TaxAuthorityId\"\u001b[39;49;00m: \u001b[33m\"5000046583\"\u001b[39;49;00m,\n                \u001b[94m\"PrimaryRegulatorId\"\u001b[39;49;00m: \u001b[33m\"-1\"\u001b[39;49;00m,\n                \u001b[94m\"UltimateParentId\"\u001b[39;49;00m: \u001b[33m\"4298007752\"\u001b[39;49;00m\n            },\n            \u001b[33m\"...\"\u001b[39;49;00m\n        ]\n    }\n}\n"
      ]
     },
     "metadata": {},
     "output_type": "display_data"
    }
   ],
   "source": [
    "output_format = 'json'  # available: json\n",
    "%run ../config_files/config_request_handler.ipynb"
   ]
  },
  {
   "cell_type": "markdown",
   "id": "c1e34a5f",
   "metadata": {},
   "source": [
    "## Close the default session when done"
   ]
  },
  {
   "cell_type": "code",
   "execution_count": null,
   "id": "e8a0c097",
   "metadata": {},
   "outputs": [],
   "source": [
    "session.close()"
   ]
  }
 ],
 "metadata": {},
 "nbformat": 4,
 "nbformat_minor": 5
}
