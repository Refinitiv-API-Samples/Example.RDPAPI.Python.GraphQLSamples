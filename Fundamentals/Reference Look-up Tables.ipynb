{
 "cells": [
  {
   "cell_type": "markdown",
   "id": "0f5dcc5a",
   "metadata": {},
   "source": [
    "# Pre-canned Queries for Python\n",
    "## Function to call Reference Look-up Tables\n",
    "Reference Look-up Tables for Fundamentals\n",
    "\n",
    "\n",
    "tags :     `Reference`, `Look-up`\n",
    "## Import the library and load credentials\n",
    "Credentials used by this notebook are stored in the config_files/credentials.ipynb. Please edit credentials.ipynb to set your credentials and run the next cell to continue with the scripts "
   ]
  },
  {
   "cell_type": "code",
   "execution_count": null,
   "id": "2158b33f",
   "metadata": {},
   "outputs": [],
   "source": [
    "%run ../config_files/credentials.ipynb \n",
    "%run ../config_files/environment_selection.ipynb"
   ]
  },
  {
   "cell_type": "markdown",
   "id": "43340b64",
   "metadata": {},
   "source": [
    "To connect to the Refinitiv Data and opening a session,given function is used. To find out more about the library,you can visit [refinitiv-data library](https://pypi.org/project/refinitiv-data/)"
   ]
  },
  {
   "cell_type": "code",
   "execution_count": null,
   "id": "052c377c",
   "metadata": {},
   "outputs": [],
   "source": [
    "session = rd.session.platform.Definition(\n",
    "    app_key=APP_KEY,\n",
    "    grant=rd.session.platform.GrantPassword(\n",
    "        username=RD_LOGIN, password=RD_PASSWORD\n",
    "    ),\n",
    ").get_session()\n",
    "session.open()\n"
   ]
  },
  {
   "cell_type": "markdown",
   "id": "e2a28e12",
   "metadata": {},
   "source": [
    "## Graph call\n",
    "Graph call with given sets of samples below. "
   ]
  },
  {
   "cell_type": "code",
   "execution_count": null,
   "id": "91a7e20b",
   "metadata": {},
   "outputs": [],
   "source": [
    "%%writefile query_cache\n",
    "query Lookuptables($ValueDomainId: [Long!]) {\n",
    "  ValueDomainEnumeration(filter: {ValueDomainEnumeration: {ValueDomainId: {IN: $ValueDomainId}}}) {\n",
    "    ValueDomainEnumeration {\n",
    "      LongName\n",
    "      Name\n",
    "      Value\n",
    "      ValueDomainEnumerationId\n",
    "      ValueDomainId\n",
    "      Names(filter: {AND: [{LanguageId: {EQ: \"505074\"}}, {NameType: {EQ: \"404502\"}}]} ) {\n",
    "        LanguageId\n",
    "        Name\n",
    "        NameOrder\n",
    "        NameSequence\n",
    "        NameType\n",
    "      }\n",
    "    }\n",
    "  }\n",
    "}\n"
   ]
  },
  {
   "cell_type": "markdown",
   "id": "b50c9d17",
   "metadata": {},
   "source": [
    "## Sample :  Find by Value Domain Id"
   ]
  },
  {
   "cell_type": "code",
   "execution_count": null,
   "id": "f38b03bb",
   "metadata": {},
   "outputs": [],
   "source": [
    "\n",
    "variables = {'ValueDomainId': ['3001024', '3001045']}"
   ]
  },
  {
   "cell_type": "code",
   "execution_count": 3,
   "id": "11af4c96",
   "metadata": {},
   "outputs": [
    {
     "data": {
      "text/html": [
       "<table>\n    <thead>\n        <tr>\n            <th>Value Domain Full Name</th>\n            <th>Short Name</th>\n            <th>Value</th>\n            <th>Description</th>\n        </tr>\n    </thead>\n    <tbody>\n        <tr>\n            <td>Depreciation in Selling, General & Administrative Expenses</td>\n            <td></td>\n            <td>SDES</td>\n            <td>\n                <ul>\n                </ul>\n            </td>\n        </tr>\n    </tbody>\n</table>\n"
      ],
      "text/plain": [
       "<table>\n    <thead>\n        <tr>\n            <th>Value Domain Full Name</th>\n            <th>Short Name</th>\n            <th>Value</th>\n            <th>Description</th>\n        </tr>\n    </thead>\n    <tbody>\n        <tr>\n            <td>Depreciation in Selling, General & Administrative Expenses</td>\n            <td></td>\n            <td>SDES</td>\n            <td>\n                <ul>\n                </ul>\n            </td>\n        </tr>\n    </tbody>\n</table>\n"
      ]
     },
     "metadata": {},
     "output_type": "display_data"
    }
   ],
   "source": [
    "output_format = 'handlebars'  # available: handlebars\n",
    "handlebars_template = 'Reference Look-up Tables.html'\n",
    "%run ../config_files/config_request_handler.ipynb"
   ]
  },
  {
   "cell_type": "markdown",
   "id": "3ef1a9b6",
   "metadata": {},
   "source": [
    "## Close the default session when done"
   ]
  },
  {
   "cell_type": "code",
   "execution_count": null,
   "id": "4a9601d1",
   "metadata": {},
   "outputs": [],
   "source": [
    "session.close()"
   ]
  }
 ],
 "metadata": {},
 "nbformat": 4,
 "nbformat_minor": 5
}
