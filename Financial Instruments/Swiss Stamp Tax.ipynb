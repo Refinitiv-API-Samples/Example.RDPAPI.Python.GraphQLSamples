{
 "cells": [
  {
   "cell_type": "markdown",
   "id": "70610b27",
   "metadata": {},
   "source": [
    "# Pre-canned Queries for Python\n",
    "## Function to call Swiss Stamp Tax\n",
    "This query uses a list of GovCorpInstrument PermIDs, and uses the DerivedConentCovCorpBonds graphQl query to return the Swiss Stamp Tax data on those instruments\n",
    "The query demonstrates how a user can provide a list of instrument identifiers in query variables rather than PermIDs.\n",
    "\n",
    "\n",
    "tags :     `PermID`, `GovCorpInstrument`, `Swiss`, `Stamp`, `Tax`, `Corporate`, `Bonds`\n",
    "## Import the library and load credentials\n",
    "Credentials used by this notebook are stored in the config_files/credentials.ipynb. Please edit credentials.ipynb to set your credentials and run the next cell to continue with the scripts "
   ]
  },
  {
   "cell_type": "code",
   "execution_count": null,
   "id": "97db406e",
   "metadata": {},
   "outputs": [],
   "source": [
    "from pathlib import Path \n",
    "import os\n",
    "\n",
    "%run ../config_files/credentials.ipynb \n",
    "%run ../config_files/environment_selection.ipynb"
   ]
  },
  {
   "cell_type": "markdown",
   "id": "17076793",
   "metadata": {},
   "source": [
    "To connect to the Refinitiv Data and opening a session,given function is used. To find out more about the library,you can visit [refinitiv-data library](https://pypi.org/project/refinitiv-data/)"
   ]
  },
  {
   "cell_type": "code",
   "execution_count": null,
   "id": "a4a57d3b",
   "metadata": {},
   "outputs": [],
   "source": [
    "session = rd.session.platform.Definition(\n",
    "    app_key=APP_KEY,\n",
    "    grant=rd.session.platform.GrantPassword(\n",
    "        username=RD_LOGIN, password=RD_PASSWORD\n",
    "    ),\n",
    ").get_session()\n",
    "session.open()\n"
   ]
  },
  {
   "cell_type": "markdown",
   "id": "eef6362d",
   "metadata": {},
   "source": [
    "## Graph call\n",
    "Graph call with given sets of samples below. "
   ]
  },
  {
   "cell_type": "code",
   "execution_count": null,
   "id": "998cd220",
   "metadata": {},
   "outputs": [],
   "source": [
    "%%writefile query_cache\n",
    "query InstrumentRefData($identifierTypeName: DerivedContentGovCorpBondsIdentifierTypeNameEnumArgs!, $identifier: String!) {\n",
    "  DerivedContentGovCorpBonds(identifiers: [{identifierTypeName: $identifierTypeName, identifier: $identifier}]) {\n",
    "    ObjectId\n",
    "    _metadata{\n",
    "      #This sequence of the query returns the type of identifier, and the identifier that the user\n",
    "      #provided. This helps the user reconcile the response to the identifier that they recognise.\n",
    "      identifierTypeName\n",
    "      identifier\n",
    "    }\n",
    "    SwissStampDutyTax {\n",
    "      AssetTypeDescription\n",
    "      IssuerDomicileText\n",
    "      SwissStampDutyFlag\n",
    "      TaxationComment\n",
    "      TaxationType\n",
    "    }\n",
    "  }\n",
    "}\n"
   ]
  },
  {
   "cell_type": "markdown",
   "id": "cf6f4b84",
   "metadata": {},
   "source": [
    "## Sample :  GraphQl query to return the Swiss Stamp Tax data"
   ]
  },
  {
   "cell_type": "code",
   "execution_count": null,
   "id": "031e09d7",
   "metadata": {},
   "outputs": [],
   "source": [
    "\n",
    "variables = {'identifierTypeName': 'Isin', 'identifier': 'CH0008435569'}"
   ]
  },
  {
   "cell_type": "code",
   "execution_count": 3,
   "id": "7b861ead",
   "metadata": {},
   "outputs": [
    {
     "data": {
      "text/html": [
       "<table class=\"table table-bordered\">\n    <thead>\n        <tr>\n            <th>ObjectId</th>\n            <th>Identifier type</th>\n            <th>ID</th>\n            <th>Asset type</th>\n            <th>Swiss domestic<br> entity</th>\n            <th>Liable for Swiss<br> Stamp Duty Tax</th>\n            <th>Taxation comment</th>\n            <th>Taxation type</th>\n        </tr>\n    </thead>\n    <tbody>\n    </tbody>\n</table>"
      ],
      "text/plain": [
       "<table class=\"table table-bordered\">\n    <thead>\n        <tr>\n            <th>ObjectId</th>\n            <th>Identifier type</th>\n            <th>ID</th>\n            <th>Asset type</th>\n            <th>Swiss domestic<br> entity</th>\n            <th>Liable for Swiss<br> Stamp Duty Tax</th>\n            <th>Taxation comment</th>\n            <th>Taxation type</th>\n        </tr>\n    </thead>\n    <tbody>\n    </tbody>\n</table>"
      ]
     },
     "metadata": {},
     "output_type": "display_data"
    }
   ],
   "source": [
    "output_format = 'handlebars'  # available: handlebars, table\n",
    "handlebars_template = 'Swiss Stamp Tax.html'\n",
    "%run ../config_files/config_request_handler.ipynb"
   ]
  },
  {
   "cell_type": "markdown",
   "id": "195fe5f8",
   "metadata": {},
   "source": [
    "## Close the default session when done"
   ]
  },
  {
   "cell_type": "code",
   "execution_count": null,
   "id": "4ad8f9cf",
   "metadata": {},
   "outputs": [],
   "source": [
    "session.close()"
   ]
  }
 ],
 "metadata": {},
 "nbformat": 4,
 "nbformat_minor": 5
}
