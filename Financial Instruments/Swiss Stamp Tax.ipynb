{
 "cells": [
  {
   "cell_type": "markdown",
   "id": "d94651f9",
   "metadata": {},
   "source": [
    "# Pre-canned Queries for Python\n",
    "## Function to call Swiss Stamp Tax\n",
    "This query uses a list of GovCorpInstrument PermIDs, and uses the DerivedConentCovCorpBonds graphQl query to return the Swiss Stamp Tax data on those instruments\n",
    "The query demonstrates how a user can provide a list of instrument identifiers in query variables rather than PermIDs.\n",
    "\n",
    "\n",
    "tags :     `PermID`, `GovCorpInstrument`, `Swiss`, `Stamp`, `Tax`, `Corporate`, `Bonds`\n",
    "## Import the library and load credentials\n",
    "Credentials used by this notebook are stored in theconfig_files/credentials.ipynb. Please editcredentials.ipynb to set your credentials and run the next cell to continue with the scripts "
   ]
  },
  {
   "cell_type": "code",
   "execution_count": null,
   "id": "07258e15",
   "metadata": {},
   "outputs": [],
   "source": [
    "from pathlib import Path \n",
    "import os\n",
    "if Path.cwd().name != \"config_files\":\n",
    "    p = Path(\"../config_files/\") \n",
    "    os.chdir(p)\n",
    "\n",
    "%run credentials.ipynb \n",
    "%run environment_selection.ipynb"
   ]
  },
  {
   "cell_type": "markdown",
   "id": "fbd2d3dc",
   "metadata": {},
   "source": [
    "To connect to the Refinitiv Data and opening a session,given function is used. To find out more about the library,you can visit [refinitiv-data library](https://pypi.org/project/refinitiv-data/)"
   ]
  },
  {
   "cell_type": "code",
   "execution_count": null,
   "id": "582527c9",
   "metadata": {},
   "outputs": [],
   "source": [
    "session = rdp.session.platform.Definition(\n",
    "    app_key=APP_KEY,\n",
    "    grant=rdp.session.platform.GrantPassword(\n",
    "        username=RDP_LOGIN, password=RDP_PASSWORD\n",
    "    ),\n",
    ").get_session()\n",
    "session.open()\n"
   ]
  },
  {
   "cell_type": "markdown",
   "id": "8a7d90e3",
   "metadata": {},
   "source": [
    "## Graph call\n",
    "Graph call with given sets of samples below. "
   ]
  },
  {
   "cell_type": "code",
   "execution_count": null,
   "id": "7cb48111",
   "metadata": {},
   "outputs": [],
   "source": [
    "%%writefile query_cache\n",
    "query InstrumentRefData($identifierTypeName: DerivedContentGovCorpBondsIdentifierTypeNameEnumArgs!, $identifier: String!) {\n",
    "  DerivedContentGovCorpBonds(identifiers: [{identifierTypeName: $identifierTypeName, identifier: $identifier}]) {\n",
    "    ObjectId\n",
    "    _metadata{\n",
    "      #This sequence of the query returns the type of identifier, and the identifier that the user\n",
    "      #provided. This helps the user reconcile the response to the identifier that they recognise.\n",
    "      identifierTypeName\n",
    "      identifier\n",
    "    }\n",
    "    SwissStampDutyTax {\n",
    "      AssetTypeDescription\n",
    "      IssuerDomicileText\n",
    "      SwissStampDutyFlag\n",
    "      TaxationComment\n",
    "      TaxationType\n",
    "    }\n",
    "  }\n",
    "}\n"
   ]
  },
  {
   "cell_type": "markdown",
   "id": "005d8d42",
   "metadata": {},
   "source": [
    "## Sample :  GraphQl query to return the Swiss Stamp Tax data"
   ]
  },
  {
   "cell_type": "code",
   "execution_count": null,
   "id": "ae8aa7fb",
   "metadata": {},
   "outputs": [],
   "source": [
    "\n",
    "variables = {'identifierTypeName': 'Isin', 'identifier': 'CH0008435569'}"
   ]
  },
  {
   "cell_type": "code",
   "execution_count": null,
   "id": "35a3ab01",
   "metadata": {},
   "outputs": [],
   "source": [
    "%run config_request_handler.ipynb"
   ]
  },
  {
   "cell_type": "code",
   "execution_count": 3,
   "id": "5f1ae902",
   "metadata": {},
   "outputs": [
    {
     "name": "stdout",
     "output_type": "stream",
     "text": [
      " \n",
      "    data: { \n",
      "        DerivedContentGovCorpBonds: [ \n",
      "            { \n",
      "                ObjectId: 15628455478, \n",
      "                _metadata: { \n",
      "                    identifierTypeName: Isin, \n",
      "                    identifier: CH0008435569 \n",
      "                }, \n",
      "                SwissStampDutyTax: { \n",
      "                    AssetTypeDescription: Debenture, \n",
      "                    IssuerDomicileText: Domestic, \n",
      "                    SwissStampDutyFlag: Y, \n",
      "                    TaxationComment: T.................... \n",
      "......................................... \n"
     ]
    }
   ],
   "source": [
    "%run code_execution.ipynb"
   ]
  },
  {
   "cell_type": "markdown",
   "id": "c64c6410",
   "metadata": {},
   "source": [
    "## Close the default session when done"
   ]
  },
  {
   "cell_type": "code",
   "execution_count": null,
   "id": "effa16f3",
   "metadata": {},
   "outputs": [],
   "source": [
    "session.close()"
   ]
  }
 ],
 "metadata": {},
 "nbformat": 4,
 "nbformat_minor": 5
}
