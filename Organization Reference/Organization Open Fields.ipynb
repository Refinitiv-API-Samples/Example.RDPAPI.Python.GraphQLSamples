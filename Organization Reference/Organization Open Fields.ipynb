{
 "cells": [
  {
   "cell_type": "markdown",
   "id": "28b84b45",
   "metadata": {},
   "source": [
    "# Pre-canned Queries for Python\n",
    "## Function to call Organization Open Fields\n",
    "This query demonstrates how the sample a list of different attributes and identifiers can be retrieved by a user for a an example Organization/Company.\n",
    "\n",
    "\n",
    "tags :     `Sample`, `Open`, `sampledata`, `GettingStarted`\n",
    "## Import the library and load credentials\n",
    "Credentials used by this notebook are stored in the config_files/credentials.ipynb. Please edit credentials.ipynb to set your credentials and run the next cell to continue with the scripts "
   ]
  },
  {
   "cell_type": "code",
   "execution_count": null,
   "id": "90df3d6c",
   "metadata": {},
   "outputs": [],
   "source": [
    "from pathlib import Path \n",
    "import os\n",
    "\n",
    "%run ../config_files/credentials.ipynb \n",
    "%run ../config_files/environment_selection.ipynb"
   ]
  },
  {
   "cell_type": "markdown",
   "id": "856110ce",
   "metadata": {},
   "source": [
    "To connect to the Refinitiv Data and opening a session,given function is used. To find out more about the library,you can visit [refinitiv-data library](https://pypi.org/project/refinitiv-data/)"
   ]
  },
  {
   "cell_type": "code",
   "execution_count": null,
   "id": "9ecbe8b5",
   "metadata": {},
   "outputs": [],
   "source": [
    "session = rd.session.platform.Definition(\n",
    "    app_key=APP_KEY,\n",
    "    grant=rd.session.platform.GrantPassword(\n",
    "        username=RD_LOGIN, password=RD_PASSWORD\n",
    "    ),\n",
    ").get_session()\n",
    "session.open()\n"
   ]
  },
  {
   "cell_type": "markdown",
   "id": "9c0d95c9",
   "metadata": {},
   "source": [
    "## Graph call\n",
    "Graph call with given sets of samples below. "
   ]
  },
  {
   "cell_type": "code",
   "execution_count": null,
   "id": "220728e4",
   "metadata": {},
   "outputs": [],
   "source": [
    "%%writefile query_cache\n",
    "query OrganizationQuery($OrganizationIds: [String!]) {\n",
    "  OrganizationReference(objectIds: $OrganizationIds) {\n",
    "    ObjectId\n",
    "    Names {\n",
    "      Name {\n",
    "        OrganizationName(filter: {AND: [{NameTypeCode: {EQ: \"LNG\"}}, {LanguageId: {EQ: \"505062\"}}]}) {\n",
    "          Name\n",
    "        }\n",
    "      }\n",
    "    }\n",
    "    OrganizationIncorporation_v2 {\n",
    "      Identifier {\n",
    "        Identifiers(filter: {ValueTypeId: {EQ: \"320135\"}}) {\n",
    "          Value\n",
    "        }\n",
    "      }\n",
    "    }\n",
    "    OrganizationDomicile_v2 {\n",
    "      Identifier {\n",
    "        Identifiers(filter: {ValueTypeId: {EQ: \"320135\"}}) {\n",
    "          Value\n",
    "        }\n",
    "      }\n",
    "    }\n",
    "    OrganizationIdentifiers(filter: {IdentifierTypeId_v2: {EQ: \"320634\"}}) {\n",
    "      IdentifierData {\n",
    "        Identifier\n",
    "      }\n",
    "    }\n",
    "    ClassificationTrbcPrimaryScheme_v2 {\n",
    "      TrbcSchemeParent {\n",
    "        TrbcSchemeParent {\n",
    "          TrbcSchemeParent {\n",
    "            TrbcSchemeParent {\n",
    "              ObjectId\n",
    "              Identifier {\n",
    "                Identifiers(filter: {ValueTypeId: {EQ: \"320159\"}}) {\n",
    "                  Value\n",
    "                }\n",
    "              }\n",
    "              Industry {\n",
    "                Names(filter: {AND: [{NameTypeId: {EQ: \"404500\"}}, {LanguageId: {EQ: \"505074\"}}]}) {\n",
    "                  Name\n",
    "                }\n",
    "              }\n",
    "            }\n",
    "          }\n",
    "        }\n",
    "      }\n",
    "    }\n",
    "  }\n",
    "}\n"
   ]
  },
  {
   "cell_type": "markdown",
   "id": "8b6feac2",
   "metadata": {},
   "source": [
    "## Sample :  This query shows sample data for organization open fields. Find by Organization Ids"
   ]
  },
  {
   "cell_type": "code",
   "execution_count": null,
   "id": "06c72da4",
   "metadata": {},
   "outputs": [],
   "source": [
    "\n",
    "variables = {'OrganizationIds': ['4298007752']}"
   ]
  },
  {
   "cell_type": "code",
   "execution_count": 3,
   "id": "e616d4d4",
   "metadata": {},
   "outputs": [
    {
     "data": {
      "test/plain": [
       "<table>\n  <thead>\n    <tr>\n      <td>ObjectId</td>\n      <td>Names</td>\n      <td>OrganizationIncorporation_v2</td>\n      <td>OrganizationDomicile_v2</td>\n      <td>OrganizationIdentifiers</td>\n      <td>ClassificationTrbcPrimaryScheme_v2<br>ObjectId</td>\n      <td>ClassificationTrbcPrimaryScheme_v2<br>Identifier</td>\n      <td>ClassificationTrbcPrimaryScheme_v2<br>Industry</td>\n    </tr>\n  </thead>\n  <tbody>\n    <tr>\n      <td>4298007752</td>\n      <td>\n        \n        LONDON STOCK EXCHANGE GROUP PLC\n        , \n        \n      </td>\n      <td>\n        \n        GBR\n        , \n        \n      </td>\n      <td>\n        \n        GBR\n        , \n        \n      </td>\n      <td>\n        \n\n        \n        213800QAUUUP6I445N30\n        , \n        \n\n        , \n\n\n      </td>\n      <td>4294952740</td>\n      <td>\n        \n        55\n        , \n        \n      </td>\n      <td>\n        \n        Financials\n        , \n        \n      </td>\n    </tr>\n    <tr>\n      <td></td>\n      <td>\n      </td>\n      <td>\n      </td>\n      <td>\n      </td>\n      <td>\n      </td>\n      <td></td>\n      <td>\n      </td>\n      <td>\n      </td>\n    </tr>\n  </tbody>\n</table>\n"
      ],
      "text/html": [
       "<table>\n  <thead>\n    <tr>\n      <td>ObjectId</td>\n      <td>Names</td>\n      <td>OrganizationIncorporation_v2</td>\n      <td>OrganizationDomicile_v2</td>\n      <td>OrganizationIdentifiers</td>\n      <td>ClassificationTrbcPrimaryScheme_v2<br>ObjectId</td>\n      <td>ClassificationTrbcPrimaryScheme_v2<br>Identifier</td>\n      <td>ClassificationTrbcPrimaryScheme_v2<br>Industry</td>\n    </tr>\n  </thead>\n  <tbody>\n    <tr>\n      <td>4298007752</td>\n      <td>\n        \n        LONDON STOCK EXCHANGE GROUP PLC\n        , \n        \n      </td>\n      <td>\n        \n        GBR\n        , \n        \n      </td>\n      <td>\n        \n        GBR\n        , \n        \n      </td>\n      <td>\n        \n\n        \n        213800QAUUUP6I445N30\n        , \n        \n\n        , \n\n\n      </td>\n      <td>4294952740</td>\n      <td>\n        \n        55\n        , \n        \n      </td>\n      <td>\n        \n        Financials\n        , \n        \n      </td>\n    </tr>\n    <tr>\n      <td></td>\n      <td>\n      </td>\n      <td>\n      </td>\n      <td>\n      </td>\n      <td>\n      </td>\n      <td></td>\n      <td>\n      </td>\n      <td>\n      </td>\n    </tr>\n  </tbody>\n</table>\n"
      ]
     },
     "metadata": {},
     "output_type": "display_data"
    }
   ],
   "source": [
    "output_format = 'handlebars'  # available: handlebars, table\n",
    "handlebars_template = 'Organization Open Fields.html'\n",
    "%run ../config_files/config_request_handler.ipynb"
   ]
  },
  {
   "cell_type": "markdown",
   "id": "0c08397f",
   "metadata": {},
   "source": [
    "## Close the default session when done"
   ]
  },
  {
   "cell_type": "code",
   "execution_count": null,
   "id": "060621a8",
   "metadata": {},
   "outputs": [],
   "source": [
    "session.close()"
   ]
  }
 ],
 "metadata": {},
 "nbformat": 4,
 "nbformat_minor": 5
}
