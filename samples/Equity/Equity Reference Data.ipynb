{
 "cells": [
  {
   "cell_type": "markdown",
   "id": "f19aa48c",
   "metadata": {},
   "source": [
    "# Pre-canned Queries for Python\n",
    "## Function to call Equity Reference Data\n",
    "This query demonstrates how using a list of different identifier types and identifiers, the user can request:\n",
    "  * Instrument level reference data including:\n",
    "  * Swiss Stamp Tax Data\n",
    "  * Instrument Identifiers\n",
    "  * The name, and TRBC Scheme level 5 for the issuer of the instrument\n",
    "  * Identify the Valuation Quote (the quote used to calculate market capitalisation of the issue)\n",
    "  * Quote level reference data for all active quotes of the instrument including:\n",
    "  * The name of the exchange on which each quote trades\n",
    "  * The RIC of the quote\n",
    "\n",
    "\n",
    "tags :     `Equity`, `Reference`, `Swiss`, `Tax`, `Instrument`, `Identifiers`\n",
    "## Import the library and load credentials\n",
    "Credentials used by this notebook are stored in theconfig_files/credentials.ipynb. Please editcredentials.ipynb to set your credentials and run the next cell to continue with the scripts "
   ]
  },
  {
   "cell_type": "code",
   "execution_count": null,
   "id": "4cb02936",
   "metadata": {},
   "outputs": [],
   "source": [
    "from pathlib import Path \n",
    "import os\n",
    "if Path.cwd().name != \"config_files\":\n",
    "    p = Path(\"../config_files/\") \n",
    "    os.chdir(p)\n",
    "\n",
    "%run credentials.ipynb \n",
    "%run environment_selection.ipynb"
   ]
  },
  {
   "cell_type": "markdown",
   "id": "5fc0aa05",
   "metadata": {},
   "source": [
    "To connect to the Refinitiv Data and opening a session,given function is used. To find out more about the library,you can visit [refinitiv-data library](https://pypi.org/project/refinitiv-data/)"
   ]
  },
  {
   "cell_type": "code",
   "execution_count": null,
   "id": "3f826989",
   "metadata": {},
   "outputs": [],
   "source": [
    "session = rdp.session.platform.Definition(\n",
    "    app_key=APP_KEY,\n",
    "    grant=rdp.session.platform.GrantPassword(\n",
    "        username=RDP_LOGIN, password=RDP_PASSWORD\n",
    "    ),\n",
    ").get_session()\n",
    "session.open()\n"
   ]
  },
  {
   "cell_type": "markdown",
   "id": "13600e89",
   "metadata": {},
   "source": [
    "## Graph call\n",
    "Graph call with given sets of samples below. "
   ]
  },
  {
   "cell_type": "code",
   "execution_count": null,
   "id": "83ccd245",
   "metadata": {},
   "outputs": [],
   "source": [
    "%%writefile query_cache\n",
    "query Equity_ReferenceData($identifierTypeName: EDFInstrumentIdentifierTypeNameEnumArgs!, $identifier: String!) {\n",
    "  EDFInstrument(identifiers: [{identifierTypeName: $identifierTypeName, identifier: $identifier}]) {\n",
    "    _metadata {\n",
    "      identifier\n",
    "    }\n",
    "    ObjectId\n",
    "    Reference {\n",
    "      InstrumentCommonNames {\n",
    "        InstrumentCommonName\n",
    "        LanguageId\n",
    "      }\n",
    "      Cfi\n",
    "      AssetClassId\n",
    "      DtccEligible\n",
    "      DerivedContent {\n",
    "        SwissStampDutyTax {\n",
    "          AssetTypeDescription\n",
    "          IssuerDomicileText\n",
    "          SwissStampDutyFlag\n",
    "          TaxationComment\n",
    "          TaxationType\n",
    "        }\n",
    "        UnitOfDelivery {\n",
    "          UnitOfDeliveryCode\n",
    "        }\n",
    "      }\n",
    "    }\n",
    "    InstrumentIdentifiers(filter: {IdentifierData: {IdentifierValue: {EXISTS: true}}}) {\n",
    "      IdentifierTypeId\n",
    "      IdentifierType {\n",
    "        IdentifierType {\n",
    "          Name\n",
    "        }\n",
    "      }\n",
    "      IdentifierData {\n",
    "        IdentifierValue\n",
    "      }\n",
    "    }\n",
    "    Issuer {\n",
    "      ObjectId\n",
    "      Names {\n",
    "        Name {\n",
    "          OrganizationName(filter: {NameTypeCode: {EQ: \"LNG\"}}) {\n",
    "            Name\n",
    "            LanguageId\n",
    "          }\n",
    "        }\n",
    "      }\n",
    "      ClassificationTrbcPrimarySchemaV2 {\n",
    "        Industry {\n",
    "          Name\n",
    "        }\n",
    "        Identifier {\n",
    "          IndustryId\n",
    "          Identifiers(filter: {ValueTypeId: {EQ: \"320159\"}}) {\n",
    "            Value\n",
    "            ValueTypeCode\n",
    "            ValueTypeId\n",
    "          }\n",
    "        }\n",
    "      }\n",
    "    }\n",
    "    ValuationQuote {\n",
    "      ObjectId\n",
    "    }\n",
    "    AllQuotes(filter: {Reference: {QuoteIsActive: {EQ: true}}}) {\n",
    "      ObjectId\n",
    "      Reference {\n",
    "        QuoteCurrencyId\n",
    "        QuoteCountryId\n",
    "        QuoteExchangeCode\n",
    "      }\n",
    "      MarketAttributableSource {\n",
    "        Reference {\n",
    "          Names(filter: {NameType: {EQ: \"Long Name\"}}) {\n",
    "            LanguageId\n",
    "            Name\n",
    "            NameType\n",
    "          }\n",
    "        }\n",
    "      }\n",
    "      QuoteIdentifiers(filter: {OR: [{IdentifierTypeId: {EQ: 320110}}, {IdentifierTypeId: {EQ: 320048}}]}) {\n",
    "        IdentifierTypeId\n",
    "        IdentifierType {\n",
    "          IdentifierType {\n",
    "            Name\n",
    "          }\n",
    "        }\n",
    "        IdentifierData {\n",
    "          IdentifierEffectiveFrom\n",
    "          IdentifierValue\n",
    "        }\n",
    "      }\n",
    "    }\n",
    "  }\n",
    "}\n"
   ]
  },
  {
   "cell_type": "markdown",
   "id": "1e8a9124",
   "metadata": {},
   "source": [
    "## Sample :  Query demonstrates how using a list of different identifier types and identifiers"
   ]
  },
  {
   "cell_type": "code",
   "execution_count": null,
   "id": "1fe4b64b",
   "metadata": {},
   "outputs": [],
   "source": [
    "\n",
    "variables = {'identifierTypeName': 'Isin', 'identifier': 'GB00B0SWJX34'}"
   ]
  },
  {
   "cell_type": "code",
   "execution_count": null,
   "id": "d99295e3",
   "metadata": {},
   "outputs": [],
   "source": [
    "%run config_request_handler.ipynb"
   ]
  },
  {
   "cell_type": "code",
   "execution_count": 3,
   "id": "8f93b10e",
   "metadata": {},
   "outputs": [
    {
     "name": "stdout",
     "output_type": "stream",
     "text": [
      " \n",
      "    data: { \n",
      "        EDFInstrument: [ \n",
      "            { \n",
      "                _metadata: { \n",
      "                    identifier: GB00B0SWJX34 \n",
      "                }, \n",
      "                ObjectId: 8590928053, \n",
      "                Reference: { \n",
      "                    InstrumentCommonNames: [ \n",
      "                        { \n",
      "                            InstrumentCommonName: London Stock Exchange Group Ord Shs, \n",
      "                            LanguageId: 505062 \n",
      "                        } \n",
      "                    ], \n",
      "         .................... \n",
      "......................................... \n"
     ]
    }
   ],
   "source": [
    "%run code_execution.ipynb"
   ]
  },
  {
   "cell_type": "markdown",
   "id": "ce1fea21",
   "metadata": {},
   "source": [
    "## Sample :  Find by ValorenNumber"
   ]
  },
  {
   "cell_type": "code",
   "execution_count": null,
   "id": "b42e9efd",
   "metadata": {},
   "outputs": [],
   "source": [
    "\n",
    "variables = {'identifierTypeName': 'ValorenNumber', 'identifier': '3886335'}"
   ]
  },
  {
   "cell_type": "code",
   "execution_count": null,
   "id": "705f73cc",
   "metadata": {},
   "outputs": [],
   "source": [
    "%run config_request_handler.ipynb"
   ]
  },
  {
   "cell_type": "code",
   "execution_count": 3,
   "id": "39609754",
   "metadata": {},
   "outputs": [
    {
     "name": "stdout",
     "output_type": "stream",
     "text": [
      "reserved_to_be_populated"
     ]
    }
   ],
   "source": [
    "%run code_execution.ipynb"
   ]
  },
  {
   "cell_type": "markdown",
   "id": "ba68b0fb",
   "metadata": {},
   "source": [
    "## Sample :  Find by RIC"
   ]
  },
  {
   "cell_type": "code",
   "execution_count": null,
   "id": "785956c1",
   "metadata": {},
   "outputs": [],
   "source": [
    "\n",
    "variables = {'identifierTypeName': 'RIC', 'identifier': 'TSLA.O'}"
   ]
  },
  {
   "cell_type": "code",
   "execution_count": null,
   "id": "d3738c28",
   "metadata": {},
   "outputs": [],
   "source": [
    "%run config_request_handler.ipynb"
   ]
  },
  {
   "cell_type": "code",
   "execution_count": 3,
   "id": "0d3927c8",
   "metadata": {},
   "outputs": [
    {
     "name": "stdout",
     "output_type": "stream",
     "text": [
      "reserved_to_be_populated"
     ]
    }
   ],
   "source": [
    "%run code_execution.ipynb"
   ]
  },
  {
   "cell_type": "markdown",
   "id": "c1d47f33",
   "metadata": {},
   "source": [
    "## Close the default session when done"
   ]
  },
  {
   "cell_type": "code",
   "execution_count": null,
   "id": "4c91aa5e",
   "metadata": {},
   "outputs": [],
   "source": [
    "session.close()"
   ]
  }
 ],
 "metadata": {},
 "nbformat": 4,
 "nbformat_minor": 5
}
