{
 "cells": [
  {
   "cell_type": "code",
   "execution_count": null,
   "id": "5b024f9b",
   "metadata": {},
   "outputs": [],
   "source": [
    "import refinitiv.data as rd\n"
   ]
  }
 ],
 "metadata": {},
 "nbformat": 4,
 "nbformat_minor": 5
}
