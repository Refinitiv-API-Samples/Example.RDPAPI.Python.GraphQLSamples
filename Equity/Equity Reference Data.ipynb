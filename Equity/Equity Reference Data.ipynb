{
 "cells": [
  {
   "cell_type": "markdown",
   "id": "bd1328ba",
   "metadata": {},
   "source": [
    "# Pre-canned Queries for Python\n",
    "## Function to call Equity Reference Data\n",
    "This query demonstrates how using a list of different identifier types and identifiers, the user can request:\n",
    "  * Instrument level reference data including:\n",
    "  * Swiss Stamp Tax Data\n",
    "  * Instrument Identifiers\n",
    "  * The name, and TRBC Scheme level 5 for the issuer of the instrument\n",
    "  * Identify the Valuation Quote (the quote used to calculate market capitalization of the issue)\n",
    "  * Quote level reference data for all active quotes of the instrument including:\n",
    "  * The name of the exchange on which each quote trades\n",
    "  * The RIC of the quote\n",
    "\n",
    "\n",
    "tags :     `Equity`, `Reference`, `Swiss`, `Tax`, `Instrument`, `Identifiers`\n",
    "## Import the library and load credentials\n",
    "Credentials used by this notebook are stored in the config_files/credentials.ipynb. Please edit credentials.ipynb to set your credentials and run the next cell to continue with the scripts "
   ]
  },
  {
   "cell_type": "code",
   "execution_count": null,
   "id": "17c3e6ff",
   "metadata": {},
   "outputs": [],
   "source": [
    "%run ../config_files/credentials.ipynb \n",
    "%run ../config_files/environment_selection.ipynb"
   ]
  },
  {
   "cell_type": "markdown",
   "id": "b1da1f3b",
   "metadata": {},
   "source": [
    "To connect to the Refinitiv Data and opening a session,given function is used. To find out more about the library,you can visit [refinitiv-data library](https://pypi.org/project/refinitiv-data/)"
   ]
  },
  {
   "cell_type": "code",
   "execution_count": null,
   "id": "983fe680",
   "metadata": {},
   "outputs": [],
   "source": [
    "session = rd.session.platform.Definition(\n",
    "    app_key=APP_KEY,\n",
    "    grant=rd.session.platform.GrantPassword(\n",
    "        username=RD_LOGIN, password=RD_PASSWORD\n",
    "    ),\n",
    ").get_session()\n",
    "session.open()\n"
   ]
  },
  {
   "cell_type": "markdown",
   "id": "8d8d0727",
   "metadata": {},
   "source": [
    "## Graph call\n",
    "Graph call with given sets of samples below. "
   ]
  },
  {
   "cell_type": "code",
   "execution_count": null,
   "id": "33d9c2c9",
   "metadata": {},
   "outputs": [],
   "source": [
    "%%writefile query_cache\n",
    "query Equity_ReferenceData($InstrumentList: [EDFInstrumentIdentifierArgs!]) {\n",
    "  EDFInstrument(identifiers: $InstrumentList) {\n",
    "    _metadata {\n",
    "      identifier\n",
    "    }\n",
    "    ObjectId\n",
    "    Reference {\n",
    "      InstrumentCommonNames {\n",
    "        InstrumentCommonName\n",
    "        LanguageId\n",
    "      }\n",
    "      Cfi\n",
    "      AssetClassId\n",
    "      DtccEligible\n",
    "      DerivedContent {\n",
    "        SwissStampDutyTax {\n",
    "          AssetTypeDescription\n",
    "          IssuerDomicileText\n",
    "          SwissStampDutyFlag\n",
    "          TaxationComment\n",
    "          TaxationType\n",
    "        }\n",
    "        UnitOfDelivery {\n",
    "          UnitOfDeliveryCode\n",
    "        }\n",
    "      }\n",
    "    }\n",
    "    InstrumentIdentifiers(filter: {IdentifierData: {IdentifierValue: {EXISTS: true}}}) {\n",
    "      IdentifierTypeId\n",
    "      IdentifierType {\n",
    "        IdentifierType {\n",
    "          Name\n",
    "        }\n",
    "      }\n",
    "      IdentifierData {\n",
    "        IdentifierValue\n",
    "      }\n",
    "    }\n",
    "    Issuer {\n",
    "      ObjectId\n",
    "      Names {\n",
    "        Name {\n",
    "          OrganizationName(filter: {NameTypeCode: {EQ: \"LNG\"}}) {\n",
    "            Name\n",
    "            LanguageId\n",
    "          }\n",
    "        }\n",
    "      }\n",
    "      ClassificationTrbcPrimarySchemaV2 {\n",
    "        Industry {\n",
    "          Name\n",
    "        }\n",
    "        Identifier {\n",
    "          IndustryId\n",
    "          Identifiers(filter: {ValueTypeId: {EQ: \"320159\"}}) {\n",
    "            Value\n",
    "            ValueTypeCode\n",
    "            ValueTypeId\n",
    "          }\n",
    "        }\n",
    "      }\n",
    "    }\n",
    "    ValuationQuote {\n",
    "      ObjectId\n",
    "    }\n",
    "    AllQuotes(filter: {Reference: {QuoteIsActive: {EQ: true}}}) {\n",
    "      ObjectId\n",
    "      Reference {\n",
    "        QuoteCurrencyId\n",
    "        QuoteCountryId\n",
    "        QuoteExchangeCode\n",
    "      }\n",
    "      MarketAttributableSource {\n",
    "        Reference {\n",
    "          Names(filter: {NameType: {EQ: \"Long Name\"}}) {\n",
    "            LanguageId\n",
    "            Name\n",
    "            NameType\n",
    "          }\n",
    "        }\n",
    "      }\n",
    "      QuoteIdentifiers(filter: {OR: [{IdentifierTypeId: {EQ: 320110}}, {IdentifierTypeId: {EQ: 320048}}]}) {\n",
    "        IdentifierTypeId\n",
    "        IdentifierType {\n",
    "          IdentifierType {\n",
    "            Name\n",
    "          }\n",
    "        }\n",
    "        IdentifierData {\n",
    "          IdentifierEffectiveFrom\n",
    "          IdentifierValue\n",
    "        }\n",
    "      }\n",
    "    }\n",
    "  }\n",
    "}\n"
   ]
  },
  {
   "cell_type": "markdown",
   "id": "842dc9ee",
   "metadata": {},
   "source": [
    "## Sample :  Find by a mixture of Identifier Types"
   ]
  },
  {
   "cell_type": "code",
   "execution_count": null,
   "id": "e67d4afc",
   "metadata": {},
   "outputs": [],
   "source": [
    "\n",
    "variables = {'InstrumentList': [{'identifierTypeName': 'Isin', 'identifier': 'GB00B0SWJX34'}, {'identifierTypeName': 'ValorenNumber', 'identifier': '3886335'}, {'identifierTypeName': 'RIC', 'identifier': 'TSLA.O'}]}"
   ]
  },
  {
   "cell_type": "code",
   "execution_count": 3,
   "id": "719e75c9",
   "metadata": {},
   "outputs": [
    {
     "data": {
      "text/html": [
       "<table>\n    <tbody>\n    </tbody>\n</table>\n"
      ],
      "text/plain": [
       "<table>\n    <tbody>\n    </tbody>\n</table>\n"
      ]
     },
     "metadata": {},
     "output_type": "display_data"
    }
   ],
   "source": [
    "output_format = 'handlebars'  # available: handlebars\n",
    "handlebars_template = 'Equity Reference Data.html'\n",
    "%run ../config_files/config_request_handler.ipynb"
   ]
  },
  {
   "cell_type": "markdown",
   "id": "ce5c2f2f",
   "metadata": {},
   "source": [
    "## Close the default session when done"
   ]
  },
  {
   "cell_type": "code",
   "execution_count": null,
   "id": "4a44454a",
   "metadata": {},
   "outputs": [],
   "source": [
    "session.close()"
   ]
  }
 ],
 "metadata": {},
 "nbformat": 4,
 "nbformat_minor": 5
}
