{
 "cells": [
  {
   "cell_type": "code",
   "execution_count": null,
   "id": "53da9317",
   "metadata": {},
   "outputs": [],
   "source": [
    "import refinitiv.data as rdp\n"
   ]
  }
 ],
 "metadata": {},
 "nbformat": 4,
 "nbformat_minor": 5
}
