{
 "cells": [
  {
   "cell_type": "markdown",
   "id": "4046173b",
   "metadata": {},
   "source": [
    "# Pre-canned Queries for Python\n",
    "## Function to call GovCorp Instrument Identifiers\n",
    "This query demonstrates how using an ISIN identifier type, the user can request the instrument reference data: instrument name, maturity date, CFI code, etc. Entitlements: To access the data returned by this query, the user account must have licenses that include:\n",
    "  * Government and Corporate Bond Reference Data - PRS / FI_GOV_REFERENCE\n",
    "  * Organization Reference Data - PRS / BASIC_ENTITY\n",
    "\n",
    "\n",
    "tags :     `Government`, `Corporate`, `Reference`, `Instrument`, `Organization`, `Identifiers`\n",
    "## Import the library and load credentials\n",
    "Credentials used by this notebook are stored in the config_files/credentials.ipynb. Please edit credentials.ipynb to set your credentials and run the next cell to continue with the scripts "
   ]
  },
  {
   "cell_type": "code",
   "execution_count": null,
   "id": "b86d4795",
   "metadata": {},
   "outputs": [],
   "source": [
    "%run ../../../config_files/credentials.ipynb \n",
    "%run ../../../config_files/environment_selection.ipynb"
   ]
  },
  {
   "cell_type": "markdown",
   "id": "ac20a4e7",
   "metadata": {},
   "source": [
    "To connect to the Refinitiv Data and opening a session,given function is used. To find out more about the library,you can visit [refinitiv-data library](https://pypi.org/project/refinitiv-data/)"
   ]
  },
  {
   "cell_type": "code",
   "execution_count": null,
   "id": "414dbe4d",
   "metadata": {},
   "outputs": [],
   "source": [
    "session = rd.session.platform.Definition(\n",
    "    app_key=APP_KEY,\n",
    "    grant=rd.session.platform.GrantPassword(\n",
    "        username=RD_LOGIN, password=RD_PASSWORD\n",
    "    ),\n",
    ").get_session()\n",
    "session.open()\n"
   ]
  },
  {
   "cell_type": "markdown",
   "id": "ed0071c5",
   "metadata": {},
   "source": [
    "## Graph call\n",
    "Graph call with given sets of samples below. "
   ]
  },
  {
   "cell_type": "code",
   "execution_count": null,
   "id": "a7521379",
   "metadata": {},
   "outputs": [],
   "source": [
    "%%writefile query_cache\n",
    "query GovCorpInstrument($identifierTypeName: GovCorpInstrumentIdentifierTypeNameEnumArgs!, $identifier: String!) {\n",
    "  GovCorpInstrument(identifiers: [{identifierTypeName: $identifierTypeName, identifier: $identifier}]) {\n",
    "    ObjectId\n",
    "    Reference {\n",
    "      SecurityDescription\n",
    "      InstrumentName\n",
    "      MaturityDate\n",
    "      CouponTypeCode\n",
    "      CfiCode\n",
    "      MinimumDenominationAmount\n",
    "      DenominationIncrementAmount\n",
    "      DerivedContent {\n",
    "        SwissStampDutyTax {\n",
    "          IssuerDomicileText\n",
    "          SwissStampDutyFlag\n",
    "          TaxationType\n",
    "          TaxationComment\n",
    "        }\n",
    "      }\n",
    "    }\n",
    "    Identifiers {\n",
    "      IdentifierCode\n",
    "      IdentifierValue\n",
    "    }\n",
    "    OriginalIssueTerms {\n",
    "      InstrumentTypeCode\n",
    "      ParValue\n",
    "    }\n",
    "    IssuanceDefinition {\n",
    "      IssueDate\n",
    "      DatedDate\n",
    "      IssueCurrencyIsoCode\n",
    "    }\n",
    "    InterestDefinition {\n",
    "      CouponPaymentFrequencyCode_v2\n",
    "      DayCountCode_v2\n",
    "    }\n",
    "    AmountOutstandingHistory {\n",
    "      ChangeAmount\n",
    "      CurrencyIsoCode\n",
    "      EffectiveFromDate\n",
    "      FaceValueFactor\n",
    "      IssuePrice\n",
    "      IssueYield\n",
    "      NetChangeCode\n",
    "      TotalOutstandingAmount\n",
    "    }\n",
    "    CouponRateSchedule {\n",
    "      InterestLegNumber\n",
    "      EffectiveFromDate\n",
    "      CouponRate\n",
    "      CouponRateCode\n",
    "    }\n",
    "    AssetStatus {\n",
    "      AssetStatusCode\n",
    "      EffectiveFromDate\n",
    "      EffectiveToDate\n",
    "    }\n",
    "    Issuer {\n",
    "      ObjectId\n",
    "      Names {\n",
    "        Name {\n",
    "          OrganizationName(filter: {NameTypeCode: {EQ: \"LNG\"}}) {\n",
    "            Name\n",
    "            NameTypeCode\n",
    "          }\n",
    "        }\n",
    "      }\n",
    "      UltimateParent {\n",
    "        ObjectId\n",
    "        Names {\n",
    "          Name {\n",
    "            OrganizationName(filter: {NameTypeCode: {EQ: \"LNG\"}}) {\n",
    "              Name\n",
    "              NameTypeCode\n",
    "            }\n",
    "          }\n",
    "        }\n",
    "      }\n",
    "    }\n",
    "    LeadUnderwriterOrganizationId\n",
    "  }\n",
    "}\n"
   ]
  },
  {
   "cell_type": "markdown",
   "id": "a9a5dc51",
   "metadata": {},
   "source": [
    "## Sample :  Find by ISIN"
   ]
  },
  {
   "cell_type": "code",
   "execution_count": null,
   "id": "3f4cb723",
   "metadata": {},
   "outputs": [],
   "source": [
    "\n",
    "variables = {'identifierTypeName': 'Isin', 'identifier': 'US83417KBJ60'}"
   ]
  },
  {
   "cell_type": "code",
   "execution_count": 3,
   "id": "3fc143a5",
   "metadata": {},
   "outputs": [
    {
     "data": {
      "text/html": [
       "<table>\n    <tbody>\n    </tbody>\n</table>"
      ],
      "text/plain": [
       "<table>\n    <tbody>\n    </tbody>\n</table>"
      ]
     },
     "metadata": {},
     "output_type": "display_data"
    }
   ],
   "source": [
    "output_format = 'handlebars'  # available: handlebars\n",
    "handlebars_template = 'GovCorp Instrument Identifiers.html'\n",
    "%run ../../../config_files/config_request_handler.ipynb"
   ]
  },
  {
   "cell_type": "markdown",
   "id": "ac780542",
   "metadata": {},
   "source": [
    "## Close the default session when done"
   ]
  },
  {
   "cell_type": "code",
   "execution_count": null,
   "id": "1eec2ea2",
   "metadata": {},
   "outputs": [],
   "source": [
    "session.close()"
   ]
  }
 ],
 "metadata": {},
 "nbformat": 4,
 "nbformat_minor": 5
}
