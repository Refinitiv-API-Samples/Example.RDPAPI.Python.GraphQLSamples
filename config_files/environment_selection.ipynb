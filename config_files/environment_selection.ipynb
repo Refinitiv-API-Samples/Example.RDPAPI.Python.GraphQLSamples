{
 "cells": [
  {
   "cell_type": "code",
   "execution_count": null,
   "id": "116aa4fe",
   "metadata": {},
   "outputs": [],
   "source": [
    "import refinitiv.data as rd\n"
   ]
  }
 ],
 "metadata": {},
 "nbformat": 4,
 "nbformat_minor": 5
}
