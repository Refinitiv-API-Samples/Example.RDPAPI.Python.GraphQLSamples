{
 "cells": [
  {
   "cell_type": "code",
   "execution_count": null,
   "id": "8a6e85a8",
   "metadata": {},
   "outputs": [],
   "source": [
    "import refinitiv.data as rd\n"
   ]
  }
 ],
 "metadata": {},
 "nbformat": 4,
 "nbformat_minor": 5
}
