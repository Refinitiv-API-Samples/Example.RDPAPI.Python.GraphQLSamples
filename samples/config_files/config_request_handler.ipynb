{
 "cells": [
  {
   "cell_type": "code",
   "execution_count": null,
   "id": "a1d3f574",
   "metadata": {},
   "outputs": [],
   "source": [
    "from pathlib import Path\n",
    "import refinitiv.data as rdp\n",
    "\n",
    "query = Path('query_cache').read_text('utf-8')\n",
    "response = rdp.delivery.endpoint_request.Definition(\n",
    "    url='https://api.ppe.refinitiv.com/data-store/v1/graphql',\n",
    "    method=rdp.delivery.endpoint_request.RequestMethod.POST,\n",
    "    header_parameters={'skip-entitlements': 'true'},\n",
    "    body_parameters={'query': query, 'variables': variables},\n",
    ").get_data(session).http_response\n",
    "\n",
    "if response.status_code==200:\n",
    "    query_output = response.text\n",
    "else:\n",
    "    print('Status code is:' ,response.status_code ,     'Results couldn\\'t be resolved correctly!' , '\\n')\n"
   ]
  }
 ],
 "metadata": {},
 "nbformat": 4,
 "nbformat_minor": 5
}
