{
 "cells": [
  {
   "cell_type": "markdown",
   "id": "e573784d",
   "metadata": {},
   "source": [
    "# Pre-canned Queries for Python\n",
    "## Function to call Equity Reference Data\n",
    "This query demonstrates how using a list of different identifier types and identifiers, the user can request:\n",
    "  * Instrument level reference data including:\n",
    "  * Swiss Stamp Tax Data\n",
    "  * Instrument Identifiers\n",
    "  * The name, and TRBC Scheme level 5 for the issuer of the instrument\n",
    "  * Identify the Valuation Quote (the quote used to calculate market capitalisation of the issue)\n",
    "  * Quote level reference data for all active quotes of the instrument including:\n",
    "  * The name of the exchange on which each quote trades\n",
    "  * The RIC of the quote\n",
    "\n",
    "\n",
    "tags :     `Equity`, `Reference`, `Swiss`, `Tax`, `Instrument`, `Identifiers`\n",
    "## Import the library and load credentials\n",
    "Credentials used by this notebook are stored in the config_files/credentials.ipynb. Please edit credentials.ipynb to set your credentials and run the next cell to continue with the scripts "
   ]
  },
  {
   "cell_type": "code",
   "execution_count": null,
   "id": "943501ce",
   "metadata": {},
   "outputs": [],
   "source": [
    "from pathlib import Path \n",
    "import os\n",
    "\n",
    "%run ../config_files/credentials.ipynb \n",
    "%run ../config_files/environment_selection.ipynb"
   ]
  },
  {
   "cell_type": "markdown",
   "id": "5dd60016",
   "metadata": {},
   "source": [
    "To connect to the Refinitiv Data and opening a session,given function is used. To find out more about the library,you can visit [refinitiv-data library](https://pypi.org/project/refinitiv-data/)"
   ]
  },
  {
   "cell_type": "code",
   "execution_count": null,
   "id": "ceb59b00",
   "metadata": {},
   "outputs": [],
   "source": [
    "session = rd.session.platform.Definition(\n",
    "    app_key=APP_KEY,\n",
    "    grant=rd.session.platform.GrantPassword(\n",
    "        username=RD_LOGIN, password=RD_PASSWORD\n",
    "    ),\n",
    ").get_session()\n",
    "session.open()\n"
   ]
  },
  {
   "cell_type": "markdown",
   "id": "773630ea",
   "metadata": {},
   "source": [
    "## Graph call\n",
    "Graph call with given sets of samples below. "
   ]
  },
  {
   "cell_type": "code",
   "execution_count": null,
   "id": "39814f70",
   "metadata": {},
   "outputs": [],
   "source": [
    "%%writefile query_cache\n",
    "query Equity_ReferenceData($identifierTypeName: EDFInstrumentIdentifierTypeNameEnumArgs!, $identifier: String!) {\n",
    "  EDFInstrument(identifiers: [{identifierTypeName: $identifierTypeName, identifier: $identifier}]) {\n",
    "    _metadata {\n",
    "      identifier\n",
    "    }\n",
    "    ObjectId\n",
    "    Reference {\n",
    "      InstrumentCommonNames {\n",
    "        InstrumentCommonName\n",
    "        LanguageId\n",
    "      }\n",
    "      Cfi\n",
    "      AssetClassId\n",
    "      DtccEligible\n",
    "      DerivedContent {\n",
    "        SwissStampDutyTax {\n",
    "          AssetTypeDescription\n",
    "          IssuerDomicileText\n",
    "          SwissStampDutyFlag\n",
    "          TaxationComment\n",
    "          TaxationType\n",
    "        }\n",
    "        UnitOfDelivery {\n",
    "          UnitOfDeliveryCode\n",
    "        }\n",
    "      }\n",
    "    }\n",
    "    InstrumentIdentifiers(filter: {IdentifierData: {IdentifierValue: {EXISTS: true}}}) {\n",
    "      IdentifierTypeId\n",
    "      IdentifierType {\n",
    "        IdentifierType {\n",
    "          Name\n",
    "        }\n",
    "      }\n",
    "      IdentifierData {\n",
    "        IdentifierValue\n",
    "      }\n",
    "    }\n",
    "    Issuer {\n",
    "      ObjectId\n",
    "      Names {\n",
    "        Name {\n",
    "          OrganizationName(filter: {NameTypeCode: {EQ: \"LNG\"}}) {\n",
    "            Name\n",
    "            LanguageId\n",
    "          }\n",
    "        }\n",
    "      }\n",
    "      ClassificationTrbcPrimarySchemaV2 {\n",
    "        Industry {\n",
    "          Name\n",
    "        }\n",
    "        Identifier {\n",
    "          IndustryId\n",
    "          Identifiers(filter: {ValueTypeId: {EQ: \"320159\"}}) {\n",
    "            Value\n",
    "            ValueTypeCode\n",
    "            ValueTypeId\n",
    "          }\n",
    "        }\n",
    "      }\n",
    "    }\n",
    "    ValuationQuote {\n",
    "      ObjectId\n",
    "    }\n",
    "    AllQuotes(filter: {Reference: {QuoteIsActive: {EQ: true}}}) {\n",
    "      ObjectId\n",
    "      Reference {\n",
    "        QuoteCurrencyId\n",
    "        QuoteCountryId\n",
    "        QuoteExchangeCode\n",
    "      }\n",
    "      MarketAttributableSource {\n",
    "        Reference {\n",
    "          Names(filter: {NameType: {EQ: \"Long Name\"}}) {\n",
    "            LanguageId\n",
    "            Name\n",
    "            NameType\n",
    "          }\n",
    "        }\n",
    "      }\n",
    "      QuoteIdentifiers(filter: {OR: [{IdentifierTypeId: {EQ: 320110}}, {IdentifierTypeId: {EQ: 320048}}]}) {\n",
    "        IdentifierTypeId\n",
    "        IdentifierType {\n",
    "          IdentifierType {\n",
    "            Name\n",
    "          }\n",
    "        }\n",
    "        IdentifierData {\n",
    "          IdentifierEffectiveFrom\n",
    "          IdentifierValue\n",
    "        }\n",
    "      }\n",
    "    }\n",
    "  }\n",
    "}\n"
   ]
  },
  {
   "cell_type": "markdown",
   "id": "f0ca5816",
   "metadata": {},
   "source": [
    "## Sample :  Query demonstrates how using a list of different identifier types and identifiers"
   ]
  },
  {
   "cell_type": "code",
   "execution_count": null,
   "id": "04a6acf9",
   "metadata": {},
   "outputs": [],
   "source": [
    "\n",
    "variables = {'identifierTypeName': 'Isin', 'identifier': 'GB00B0SWJX34'}"
   ]
  },
  {
   "cell_type": "code",
   "execution_count": 3,
   "id": "1f528bc8",
   "metadata": {},
   "outputs": [
    {
     "data": {
      "text/plain": [
       "{\n    \u001b[94m\"data\"\u001b[39;49;00m: {\n        \u001b[94m\"EDFInstrument\"\u001b[39;49;00m: [\n            {\n                \u001b[94m\"_metadata\"\u001b[39;49;00m: {\n                    \u001b[94m\"identifier\"\u001b[39;49;00m: \u001b[33m\"GB00B0SWJX34\"\u001b[39;49;00m\n                },\n                \u001b[94m\"ObjectId\"\u001b[39;49;00m: \u001b[33m\"8590928053\"\u001b[39;49;00m,\n                \u001b[94m\"Reference\"\u001b[39;49;00m: {\n                    \u001b[94m\"InstrumentCommonNames\"\u001b[39;49;00m: [\n                        {\n                            \u001b[94m\"InstrumentCommonName\"\u001b[39;49;00m: \u001b[33m\"London Stock Exchange Group Ord Shs\"\u001b[39;49;00m,\n                            \u001b[94m\"LanguageId\"\u001b[39;49;00m: \u001b[34m505062\u001b[39;49;00m\n                        },\n                        \u001b[33m\"...\"\u001b[39;49;00m\n                    ],\n                    \u001b[94m\"Cfi\"\u001b[39;49;00m: \u001b[33m\"ESVUFR\"\u001b[39;49;00m,\n                    \u001b[94m\"AssetClassId\"\u001b[39;49;00m: \u001b[34m300281\u001b[39;49;00m,\n                    \u001b[94m\"DtccEligible\"\u001b[39;49;00m: \u001b[34mnull\u001b[39;49;00m,\n                    \u001b[94m\"DerivedContent\"\u001b[39;49;00m: {\n                        \u001b[94m\"SwissStampDutyTax\"\u001b[39;49;00m: {\n                            \u001b[94m\"AssetTypeDescription\"\u001b[39;49;00m: \u001b[33m\"Equity\"\u001b[39;49;00m,\n                            \u001b[94m\"IssuerDomicileText\"\u001b[39;49;00m: \u001b[33m\"Non-Domestic\"\u001b[39;49;00m,\n                            \u001b[94m\"SwissStampDutyFlag\"\u001b[39;49;00m: \u001b[33m\"Y\"\u001b[39;49;00m,\n                            \u001b[94m\"TaxationComment\"\u001b[39;49;00m: \u001b[33m\"Taxable equity instrument\"\u001b[39;49;00m,\n                            \u001b[94m\"TaxationType\"\u001b[39;49;00m: \u001b[33m\"Equity\"\u001b[39;49;00m\n                        },\n                        \u001b[94m\"UnitOfDelivery\"\u001b[39;49;00m: {\n                            \u001b[94m\"UnitOfDeliveryCode\"\u001b[39;49;00m: \u001b[33m\"SHS\"\u001b[39;49;00m\n                        }\n                    }\n                },\n                \u001b[94m\"InstrumentIdentifiers\"\u001b[39;49;00m: [\n                    {\n                        \u001b[94m\"IdentifierTypeId\"\u001b[39;49;00m: \u001b[34m320019\u001b[39;49;00m,\n                        \u001b[94m\"IdentifierType\"\u001b[39;49;00m: {\n                            \u001b[94m\"IdentifierType\"\u001b[39;49;00m: {\n                                \u001b[94m\"Name\"\u001b[39;49;00m: \u001b[33m\"ValorenNumber\"\u001b[39;49;00m\n                            }\n                        },\n                        \u001b[94m\"IdentifierData\"\u001b[39;49;00m: [\n                            {\n                                \u001b[94m\"IdentifierValue\"\u001b[39;49;00m: \u001b[33m\"2477098\"\u001b[39;49;00m\n                            },\n                            \u001b[33m\"...\"\u001b[39;49;00m\n                        ]\n                    },\n                    \u001b[33m\"...\"\u001b[39;49;00m\n                ],\n                \u001b[94m\"Issuer\"\u001b[39;49;00m: \u001b[34mnull\u001b[39;49;00m,\n                \u001b[94m\"ValuationQuote\"\u001b[39;49;00m: \u001b[34mnull\u001b[39;49;00m,\n                \u001b[94m\"AllQuotes\"\u001b[39;49;00m: []\n            },\n            \u001b[33m\"...\"\u001b[39;49;00m\n        ]\n    },\n    \u001b[94m\"extensions\"\u001b[39;49;00m: {\n        \u001b[94m\"warnings\"\u001b[39;49;00m: [\n            {\n                \u001b[94m\"field\"\u001b[39;49;00m: \u001b[33m\"AssetClassId\"\u001b[39;49;00m,\n                \u001b[94m\"message\"\u001b[39;49;00m: \u001b[33m\"Deprecated field was requested. This field will be removed in a future release.\"\u001b[39;49;00m,\n                \u001b[94m\"source_location\"\u001b[39;49;00m: \u001b[34mnull\u001b[39;49;00m,\n                \u001b[94m\"type\"\u001b[39;49;00m: \u001b[33m\"FIELD_DEPRECATED\"\u001b[39;49;00m,\n                \u001b[94m\"warningCode\"\u001b[39;49;00m: \u001b[33m\"DW006\"\u001b[39;49;00m\n            },\n            \u001b[33m\"...\"\u001b[39;49;00m\n        ]\n    }\n}\n"
      ]
     },
     "metadata": {},
     "output_type": "display_data"
    }
   ],
   "source": [
    "output_format = 'json'  # available: json\n",
    "%run ../config_files/config_request_handler.ipynb"
   ]
  },
  {
   "cell_type": "markdown",
   "id": "4e28f190",
   "metadata": {},
   "source": [
    "## Sample :  Find by ValorenNumber"
   ]
  },
  {
   "cell_type": "code",
   "execution_count": null,
   "id": "ecbc2c41",
   "metadata": {},
   "outputs": [],
   "source": [
    "\n",
    "variables = {'identifierTypeName': 'ValorenNumber', 'identifier': '3886335'}"
   ]
  },
  {
   "cell_type": "code",
   "execution_count": 3,
   "id": "09eef199",
   "metadata": {},
   "outputs": [
    {
     "data": {
      "text/plain": [
       "{\n    \u001b[94m\"data\"\u001b[39;49;00m: {\n        \u001b[94m\"EDFInstrument\"\u001b[39;49;00m: [\n            {\n                \u001b[94m\"_metadata\"\u001b[39;49;00m: {\n                    \u001b[94m\"identifier\"\u001b[39;49;00m: \u001b[33m\"GB00B0SWJX34\"\u001b[39;49;00m\n                },\n                \u001b[94m\"ObjectId\"\u001b[39;49;00m: \u001b[33m\"8590928053\"\u001b[39;49;00m,\n                \u001b[94m\"Reference\"\u001b[39;49;00m: {\n                    \u001b[94m\"InstrumentCommonNames\"\u001b[39;49;00m: [\n                        {\n                            \u001b[94m\"InstrumentCommonName\"\u001b[39;49;00m: \u001b[33m\"London Stock Exchange Group Ord Shs\"\u001b[39;49;00m,\n                            \u001b[94m\"LanguageId\"\u001b[39;49;00m: \u001b[34m505062\u001b[39;49;00m\n                        },\n                        \u001b[33m\"...\"\u001b[39;49;00m\n                    ],\n                    \u001b[94m\"Cfi\"\u001b[39;49;00m: \u001b[33m\"ESVUFR\"\u001b[39;49;00m,\n                    \u001b[94m\"AssetClassId\"\u001b[39;49;00m: \u001b[34m300281\u001b[39;49;00m,\n                    \u001b[94m\"DtccEligible\"\u001b[39;49;00m: \u001b[34mnull\u001b[39;49;00m,\n                    \u001b[94m\"DerivedContent\"\u001b[39;49;00m: {\n                        \u001b[94m\"SwissStampDutyTax\"\u001b[39;49;00m: {\n                            \u001b[94m\"AssetTypeDescription\"\u001b[39;49;00m: \u001b[33m\"Equity\"\u001b[39;49;00m,\n                            \u001b[94m\"IssuerDomicileText\"\u001b[39;49;00m: \u001b[33m\"Non-Domestic\"\u001b[39;49;00m,\n                            \u001b[94m\"SwissStampDutyFlag\"\u001b[39;49;00m: \u001b[33m\"Y\"\u001b[39;49;00m,\n                            \u001b[94m\"TaxationComment\"\u001b[39;49;00m: \u001b[33m\"Taxable equity instrument\"\u001b[39;49;00m,\n                            \u001b[94m\"TaxationType\"\u001b[39;49;00m: \u001b[33m\"Equity\"\u001b[39;49;00m\n                        },\n                        \u001b[94m\"UnitOfDelivery\"\u001b[39;49;00m: {\n                            \u001b[94m\"UnitOfDeliveryCode\"\u001b[39;49;00m: \u001b[33m\"SHS\"\u001b[39;49;00m\n                        }\n                    }\n                },\n                \u001b[94m\"InstrumentIdentifiers\"\u001b[39;49;00m: [\n                    {\n                        \u001b[94m\"IdentifierTypeId\"\u001b[39;49;00m: \u001b[34m320019\u001b[39;49;00m,\n                        \u001b[94m\"IdentifierType\"\u001b[39;49;00m: {\n                            \u001b[94m\"IdentifierType\"\u001b[39;49;00m: {\n                                \u001b[94m\"Name\"\u001b[39;49;00m: \u001b[33m\"ValorenNumber\"\u001b[39;49;00m\n                            }\n                        },\n                        \u001b[94m\"IdentifierData\"\u001b[39;49;00m: [\n                            {\n                                \u001b[94m\"IdentifierValue\"\u001b[39;49;00m: \u001b[33m\"2477098\"\u001b[39;49;00m\n                            },\n                            \u001b[33m\"...\"\u001b[39;49;00m\n                        ]\n                    },\n                    \u001b[33m\"...\"\u001b[39;49;00m\n                ],\n                \u001b[94m\"Issuer\"\u001b[39;49;00m: \u001b[34mnull\u001b[39;49;00m,\n                \u001b[94m\"ValuationQuote\"\u001b[39;49;00m: \u001b[34mnull\u001b[39;49;00m,\n                \u001b[94m\"AllQuotes\"\u001b[39;49;00m: []\n            },\n            \u001b[33m\"...\"\u001b[39;49;00m\n        ]\n    },\n    \u001b[94m\"extensions\"\u001b[39;49;00m: {\n        \u001b[94m\"warnings\"\u001b[39;49;00m: [\n            {\n                \u001b[94m\"field\"\u001b[39;49;00m: \u001b[33m\"AssetClassId\"\u001b[39;49;00m,\n                \u001b[94m\"message\"\u001b[39;49;00m: \u001b[33m\"Deprecated field was requested. This field will be removed in a future release.\"\u001b[39;49;00m,\n                \u001b[94m\"source_location\"\u001b[39;49;00m: \u001b[34mnull\u001b[39;49;00m,\n                \u001b[94m\"type\"\u001b[39;49;00m: \u001b[33m\"FIELD_DEPRECATED\"\u001b[39;49;00m,\n                \u001b[94m\"warningCode\"\u001b[39;49;00m: \u001b[33m\"DW006\"\u001b[39;49;00m\n            },\n            \u001b[33m\"...\"\u001b[39;49;00m\n        ]\n    }\n}\n"
      ]
     },
     "metadata": {},
     "output_type": "display_data"
    }
   ],
   "source": [
    "output_format = 'json'  # available: json\n",
    "%run ../config_files/config_request_handler.ipynb"
   ]
  },
  {
   "cell_type": "markdown",
   "id": "be465cb7",
   "metadata": {},
   "source": [
    "## Sample :  Find by RIC"
   ]
  },
  {
   "cell_type": "code",
   "execution_count": null,
   "id": "63f2e272",
   "metadata": {},
   "outputs": [],
   "source": [
    "\n",
    "variables = {'identifierTypeName': 'RIC', 'identifier': 'TSLA.O'}"
   ]
  },
  {
   "cell_type": "code",
   "execution_count": 3,
   "id": "835d15aa",
   "metadata": {},
   "outputs": [
    {
     "data": {
      "text/plain": [
       "{\n    \u001b[94m\"data\"\u001b[39;49;00m: {\n        \u001b[94m\"EDFInstrument\"\u001b[39;49;00m: [\n            {\n                \u001b[94m\"_metadata\"\u001b[39;49;00m: {\n                    \u001b[94m\"identifier\"\u001b[39;49;00m: \u001b[33m\"GB00B0SWJX34\"\u001b[39;49;00m\n                },\n                \u001b[94m\"ObjectId\"\u001b[39;49;00m: \u001b[33m\"8590928053\"\u001b[39;49;00m,\n                \u001b[94m\"Reference\"\u001b[39;49;00m: {\n                    \u001b[94m\"InstrumentCommonNames\"\u001b[39;49;00m: [\n                        {\n                            \u001b[94m\"InstrumentCommonName\"\u001b[39;49;00m: \u001b[33m\"London Stock Exchange Group Ord Shs\"\u001b[39;49;00m,\n                            \u001b[94m\"LanguageId\"\u001b[39;49;00m: \u001b[34m505062\u001b[39;49;00m\n                        },\n                        \u001b[33m\"...\"\u001b[39;49;00m\n                    ],\n                    \u001b[94m\"Cfi\"\u001b[39;49;00m: \u001b[33m\"ESVUFR\"\u001b[39;49;00m,\n                    \u001b[94m\"AssetClassId\"\u001b[39;49;00m: \u001b[34m300281\u001b[39;49;00m,\n                    \u001b[94m\"DtccEligible\"\u001b[39;49;00m: \u001b[34mnull\u001b[39;49;00m,\n                    \u001b[94m\"DerivedContent\"\u001b[39;49;00m: {\n                        \u001b[94m\"SwissStampDutyTax\"\u001b[39;49;00m: {\n                            \u001b[94m\"AssetTypeDescription\"\u001b[39;49;00m: \u001b[33m\"Equity\"\u001b[39;49;00m,\n                            \u001b[94m\"IssuerDomicileText\"\u001b[39;49;00m: \u001b[33m\"Non-Domestic\"\u001b[39;49;00m,\n                            \u001b[94m\"SwissStampDutyFlag\"\u001b[39;49;00m: \u001b[33m\"Y\"\u001b[39;49;00m,\n                            \u001b[94m\"TaxationComment\"\u001b[39;49;00m: \u001b[33m\"Taxable equity instrument\"\u001b[39;49;00m,\n                            \u001b[94m\"TaxationType\"\u001b[39;49;00m: \u001b[33m\"Equity\"\u001b[39;49;00m\n                        },\n                        \u001b[94m\"UnitOfDelivery\"\u001b[39;49;00m: {\n                            \u001b[94m\"UnitOfDeliveryCode\"\u001b[39;49;00m: \u001b[33m\"SHS\"\u001b[39;49;00m\n                        }\n                    }\n                },\n                \u001b[94m\"InstrumentIdentifiers\"\u001b[39;49;00m: [\n                    {\n                        \u001b[94m\"IdentifierTypeId\"\u001b[39;49;00m: \u001b[34m320019\u001b[39;49;00m,\n                        \u001b[94m\"IdentifierType\"\u001b[39;49;00m: {\n                            \u001b[94m\"IdentifierType\"\u001b[39;49;00m: {\n                                \u001b[94m\"Name\"\u001b[39;49;00m: \u001b[33m\"ValorenNumber\"\u001b[39;49;00m\n                            }\n                        },\n                        \u001b[94m\"IdentifierData\"\u001b[39;49;00m: [\n                            {\n                                \u001b[94m\"IdentifierValue\"\u001b[39;49;00m: \u001b[33m\"2477098\"\u001b[39;49;00m\n                            },\n                            \u001b[33m\"...\"\u001b[39;49;00m\n                        ]\n                    },\n                    \u001b[33m\"...\"\u001b[39;49;00m\n                ],\n                \u001b[94m\"Issuer\"\u001b[39;49;00m: \u001b[34mnull\u001b[39;49;00m,\n                \u001b[94m\"ValuationQuote\"\u001b[39;49;00m: \u001b[34mnull\u001b[39;49;00m,\n                \u001b[94m\"AllQuotes\"\u001b[39;49;00m: []\n            },\n            \u001b[33m\"...\"\u001b[39;49;00m\n        ]\n    },\n    \u001b[94m\"extensions\"\u001b[39;49;00m: {\n        \u001b[94m\"warnings\"\u001b[39;49;00m: [\n            {\n                \u001b[94m\"field\"\u001b[39;49;00m: \u001b[33m\"AssetClassId\"\u001b[39;49;00m,\n                \u001b[94m\"message\"\u001b[39;49;00m: \u001b[33m\"Deprecated field was requested. This field will be removed in a future release.\"\u001b[39;49;00m,\n                \u001b[94m\"source_location\"\u001b[39;49;00m: \u001b[34mnull\u001b[39;49;00m,\n                \u001b[94m\"type\"\u001b[39;49;00m: \u001b[33m\"FIELD_DEPRECATED\"\u001b[39;49;00m,\n                \u001b[94m\"warningCode\"\u001b[39;49;00m: \u001b[33m\"DW006\"\u001b[39;49;00m\n            },\n            \u001b[33m\"...\"\u001b[39;49;00m\n        ]\n    }\n}\n"
      ]
     },
     "metadata": {},
     "output_type": "display_data"
    }
   ],
   "source": [
    "output_format = 'json'  # available: json\n",
    "%run ../config_files/config_request_handler.ipynb"
   ]
  },
  {
   "cell_type": "markdown",
   "id": "73cb09bf",
   "metadata": {},
   "source": [
    "## Close the default session when done"
   ]
  },
  {
   "cell_type": "code",
   "execution_count": null,
   "id": "95856d73",
   "metadata": {},
   "outputs": [],
   "source": [
    "session.close()"
   ]
  }
 ],
 "metadata": {},
 "nbformat": 4,
 "nbformat_minor": 5
}
