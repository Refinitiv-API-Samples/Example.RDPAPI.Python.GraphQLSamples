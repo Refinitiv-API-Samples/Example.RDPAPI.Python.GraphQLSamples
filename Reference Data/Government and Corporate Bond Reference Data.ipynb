{
 "cells": [
  {
   "cell_type": "markdown",
   "id": "98eb3a3f",
   "metadata": {},
   "source": [
    "# Pre-canned Queries for Python\n",
    "## Function to call Government and Corporate Bond Reference Data\n",
    "This query demonstrates how using a list of different identifier types and identifiers, the user can request:\n",
    "  * Instrument level reference data including:\n",
    "  * Instrument Identifiers\n",
    "  * Coupon Schedule\n",
    "  * Amount Outstanding Schedlue sorted in descending effective date order\n",
    "  * Identify the Valuation Quote (the quote used to calculate market capitalisation of the issue)\n",
    "  * Quote level identifiers for all active quotes of the instrument\n",
    "  * The name, TRBC Scheme level 5, organizsation type, status, and ultimate parent ID for the issuer of the instrument\n",
    "The query demonstrates how fields that contain enumerated values can be configured to return a human readable value rather than the enumeration Entitlements: To access the data returned by this query, the user account must have licences that include:\n",
    "  * Government and Corporate Bond Reference Data - PRS / FI_GOV_REFERENCE\n",
    "  * Organization Refence Data - PRS / BASIC_ENTITY\n",
    "The query requests instrument identifiers associated with the instrument - if the instrument being queried  has a SEDOL or CUSIP, the Identifier will be suppressed unless the user has the appropriate licences (SYMBOLOGY / IDENTIFIER_TYPE_SEDOL and IDENTIFER_TYPE_SEDOL)\n",
    "\n",
    "\n",
    "tags :     `Government`, `Corporate`, `Reference`, `Instrument`, `Organization`, `Identifiers`\n",
    "## Import the library and load credentials\n",
    "Credentials used by this notebook are stored in the config_files/credentials.ipynb. Please edit credentials.ipynb to set your credentials and run the next cell to continue with the scripts "
   ]
  },
  {
   "cell_type": "code",
   "execution_count": null,
   "id": "4580bcb8",
   "metadata": {},
   "outputs": [],
   "source": [
    "from pathlib import Path \n",
    "import os\n",
    "\n",
    "%run ../config_files/credentials.ipynb \n",
    "%run ../config_files/environment_selection.ipynb"
   ]
  },
  {
   "cell_type": "markdown",
   "id": "5e0eacf0",
   "metadata": {},
   "source": [
    "To connect to the Refinitiv Data and opening a session,given function is used. To find out more about the library,you can visit [refinitiv-data library](https://pypi.org/project/refinitiv-data/)"
   ]
  },
  {
   "cell_type": "code",
   "execution_count": null,
   "id": "8c3c4420",
   "metadata": {},
   "outputs": [],
   "source": [
    "session = rd.session.platform.Definition(\n",
    "    app_key=APP_KEY,\n",
    "    grant=rd.session.platform.GrantPassword(\n",
    "        username=RD_LOGIN, password=RD_PASSWORD\n",
    "    ),\n",
    ").get_session()\n",
    "session.open()\n"
   ]
  },
  {
   "cell_type": "markdown",
   "id": "a17e3cad",
   "metadata": {},
   "source": [
    "## Graph call\n",
    "Graph call with given sets of samples below. "
   ]
  },
  {
   "cell_type": "code",
   "execution_count": null,
   "id": "a8d995f5",
   "metadata": {},
   "outputs": [],
   "source": [
    "%%writefile query_cache\n",
    "query GovernmentCorporateBondReferenceData($identifierTypeName: GovCorpInstrumentIdentifierTypeNameEnumArgs!, $identifier: String!) {\n",
    "  GovCorpInstrument(identifiers: [{identifierTypeName: $identifierTypeName, identifier: $identifier}]) {\n",
    "    ObjectId\n",
    "    _metadata{\n",
    "      identifierTypeName\n",
    "      identifier\n",
    "    }\n",
    "    Reference {\n",
    "      SecurityDescription\n",
    "      MaturityDate\n",
    "      CouponTypeCode\n",
    "      CouponTypeCodeDescription: CouponTypeCode(format: Name, language: en_US, style: LongName)\n",
    "      Cic\n",
    "      CfiCode\n",
    "    }\n",
    "    AssetStatus {\n",
    "      AssetStatusCode\n",
    "      AssetStatusCodeDescription: AssetStatusCode(format: Name, language: en_US, style: LongName)\n",
    "      EffectiveFromDate\n",
    "    }\n",
    "    CouponRateSchedule {\n",
    "      CouponRate\n",
    "      EffectiveFromDate\n",
    "      InterestLegNumber\n",
    "      LastChangedDate\n",
    "    }\n",
    "    IssuanceDefinition {\n",
    "      DatedDate\n",
    "      IssueCurrencyIsoCode\n",
    "      IssueAmount\n",
    "    }\n",
    "    InterestDefinition {\n",
    "      DayCountCode_v2\n",
    "      DayCountCodeDescription: DayCountCode_v2(format: Name, language: en_US, style: LongName)\n",
    "    }\n",
    "    AmountOutstandingHistory(sort: {EffectiveFromDate: DESC}) {\n",
    "      CurrencyIsoCode\n",
    "      TotalOutstandingAmount\n",
    "      EffectiveFromDate\n",
    "      NetChangeCode\n",
    "      NetChangeCodeDescription: NetChangeCode(format: Name, language: en_US, style: LongName)\n",
    "    }\n",
    "    Identifiers {\n",
    "      EffectiveFromDate\n",
    "      IdentifierCode\n",
    "      IdentifierCodeDescription:IdentifierCode(format:Name,language:en_US,style:LongName)\n",
    "      IdentifierValue\n",
    "    }\n",
    "    Quotes {\n",
    "      ObjectId\n",
    "      Identifier(filter: {AND: [{IdentifierTypeCode: {IN: [\"ORC\", \"RIC\"]}}, {QuoteIsActiveFlag: {EQ: \"y\"}}]}) {\n",
    "        GlobalRegionCode\n",
    "        IdentifierTypeCode\n",
    "        IdentifierValue\n",
    "        ObjectTypeCode\n",
    "        QuoteContributorCode\n",
    "        QuoteCurrencyIsoCode\n",
    "        QuoteIsActiveFlag\n",
    "        QuotePriceSourceCode\n",
    "        QuotePriceSourceCodeDescription: QuotePriceSourceCode(format: Name, language: en_US, style: LongName)\n",
    "      }\n",
    "    }\n",
    "    Issuer {\n",
    "      ObjectId\n",
    "      Names {\n",
    "        Name {\n",
    "          OrganizationName(filter: {NameTypeCode: {EQ: \"LNG\"}}) {\n",
    "            Name\n",
    "            NameTypeCode\n",
    "            NameTypeCodeDescription: NameTypeCode(format: Name, language: en_US, style: LongName)\n",
    "        }\n",
    "        }\n",
    "      }\n",
    "      ClassificationTrbcPrimaryScheme_v2 {\n",
    "        Industry {\n",
    "          Name\n",
    "        }\n",
    "        Identifier {\n",
    "          Identifiers(filter: {ValueTypeId: {EQ: \"320159\"}}) {\n",
    "            Value\n",
    "            ValueTypeCode\n",
    "            ValueTypeId\n",
    "          }\n",
    "        }\n",
    "      }\n",
    "      Details {\n",
    "        OrganizationDetails {\n",
    "          JurisdictionOfIncorporation\n",
    "          OrganizationTier\n",
    "          OrganizationTypeCode(format: Name, language: en_US, style: LongName)\n",
    "          OrganizationSubTypeCode(format: Name, language: en_US, style: LongName)\n",
    "          OrganizationStatusCode\n",
    "          OrganizationStatusCodeDescription: OrganizationStatusCode(format: Name, language: en_US, style: LongName)\n",
    "        }\n",
    "      }\n",
    "      UltimateParentId\n",
    "    }\n",
    "  }\n",
    "}\n"
   ]
  },
  {
   "cell_type": "markdown",
   "id": "5d181f95",
   "metadata": {},
   "source": [
    "## Sample :  Query demonstrates how using a list of ISINs"
   ]
  },
  {
   "cell_type": "code",
   "execution_count": null,
   "id": "bd6365b4",
   "metadata": {},
   "outputs": [],
   "source": [
    "\n",
    "variables = {'identifierTypeName': 'Isin', 'identifier': 'US645767AW49'}"
   ]
  },
  {
   "cell_type": "code",
   "execution_count": 3,
   "id": "ffe08d25",
   "metadata": {},
   "outputs": [
    {
     "data": {
      "text/plain": [
       "{\n    \u001b[94m\"data\"\u001b[39;49;00m: {\n        \u001b[94m\"GovCorpInstrument\"\u001b[39;49;00m: [\n            {\n                \u001b[94m\"ObjectId\"\u001b[39;49;00m: \u001b[33m\"15628303271\"\u001b[39;49;00m,\n                \u001b[94m\"_metadata\"\u001b[39;49;00m: {\n                    \u001b[94m\"identifierTypeName\"\u001b[39;49;00m: \u001b[33m\"Isin\"\u001b[39;49;00m,\n                    \u001b[94m\"identifier\"\u001b[39;49;00m: \u001b[33m\"US645767AW49\"\u001b[39;49;00m\n                },\n                \u001b[94m\"Reference\"\u001b[39;49;00m: {\n                    \u001b[94m\"SecurityDescription\"\u001b[39;49;00m: \u001b[33m\"VZ     7.850 11/15/29 PUT\"\u001b[39;49;00m,\n                    \u001b[94m\"MaturityDate\"\u001b[39;49;00m: \u001b[33m\"2029-11-15\"\u001b[39;49;00m,\n                    \u001b[94m\"CouponTypeCode\"\u001b[39;49;00m: \u001b[33m\"FXPV\"\u001b[39;49;00m,\n                    \u001b[94m\"CouponTypeCodeDescription\"\u001b[39;49;00m: \u001b[33m\"Fixed:Plain Vanilla Fixed Coupon\"\u001b[39;49;00m,\n                    \u001b[94m\"Cic\"\u001b[39;49;00m: \u001b[33m\"US29\"\u001b[39;49;00m,\n                    \u001b[94m\"CfiCode\"\u001b[39;49;00m: \u001b[33m\"DBXXXX\"\u001b[39;49;00m\n                },\n                \u001b[94m\"AssetStatus\"\u001b[39;49;00m: {\n                    \u001b[94m\"AssetStatusCode\"\u001b[39;49;00m: \u001b[33m\"ISS\"\u001b[39;49;00m,\n                    \u001b[94m\"AssetStatusCodeDescription\"\u001b[39;49;00m: \u001b[33m\"Issued\"\u001b[39;49;00m,\n                    \u001b[94m\"EffectiveFromDate\"\u001b[39;49;00m: \u001b[33m\"1989-11-16\"\u001b[39;49;00m\n                },\n                \u001b[94m\"CouponRateSchedule\"\u001b[39;49;00m: [\n                    {\n                        \u001b[94m\"CouponRate\"\u001b[39;49;00m: \u001b[33m\"7.85\"\u001b[39;49;00m,\n                        \u001b[94m\"EffectiveFromDate\"\u001b[39;49;00m: \u001b[33m\"1989-11-15\"\u001b[39;49;00m,\n                        \u001b[94m\"InterestLegNumber\"\u001b[39;49;00m: \u001b[34m1\u001b[39;49;00m,\n                        \u001b[94m\"LastChangedDate\"\u001b[39;49;00m: \u001b[33m\"2020-04-06T23:38:56.030Z\"\u001b[39;49;00m\n                    },\n                    \u001b[33m\"...\"\u001b[39;49;00m\n                ],\n                \u001b[94m\"IssuanceDefinition\"\u001b[39;49;00m: [\n                    {\n                        \u001b[94m\"DatedDate\"\u001b[39;49;00m: \u001b[33m\"1989-11-15\"\u001b[39;49;00m,\n                        \u001b[94m\"IssueCurrencyIsoCode\"\u001b[39;49;00m: \u001b[33m\"USD\"\u001b[39;49;00m,\n                        \u001b[94m\"IssueAmount\"\u001b[39;49;00m: \u001b[33m\"150000\"\u001b[39;49;00m\n                    },\n                    \u001b[33m\"...\"\u001b[39;49;00m\n                ],\n                \u001b[94m\"InterestDefinition\"\u001b[39;49;00m: [\n                    {\n                        \u001b[94m\"DayCountCode_v2\"\u001b[39;49;00m: \u001b[33m\"1\"\u001b[39;49;00m,\n                        \u001b[94m\"DayCountCodeDescription\"\u001b[39;49;00m: \u001b[33m\"30/360 US, 30U/360, 30US/360\"\u001b[39;49;00m\n                    },\n                    \u001b[33m\"...\"\u001b[39;49;00m\n                ],\n                \u001b[94m\"AmountOutstandingHistory\"\u001b[39;49;00m: [\n                    {\n                        \u001b[94m\"CurrencyIsoCode\"\u001b[39;49;00m: \u001b[33m\"USD\"\u001b[39;49;00m,\n                        \u001b[94m\"TotalOutstandingAmount\"\u001b[39;49;00m: \u001b[33m\"44704\"\u001b[39;49;00m,\n                        \u001b[94m\"EffectiveFromDate\"\u001b[39;49;00m: \u001b[33m\"2017-12-15\"\u001b[39;49;00m,\n                        \u001b[94m\"NetChangeCode\"\u001b[39;49;00m: \u001b[33m\"MLT\"\u001b[39;49;00m,\n                        \u001b[94m\"NetChangeCodeDescription\"\u001b[39;49;00m: \u001b[33m\"Multiple Actions\"\u001b[39;49;00m\n                    },\n                    \u001b[33m\"...\"\u001b[39;49;00m\n                ],\n                \u001b[94m\"Identifiers\"\u001b[39;49;00m: [\n                    {\n                        \u001b[94m\"EffectiveFromDate\"\u001b[39;49;00m: \u001b[33m\"1991-05-10\"\u001b[39;49;00m,\n                        \u001b[94m\"IdentifierCode\"\u001b[39;49;00m: \u001b[33m\"BDG\"\u001b[39;49;00m,\n                        \u001b[94m\"IdentifierCodeDescription\"\u001b[39;49;00m: \u001b[33m\"Bridge\"\u001b[39;49;00m,\n                        \u001b[94m\"IdentifierValue\"\u001b[39;49;00m: \u001b[33m\"BEL-7.85-1129\"\u001b[39;49;00m\n                    },\n                    \u001b[33m\"...\"\u001b[39;49;00m\n                ],\n                \u001b[94m\"Quotes\"\u001b[39;49;00m: [\n                    {\n                        \u001b[94m\"ObjectId\"\u001b[39;49;00m: \u001b[33m\"34486602836\"\u001b[39;49;00m,\n                        \u001b[94m\"Identifier\"\u001b[39;49;00m: []\n                    },\n                    \u001b[33m\"...\"\u001b[39;49;00m\n                ],\n                \u001b[94m\"Issuer\"\u001b[39;49;00m: {\n                    \u001b[94m\"ObjectId\"\u001b[39;49;00m: \u001b[33m\"4295900570\"\u001b[39;49;00m,\n                    \u001b[94m\"Names\"\u001b[39;49;00m: {\n                        \u001b[94m\"Name\"\u001b[39;49;00m: {\n                            \u001b[94m\"OrganizationName\"\u001b[39;49;00m: [\n                                {\n                                    \u001b[94m\"Name\"\u001b[39;49;00m: \u001b[33m\"VERIZON NEW JERSEY INC.\"\u001b[39;49;00m,\n                                    \u001b[94m\"NameTypeCode\"\u001b[39;49;00m: \u001b[33m\"LNG\"\u001b[39;49;00m,\n                                    \u001b[94m\"NameTypeCodeDescription\"\u001b[39;49;00m: \u001b[33m\"Official Name\"\u001b[39;49;00m\n                                },\n                                \u001b[33m\"...\"\u001b[39;49;00m\n                            ]\n                        }\n                    },\n                    \u001b[94m\"ClassificationTrbcPrimaryScheme_v2\"\u001b[39;49;00m: {\n                        \u001b[94m\"Industry\"\u001b[39;49;00m: {\n                            \u001b[94m\"Name\"\u001b[39;49;00m: \u001b[33m\"Integrated Telecommunications Services (NEC) (Industry) (Trbc) (1811)\"\u001b[39;49;00m\n                        },\n                        \u001b[94m\"Identifier\"\u001b[39;49;00m: {\n                            \u001b[94m\"Identifiers\"\u001b[39;49;00m: [\n                                {\n                                    \u001b[94m\"Value\"\u001b[39;49;00m: \u001b[33m\"5740101010\"\u001b[39;49;00m,\n                                    \u001b[94m\"ValueTypeCode\"\u001b[39;49;00m: \u001b[33m\"Trbc\"\u001b[39;49;00m,\n                                    \u001b[94m\"ValueTypeId\"\u001b[39;49;00m: \u001b[33m\"320159\"\u001b[39;49;00m\n                                },\n                                \u001b[33m\"...\"\u001b[39;49;00m\n                            ]\n                        }\n                    },\n                    \u001b[94m\"Details\"\u001b[39;49;00m: {\n                        \u001b[94m\"OrganizationDetails\"\u001b[39;49;00m: {\n                            \u001b[94m\"JurisdictionOfIncorporation\"\u001b[39;49;00m: \u001b[33m\"NEW JERSEY\"\u001b[39;49;00m,\n                            \u001b[94m\"OrganizationTier\"\u001b[39;49;00m: \u001b[34m1\u001b[39;49;00m,\n                            \u001b[94m\"OrganizationTypeCode\"\u001b[39;49;00m: \u001b[33m\"Company\"\u001b[39;49;00m,\n                            \u001b[94m\"OrganizationSubTypeCode\"\u001b[39;49;00m: \u001b[33m\"Operating Company\"\u001b[39;49;00m,\n                            \u001b[94m\"OrganizationStatusCode\"\u001b[39;49;00m: \u001b[33m\"Act\"\u001b[39;49;00m,\n                            \u001b[94m\"OrganizationStatusCodeDescription\"\u001b[39;49;00m: \u001b[33m\"Active\"\u001b[39;49;00m\n                        }\n                    },\n                    \u001b[94m\"UltimateParentId\"\u001b[39;49;00m: \u001b[33m\"4295911976\"\u001b[39;49;00m\n                }\n            },\n            \u001b[33m\"...\"\u001b[39;49;00m\n        ]\n    }\n}\n"
      ]
     },
     "metadata": {},
     "output_type": "display_data"
    }
   ],
   "source": [
    "output_format = 'json'  # available: json\n",
    "%run ../config_files/config_request_handler.ipynb"
   ]
  },
  {
   "cell_type": "markdown",
   "id": "e0393722",
   "metadata": {},
   "source": [
    "## Sample :  Query demonstrates how using a list of Sedols"
   ]
  },
  {
   "cell_type": "code",
   "execution_count": null,
   "id": "8277d55f",
   "metadata": {},
   "outputs": [],
   "source": [
    "\n",
    "variables = {'identifierTypeName': 'Sedol', 'identifier': 'B4333T3'}"
   ]
  },
  {
   "cell_type": "code",
   "execution_count": 3,
   "id": "bf3c9454",
   "metadata": {},
   "outputs": [
    {
     "data": {
      "text/plain": [
       "{\n    \u001b[94m\"data\"\u001b[39;49;00m: {\n        \u001b[94m\"GovCorpInstrument\"\u001b[39;49;00m: [\n            {\n                \u001b[94m\"ObjectId\"\u001b[39;49;00m: \u001b[33m\"15628303271\"\u001b[39;49;00m,\n                \u001b[94m\"_metadata\"\u001b[39;49;00m: {\n                    \u001b[94m\"identifierTypeName\"\u001b[39;49;00m: \u001b[33m\"Isin\"\u001b[39;49;00m,\n                    \u001b[94m\"identifier\"\u001b[39;49;00m: \u001b[33m\"US645767AW49\"\u001b[39;49;00m\n                },\n                \u001b[94m\"Reference\"\u001b[39;49;00m: {\n                    \u001b[94m\"SecurityDescription\"\u001b[39;49;00m: \u001b[33m\"VZ     7.850 11/15/29 PUT\"\u001b[39;49;00m,\n                    \u001b[94m\"MaturityDate\"\u001b[39;49;00m: \u001b[33m\"2029-11-15\"\u001b[39;49;00m,\n                    \u001b[94m\"CouponTypeCode\"\u001b[39;49;00m: \u001b[33m\"FXPV\"\u001b[39;49;00m,\n                    \u001b[94m\"CouponTypeCodeDescription\"\u001b[39;49;00m: \u001b[33m\"Fixed:Plain Vanilla Fixed Coupon\"\u001b[39;49;00m,\n                    \u001b[94m\"Cic\"\u001b[39;49;00m: \u001b[33m\"US29\"\u001b[39;49;00m,\n                    \u001b[94m\"CfiCode\"\u001b[39;49;00m: \u001b[33m\"DBXXXX\"\u001b[39;49;00m\n                },\n                \u001b[94m\"AssetStatus\"\u001b[39;49;00m: {\n                    \u001b[94m\"AssetStatusCode\"\u001b[39;49;00m: \u001b[33m\"ISS\"\u001b[39;49;00m,\n                    \u001b[94m\"AssetStatusCodeDescription\"\u001b[39;49;00m: \u001b[33m\"Issued\"\u001b[39;49;00m,\n                    \u001b[94m\"EffectiveFromDate\"\u001b[39;49;00m: \u001b[33m\"1989-11-16\"\u001b[39;49;00m\n                },\n                \u001b[94m\"CouponRateSchedule\"\u001b[39;49;00m: [\n                    {\n                        \u001b[94m\"CouponRate\"\u001b[39;49;00m: \u001b[33m\"7.85\"\u001b[39;49;00m,\n                        \u001b[94m\"EffectiveFromDate\"\u001b[39;49;00m: \u001b[33m\"1989-11-15\"\u001b[39;49;00m,\n                        \u001b[94m\"InterestLegNumber\"\u001b[39;49;00m: \u001b[34m1\u001b[39;49;00m,\n                        \u001b[94m\"LastChangedDate\"\u001b[39;49;00m: \u001b[33m\"2020-04-06T23:38:56.030Z\"\u001b[39;49;00m\n                    },\n                    \u001b[33m\"...\"\u001b[39;49;00m\n                ],\n                \u001b[94m\"IssuanceDefinition\"\u001b[39;49;00m: [\n                    {\n                        \u001b[94m\"DatedDate\"\u001b[39;49;00m: \u001b[33m\"1989-11-15\"\u001b[39;49;00m,\n                        \u001b[94m\"IssueCurrencyIsoCode\"\u001b[39;49;00m: \u001b[33m\"USD\"\u001b[39;49;00m,\n                        \u001b[94m\"IssueAmount\"\u001b[39;49;00m: \u001b[33m\"150000\"\u001b[39;49;00m\n                    },\n                    \u001b[33m\"...\"\u001b[39;49;00m\n                ],\n                \u001b[94m\"InterestDefinition\"\u001b[39;49;00m: [\n                    {\n                        \u001b[94m\"DayCountCode_v2\"\u001b[39;49;00m: \u001b[33m\"1\"\u001b[39;49;00m,\n                        \u001b[94m\"DayCountCodeDescription\"\u001b[39;49;00m: \u001b[33m\"30/360 US, 30U/360, 30US/360\"\u001b[39;49;00m\n                    },\n                    \u001b[33m\"...\"\u001b[39;49;00m\n                ],\n                \u001b[94m\"AmountOutstandingHistory\"\u001b[39;49;00m: [\n                    {\n                        \u001b[94m\"CurrencyIsoCode\"\u001b[39;49;00m: \u001b[33m\"USD\"\u001b[39;49;00m,\n                        \u001b[94m\"TotalOutstandingAmount\"\u001b[39;49;00m: \u001b[33m\"44704\"\u001b[39;49;00m,\n                        \u001b[94m\"EffectiveFromDate\"\u001b[39;49;00m: \u001b[33m\"2017-12-15\"\u001b[39;49;00m,\n                        \u001b[94m\"NetChangeCode\"\u001b[39;49;00m: \u001b[33m\"MLT\"\u001b[39;49;00m,\n                        \u001b[94m\"NetChangeCodeDescription\"\u001b[39;49;00m: \u001b[33m\"Multiple Actions\"\u001b[39;49;00m\n                    },\n                    \u001b[33m\"...\"\u001b[39;49;00m\n                ],\n                \u001b[94m\"Identifiers\"\u001b[39;49;00m: [\n                    {\n                        \u001b[94m\"EffectiveFromDate\"\u001b[39;49;00m: \u001b[33m\"1991-05-10\"\u001b[39;49;00m,\n                        \u001b[94m\"IdentifierCode\"\u001b[39;49;00m: \u001b[33m\"BDG\"\u001b[39;49;00m,\n                        \u001b[94m\"IdentifierCodeDescription\"\u001b[39;49;00m: \u001b[33m\"Bridge\"\u001b[39;49;00m,\n                        \u001b[94m\"IdentifierValue\"\u001b[39;49;00m: \u001b[33m\"BEL-7.85-1129\"\u001b[39;49;00m\n                    },\n                    \u001b[33m\"...\"\u001b[39;49;00m\n                ],\n                \u001b[94m\"Quotes\"\u001b[39;49;00m: [\n                    {\n                        \u001b[94m\"ObjectId\"\u001b[39;49;00m: \u001b[33m\"34486602836\"\u001b[39;49;00m,\n                        \u001b[94m\"Identifier\"\u001b[39;49;00m: []\n                    },\n                    \u001b[33m\"...\"\u001b[39;49;00m\n                ],\n                \u001b[94m\"Issuer\"\u001b[39;49;00m: {\n                    \u001b[94m\"ObjectId\"\u001b[39;49;00m: \u001b[33m\"4295900570\"\u001b[39;49;00m,\n                    \u001b[94m\"Names\"\u001b[39;49;00m: {\n                        \u001b[94m\"Name\"\u001b[39;49;00m: {\n                            \u001b[94m\"OrganizationName\"\u001b[39;49;00m: [\n                                {\n                                    \u001b[94m\"Name\"\u001b[39;49;00m: \u001b[33m\"VERIZON NEW JERSEY INC.\"\u001b[39;49;00m,\n                                    \u001b[94m\"NameTypeCode\"\u001b[39;49;00m: \u001b[33m\"LNG\"\u001b[39;49;00m,\n                                    \u001b[94m\"NameTypeCodeDescription\"\u001b[39;49;00m: \u001b[33m\"Official Name\"\u001b[39;49;00m\n                                },\n                                \u001b[33m\"...\"\u001b[39;49;00m\n                            ]\n                        }\n                    },\n                    \u001b[94m\"ClassificationTrbcPrimaryScheme_v2\"\u001b[39;49;00m: {\n                        \u001b[94m\"Industry\"\u001b[39;49;00m: {\n                            \u001b[94m\"Name\"\u001b[39;49;00m: \u001b[33m\"Integrated Telecommunications Services (NEC) (Industry) (Trbc) (1811)\"\u001b[39;49;00m\n                        },\n                        \u001b[94m\"Identifier\"\u001b[39;49;00m: {\n                            \u001b[94m\"Identifiers\"\u001b[39;49;00m: [\n                                {\n                                    \u001b[94m\"Value\"\u001b[39;49;00m: \u001b[33m\"5740101010\"\u001b[39;49;00m,\n                                    \u001b[94m\"ValueTypeCode\"\u001b[39;49;00m: \u001b[33m\"Trbc\"\u001b[39;49;00m,\n                                    \u001b[94m\"ValueTypeId\"\u001b[39;49;00m: \u001b[33m\"320159\"\u001b[39;49;00m\n                                },\n                                \u001b[33m\"...\"\u001b[39;49;00m\n                            ]\n                        }\n                    },\n                    \u001b[94m\"Details\"\u001b[39;49;00m: {\n                        \u001b[94m\"OrganizationDetails\"\u001b[39;49;00m: {\n                            \u001b[94m\"JurisdictionOfIncorporation\"\u001b[39;49;00m: \u001b[33m\"NEW JERSEY\"\u001b[39;49;00m,\n                            \u001b[94m\"OrganizationTier\"\u001b[39;49;00m: \u001b[34m1\u001b[39;49;00m,\n                            \u001b[94m\"OrganizationTypeCode\"\u001b[39;49;00m: \u001b[33m\"Company\"\u001b[39;49;00m,\n                            \u001b[94m\"OrganizationSubTypeCode\"\u001b[39;49;00m: \u001b[33m\"Operating Company\"\u001b[39;49;00m,\n                            \u001b[94m\"OrganizationStatusCode\"\u001b[39;49;00m: \u001b[33m\"Act\"\u001b[39;49;00m,\n                            \u001b[94m\"OrganizationStatusCodeDescription\"\u001b[39;49;00m: \u001b[33m\"Active\"\u001b[39;49;00m\n                        }\n                    },\n                    \u001b[94m\"UltimateParentId\"\u001b[39;49;00m: \u001b[33m\"4295911976\"\u001b[39;49;00m\n                }\n            },\n            \u001b[33m\"...\"\u001b[39;49;00m\n        ]\n    }\n}\n"
      ]
     },
     "metadata": {},
     "output_type": "display_data"
    }
   ],
   "source": [
    "output_format = 'json'  # available: json\n",
    "%run ../config_files/config_request_handler.ipynb"
   ]
  },
  {
   "cell_type": "markdown",
   "id": "1e4413fc",
   "metadata": {},
   "source": [
    "## Sample :  Query demonstrates how using a list of Cusips"
   ]
  },
  {
   "cell_type": "code",
   "execution_count": null,
   "id": "0bd6f711",
   "metadata": {},
   "outputs": [],
   "source": [
    "\n",
    "variables = {'identifierTypeName': 'Cusip', 'identifier': '36966TDN9'}"
   ]
  },
  {
   "cell_type": "code",
   "execution_count": 3,
   "id": "8f27d55d",
   "metadata": {},
   "outputs": [
    {
     "data": {
      "text/plain": [
       "{\n    \u001b[94m\"data\"\u001b[39;49;00m: {\n        \u001b[94m\"GovCorpInstrument\"\u001b[39;49;00m: [\n            {\n                \u001b[94m\"ObjectId\"\u001b[39;49;00m: \u001b[33m\"15628303271\"\u001b[39;49;00m,\n                \u001b[94m\"_metadata\"\u001b[39;49;00m: {\n                    \u001b[94m\"identifierTypeName\"\u001b[39;49;00m: \u001b[33m\"Isin\"\u001b[39;49;00m,\n                    \u001b[94m\"identifier\"\u001b[39;49;00m: \u001b[33m\"US645767AW49\"\u001b[39;49;00m\n                },\n                \u001b[94m\"Reference\"\u001b[39;49;00m: {\n                    \u001b[94m\"SecurityDescription\"\u001b[39;49;00m: \u001b[33m\"VZ     7.850 11/15/29 PUT\"\u001b[39;49;00m,\n                    \u001b[94m\"MaturityDate\"\u001b[39;49;00m: \u001b[33m\"2029-11-15\"\u001b[39;49;00m,\n                    \u001b[94m\"CouponTypeCode\"\u001b[39;49;00m: \u001b[33m\"FXPV\"\u001b[39;49;00m,\n                    \u001b[94m\"CouponTypeCodeDescription\"\u001b[39;49;00m: \u001b[33m\"Fixed:Plain Vanilla Fixed Coupon\"\u001b[39;49;00m,\n                    \u001b[94m\"Cic\"\u001b[39;49;00m: \u001b[33m\"US29\"\u001b[39;49;00m,\n                    \u001b[94m\"CfiCode\"\u001b[39;49;00m: \u001b[33m\"DBXXXX\"\u001b[39;49;00m\n                },\n                \u001b[94m\"AssetStatus\"\u001b[39;49;00m: {\n                    \u001b[94m\"AssetStatusCode\"\u001b[39;49;00m: \u001b[33m\"ISS\"\u001b[39;49;00m,\n                    \u001b[94m\"AssetStatusCodeDescription\"\u001b[39;49;00m: \u001b[33m\"Issued\"\u001b[39;49;00m,\n                    \u001b[94m\"EffectiveFromDate\"\u001b[39;49;00m: \u001b[33m\"1989-11-16\"\u001b[39;49;00m\n                },\n                \u001b[94m\"CouponRateSchedule\"\u001b[39;49;00m: [\n                    {\n                        \u001b[94m\"CouponRate\"\u001b[39;49;00m: \u001b[33m\"7.85\"\u001b[39;49;00m,\n                        \u001b[94m\"EffectiveFromDate\"\u001b[39;49;00m: \u001b[33m\"1989-11-15\"\u001b[39;49;00m,\n                        \u001b[94m\"InterestLegNumber\"\u001b[39;49;00m: \u001b[34m1\u001b[39;49;00m,\n                        \u001b[94m\"LastChangedDate\"\u001b[39;49;00m: \u001b[33m\"2020-04-06T23:38:56.030Z\"\u001b[39;49;00m\n                    },\n                    \u001b[33m\"...\"\u001b[39;49;00m\n                ],\n                \u001b[94m\"IssuanceDefinition\"\u001b[39;49;00m: [\n                    {\n                        \u001b[94m\"DatedDate\"\u001b[39;49;00m: \u001b[33m\"1989-11-15\"\u001b[39;49;00m,\n                        \u001b[94m\"IssueCurrencyIsoCode\"\u001b[39;49;00m: \u001b[33m\"USD\"\u001b[39;49;00m,\n                        \u001b[94m\"IssueAmount\"\u001b[39;49;00m: \u001b[33m\"150000\"\u001b[39;49;00m\n                    },\n                    \u001b[33m\"...\"\u001b[39;49;00m\n                ],\n                \u001b[94m\"InterestDefinition\"\u001b[39;49;00m: [\n                    {\n                        \u001b[94m\"DayCountCode_v2\"\u001b[39;49;00m: \u001b[33m\"1\"\u001b[39;49;00m,\n                        \u001b[94m\"DayCountCodeDescription\"\u001b[39;49;00m: \u001b[33m\"30/360 US, 30U/360, 30US/360\"\u001b[39;49;00m\n                    },\n                    \u001b[33m\"...\"\u001b[39;49;00m\n                ],\n                \u001b[94m\"AmountOutstandingHistory\"\u001b[39;49;00m: [\n                    {\n                        \u001b[94m\"CurrencyIsoCode\"\u001b[39;49;00m: \u001b[33m\"USD\"\u001b[39;49;00m,\n                        \u001b[94m\"TotalOutstandingAmount\"\u001b[39;49;00m: \u001b[33m\"44704\"\u001b[39;49;00m,\n                        \u001b[94m\"EffectiveFromDate\"\u001b[39;49;00m: \u001b[33m\"2017-12-15\"\u001b[39;49;00m,\n                        \u001b[94m\"NetChangeCode\"\u001b[39;49;00m: \u001b[33m\"MLT\"\u001b[39;49;00m,\n                        \u001b[94m\"NetChangeCodeDescription\"\u001b[39;49;00m: \u001b[33m\"Multiple Actions\"\u001b[39;49;00m\n                    },\n                    \u001b[33m\"...\"\u001b[39;49;00m\n                ],\n                \u001b[94m\"Identifiers\"\u001b[39;49;00m: [\n                    {\n                        \u001b[94m\"EffectiveFromDate\"\u001b[39;49;00m: \u001b[33m\"1991-05-10\"\u001b[39;49;00m,\n                        \u001b[94m\"IdentifierCode\"\u001b[39;49;00m: \u001b[33m\"BDG\"\u001b[39;49;00m,\n                        \u001b[94m\"IdentifierCodeDescription\"\u001b[39;49;00m: \u001b[33m\"Bridge\"\u001b[39;49;00m,\n                        \u001b[94m\"IdentifierValue\"\u001b[39;49;00m: \u001b[33m\"BEL-7.85-1129\"\u001b[39;49;00m\n                    },\n                    \u001b[33m\"...\"\u001b[39;49;00m\n                ],\n                \u001b[94m\"Quotes\"\u001b[39;49;00m: [\n                    {\n                        \u001b[94m\"ObjectId\"\u001b[39;49;00m: \u001b[33m\"34486602836\"\u001b[39;49;00m,\n                        \u001b[94m\"Identifier\"\u001b[39;49;00m: []\n                    },\n                    \u001b[33m\"...\"\u001b[39;49;00m\n                ],\n                \u001b[94m\"Issuer\"\u001b[39;49;00m: {\n                    \u001b[94m\"ObjectId\"\u001b[39;49;00m: \u001b[33m\"4295900570\"\u001b[39;49;00m,\n                    \u001b[94m\"Names\"\u001b[39;49;00m: {\n                        \u001b[94m\"Name\"\u001b[39;49;00m: {\n                            \u001b[94m\"OrganizationName\"\u001b[39;49;00m: [\n                                {\n                                    \u001b[94m\"Name\"\u001b[39;49;00m: \u001b[33m\"VERIZON NEW JERSEY INC.\"\u001b[39;49;00m,\n                                    \u001b[94m\"NameTypeCode\"\u001b[39;49;00m: \u001b[33m\"LNG\"\u001b[39;49;00m,\n                                    \u001b[94m\"NameTypeCodeDescription\"\u001b[39;49;00m: \u001b[33m\"Official Name\"\u001b[39;49;00m\n                                },\n                                \u001b[33m\"...\"\u001b[39;49;00m\n                            ]\n                        }\n                    },\n                    \u001b[94m\"ClassificationTrbcPrimaryScheme_v2\"\u001b[39;49;00m: {\n                        \u001b[94m\"Industry\"\u001b[39;49;00m: {\n                            \u001b[94m\"Name\"\u001b[39;49;00m: \u001b[33m\"Integrated Telecommunications Services (NEC) (Industry) (Trbc) (1811)\"\u001b[39;49;00m\n                        },\n                        \u001b[94m\"Identifier\"\u001b[39;49;00m: {\n                            \u001b[94m\"Identifiers\"\u001b[39;49;00m: [\n                                {\n                                    \u001b[94m\"Value\"\u001b[39;49;00m: \u001b[33m\"5740101010\"\u001b[39;49;00m,\n                                    \u001b[94m\"ValueTypeCode\"\u001b[39;49;00m: \u001b[33m\"Trbc\"\u001b[39;49;00m,\n                                    \u001b[94m\"ValueTypeId\"\u001b[39;49;00m: \u001b[33m\"320159\"\u001b[39;49;00m\n                                },\n                                \u001b[33m\"...\"\u001b[39;49;00m\n                            ]\n                        }\n                    },\n                    \u001b[94m\"Details\"\u001b[39;49;00m: {\n                        \u001b[94m\"OrganizationDetails\"\u001b[39;49;00m: {\n                            \u001b[94m\"JurisdictionOfIncorporation\"\u001b[39;49;00m: \u001b[33m\"NEW JERSEY\"\u001b[39;49;00m,\n                            \u001b[94m\"OrganizationTier\"\u001b[39;49;00m: \u001b[34m1\u001b[39;49;00m,\n                            \u001b[94m\"OrganizationTypeCode\"\u001b[39;49;00m: \u001b[33m\"Company\"\u001b[39;49;00m,\n                            \u001b[94m\"OrganizationSubTypeCode\"\u001b[39;49;00m: \u001b[33m\"Operating Company\"\u001b[39;49;00m,\n                            \u001b[94m\"OrganizationStatusCode\"\u001b[39;49;00m: \u001b[33m\"Act\"\u001b[39;49;00m,\n                            \u001b[94m\"OrganizationStatusCodeDescription\"\u001b[39;49;00m: \u001b[33m\"Active\"\u001b[39;49;00m\n                        }\n                    },\n                    \u001b[94m\"UltimateParentId\"\u001b[39;49;00m: \u001b[33m\"4295911976\"\u001b[39;49;00m\n                }\n            },\n            \u001b[33m\"...\"\u001b[39;49;00m\n        ]\n    }\n}\n"
      ]
     },
     "metadata": {},
     "output_type": "display_data"
    }
   ],
   "source": [
    "output_format = 'json'  # available: json\n",
    "%run ../config_files/config_request_handler.ipynb"
   ]
  },
  {
   "cell_type": "markdown",
   "id": "4210283f",
   "metadata": {},
   "source": [
    "## Close the default session when done"
   ]
  },
  {
   "cell_type": "code",
   "execution_count": null,
   "id": "704efbd0",
   "metadata": {},
   "outputs": [],
   "source": [
    "session.close()"
   ]
  }
 ],
 "metadata": {},
 "nbformat": 4,
 "nbformat_minor": 5
}
