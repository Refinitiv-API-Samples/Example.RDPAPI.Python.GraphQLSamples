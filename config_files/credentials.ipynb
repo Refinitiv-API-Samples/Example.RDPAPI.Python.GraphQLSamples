{
 "cells": [
  {
   "cell_type": "code",
   "execution_count": 3,
   "id": "0b2389fb",
   "metadata": {},
   "outputs": [],
   "source": [
    "import os\n",
    "#Enter your credentials while keeping the quotes\n",
    "APP_KEY = ''\n",
    "RD_LOGIN = ''\n",
    "RD_PASSWORD = ''\n",
    "\n",
    "\n"
   ]
  },
  {
   "cell_type": "code",
   "execution_count": null,
   "id": "c32a924c",
   "metadata": {},
   "outputs": [],
   "source": []
  }
 ],
 "metadata": {
  "kernelspec": {
   "display_name": "Python 3 (ipykernel)",
   "language": "python",
   "name": "python3"
  },
  "language_info": {
   "codemirror_mode": {
    "name": "ipython",
    "version": 3
   },
   "file_extension": ".py",
   "mimetype": "text/x-python",
   "name": "python",
   "nbconvert_exporter": "python",
   "pygments_lexer": "ipython3",
   "version": "3.9.6"
  }
 },
 "nbformat": 4,
 "nbformat_minor": 5
}
